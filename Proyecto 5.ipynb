{
 "cells": [
  {
   "cell_type": "markdown",
   "metadata": {
    "id": "3rYiDeEH0q0f"
   },
   "source": [
    "# ¿Cuál es la mejor tarifa?\n",
    "\n",
    "Trabajas como analista para el operador de telecomunicaciones Megaline. La empresa ofrece a sus clientes dos tarifas de prepago, Surf y Ultimate. El departamento comercial quiere saber cuál de las tarifas genera más ingresos para poder ajustar el presupuesto de publicidad.\n",
    "\n",
    "Vas a realizar un análisis preliminar de las tarifas basado en una selección de clientes relativamente pequeña. Tendrás los datos de 500 clientes de Megaline: quiénes son los clientes, de dónde son, qué tarifa usan, así como la cantidad de llamadas que hicieron y los mensajes de texto que enviaron en 2018. Tu trabajo es analizar el comportamiento de los clientes y determinar qué tarifa de prepago genera más ingresos."
   ]
  },
  {
   "cell_type": "markdown",
   "metadata": {
    "id": "VNddPNRQ0q0w"
   },
   "source": [
    "[Te proporcionamos algunos comentarios para orientarte mientras completas este proyecto. Pero debes asegurarte de eliminar todos los comentarios entre corchetes antes de entregar tu proyecto.]\n",
    "\n",
    "[Antes de sumergirte en el análisis de datos, explica por tu propia cuenta el propósito del proyecto y las acciones que planeas realizar.]\n",
    "\n",
    "[Ten en cuenta que estudiar, modificar y analizar datos es un proceso iterativo. Es normal volver a los pasos anteriores y corregirlos/ampliarlos para permitir nuevos pasos.]"
   ]
  },
  {
   "cell_type": "markdown",
   "metadata": {
    "id": "MQi4IPy70q0y"
   },
   "source": [
    "## Inicialización"
   ]
  },
  {
   "cell_type": "code",
   "execution_count": 2,
   "metadata": {
    "id": "MtYIuBxu0q0z"
   },
   "outputs": [],
   "source": [
    "# Cargar todas las librerías\n",
    "import pandas as pd\n",
    "import numpy as np\n",
    "import matplotlib.pyplot as plt\n",
    "from scipy import stats as st"
   ]
  },
  {
   "cell_type": "markdown",
   "metadata": {
    "id": "4ysWWC5i0q00"
   },
   "source": [
    "## Cargar datos"
   ]
  },
  {
   "cell_type": "code",
   "execution_count": 3,
   "metadata": {
    "id": "CCqPW7rS0q01"
   },
   "outputs": [],
   "source": [
    "# Carga los archivos de datos en diferentes DataFrames\n",
    "calls = pd.read_csv('Datos/Proyecto5/megaline_calls.csv')\n",
    "internet = pd.read_csv('Datos/Proyecto5/megaline_internet.csv')\n",
    "messages = pd.read_csv('Datos/Proyecto5/megaline_messages.csv')\n",
    "plans = pd.read_csv('Datos/Proyecto5/megaline_plans.csv')\n",
    "users = pd.read_csv('Datos/Proyecto5/megaline_users.csv')"
   ]
  },
  {
   "cell_type": "markdown",
   "metadata": {
    "id": "69qqoJ3r0q01"
   },
   "source": [
    "## Preparar los datos"
   ]
  },
  {
   "cell_type": "markdown",
   "metadata": {
    "id": "vUuZw80S0q01"
   },
   "source": [
    "[Los datos para este proyecto se dividen en varias tablas. Explora cada una para tener una comprensión inicial de los datos. Si es necesario, haz las correcciones requeridas en cada tabla.]"
   ]
  },
  {
   "cell_type": "markdown",
   "metadata": {
    "id": "ohBhimvH0q01"
   },
   "source": [
    "## Tarifas"
   ]
  },
  {
   "cell_type": "code",
   "execution_count": 4,
   "metadata": {
    "id": "GptqP3Q40q02"
   },
   "outputs": [
    {
     "name": "stdout",
     "output_type": "stream",
     "text": [
      "<class 'pandas.core.frame.DataFrame'>\n",
      "RangeIndex: 2 entries, 0 to 1\n",
      "Data columns (total 8 columns):\n",
      " #   Column                 Non-Null Count  Dtype  \n",
      "---  ------                 --------------  -----  \n",
      " 0   messages_included      2 non-null      int64  \n",
      " 1   mb_per_month_included  2 non-null      int64  \n",
      " 2   minutes_included       2 non-null      int64  \n",
      " 3   usd_monthly_pay        2 non-null      int64  \n",
      " 4   usd_per_gb             2 non-null      int64  \n",
      " 5   usd_per_message        2 non-null      float64\n",
      " 6   usd_per_minute         2 non-null      float64\n",
      " 7   plan_name              2 non-null      object \n",
      "dtypes: float64(2), int64(5), object(1)\n",
      "memory usage: 260.0+ bytes\n"
     ]
    }
   ],
   "source": [
    "# Imprime la información general/resumida sobre el DataFrame de las tarifas\n",
    "plans.info()"
   ]
  },
  {
   "cell_type": "code",
   "execution_count": 5,
   "metadata": {
    "id": "64xzjwL70q02"
   },
   "outputs": [
    {
     "name": "stdout",
     "output_type": "stream",
     "text": [
      "   messages_included  mb_per_month_included  minutes_included  \\\n",
      "0                 50                  15360               500   \n",
      "1               1000                  30720              3000   \n",
      "\n",
      "   usd_monthly_pay  usd_per_gb  usd_per_message  usd_per_minute plan_name  \n",
      "0               20          10             0.03            0.03      surf  \n",
      "1               70           7             0.01            0.01  ultimate  \n"
     ]
    }
   ],
   "source": [
    "# Imprime una muestra de los datos para las tarifas\n",
    "print(plans.head())"
   ]
  },
  {
   "cell_type": "markdown",
   "metadata": {
    "id": "mEc_3_hs0q02"
   },
   "source": [
    "[Describe lo que ves y observas en la información general y en la muestra de datos impresa para el precio de datos anterior. ¿Hay algún problema (tipos de datos no adecuados, datos ausentes, etc.) que pudieran necesitar investigación y cambios adicionales? ¿Cómo se puede arreglar?]"
   ]
  },
  {
   "cell_type": "markdown",
   "metadata": {},
   "source": [
    "\"usd_monthly_pay\" y \"usd_per_gb\" son int64, mientras que los demas datos con \"usd\" son float, aun que el datos son tecnicamente correctos, es posible que los precios por gb cambien, y posiblemente necesite añadir centavos. La paga mensual es la misma historia, a veces se tiene que pagar con centavos incluidos.\n",
    "\n",
    "Plan name necesita ser string"
   ]
  },
  {
   "cell_type": "markdown",
   "metadata": {
    "id": "R3C05i1l0q03"
   },
   "source": [
    "## Corregir datos"
   ]
  },
  {
   "cell_type": "markdown",
   "metadata": {
    "id": "bIi8StZI0q03"
   },
   "source": [
    "[Corrige los problemas obvios con los datos basándote en las observaciones iniciales.]"
   ]
  },
  {
   "cell_type": "code",
   "execution_count": 6,
   "metadata": {
    "id": "Y7SVmjGn0q03"
   },
   "outputs": [],
   "source": [
    "# Cambiar las columnas a tipo float\n",
    "plans['usd_monthly_pay'] = plans['usd_monthly_pay'].astype(float)\n",
    "plans['usd_per_gb'] = plans['usd_per_gb'].astype(float)\n",
    "plans['plan_name'] = plans['plan_name'].astype('string')"
   ]
  },
  {
   "cell_type": "markdown",
   "metadata": {
    "id": "LJir7bml0q03"
   },
   "source": [
    "## Enriquecer los datos"
   ]
  },
  {
   "cell_type": "markdown",
   "metadata": {
    "id": "eqADpCfg0q04"
   },
   "source": [
    "[Agrega factores adicionales a los datos si crees que pudieran ser útiles.]"
   ]
  },
  {
   "cell_type": "code",
   "execution_count": 7,
   "metadata": {
    "id": "gfcIEuXV0q04"
   },
   "outputs": [
    {
     "name": "stdout",
     "output_type": "stream",
     "text": [
      "<class 'pandas.core.frame.DataFrame'>\n",
      "RangeIndex: 2 entries, 0 to 1\n",
      "Data columns (total 11 columns):\n",
      " #   Column                 Non-Null Count  Dtype  \n",
      "---  ------                 --------------  -----  \n",
      " 0   messages_included      2 non-null      int64  \n",
      " 1   mb_per_month_included  2 non-null      int64  \n",
      " 2   minutes_included       2 non-null      int64  \n",
      " 3   usd_monthly_pay        2 non-null      float64\n",
      " 4   usd_per_gb             2 non-null      float64\n",
      " 5   usd_per_message        2 non-null      float64\n",
      " 6   usd_per_minute         2 non-null      float64\n",
      " 7   plan_name              2 non-null      string \n",
      " 8   usd_per_gb_ratio       2 non-null      float64\n",
      " 9   expected_minutes       2 non-null      float64\n",
      " 10  expected_data_usage    2 non-null      float64\n",
      "dtypes: float64(7), int64(3), string(1)\n",
      "memory usage: 308.0 bytes\n",
      "   messages_included  mb_per_month_included  minutes_included  \\\n",
      "0                 50                  15360               500   \n",
      "1               1000                  30720              3000   \n",
      "\n",
      "   usd_monthly_pay  usd_per_gb  usd_per_message  usd_per_minute plan_name  \\\n",
      "0             20.0        10.0             0.03            0.03      surf   \n",
      "1             70.0         7.0             0.01            0.01  ultimate   \n",
      "\n",
      "   usd_per_gb_ratio  expected_minutes  expected_data_usage  \n",
      "0          0.666667      3.333333e+05                 30.0  \n",
      "1          0.233333      2.100000e+07                300.0  \n"
     ]
    }
   ],
   "source": [
    "plans['usd_per_gb_ratio'] = plans['usd_per_gb'] / (plans['mb_per_month_included'] / 1024)\n",
    "plans['expected_minutes'] = plans['minutes_included'] * (plans['usd_monthly_pay'] / plans['usd_per_minute'])\n",
    "plans['expected_data_usage'] = (plans['mb_per_month_included'] / 1024) * (plans['usd_monthly_pay'] / plans['usd_per_gb'])\n",
    "plans.info()\n",
    "print(plans.head())"
   ]
  },
  {
   "cell_type": "markdown",
   "metadata": {
    "id": "1n2X6WXf0q04"
   },
   "source": [
    "## Usuarios/as"
   ]
  },
  {
   "cell_type": "code",
   "execution_count": 8,
   "metadata": {
    "id": "2NgjWFqx0q05"
   },
   "outputs": [
    {
     "name": "stdout",
     "output_type": "stream",
     "text": [
      "<class 'pandas.core.frame.DataFrame'>\n",
      "RangeIndex: 500 entries, 0 to 499\n",
      "Data columns (total 8 columns):\n",
      " #   Column      Non-Null Count  Dtype \n",
      "---  ------      --------------  ----- \n",
      " 0   user_id     500 non-null    int64 \n",
      " 1   first_name  500 non-null    object\n",
      " 2   last_name   500 non-null    object\n",
      " 3   age         500 non-null    int64 \n",
      " 4   city        500 non-null    object\n",
      " 5   reg_date    500 non-null    object\n",
      " 6   plan        500 non-null    object\n",
      " 7   churn_date  34 non-null     object\n",
      "dtypes: int64(2), object(6)\n",
      "memory usage: 31.4+ KB\n"
     ]
    }
   ],
   "source": [
    "# Imprime la información general/resumida sobre el DataFrame de usuarios\n",
    "users.info()"
   ]
  },
  {
   "cell_type": "code",
   "execution_count": 9,
   "metadata": {
    "id": "1IN1L9uh0q05"
   },
   "outputs": [
    {
     "name": "stdout",
     "output_type": "stream",
     "text": [
      "   user_id first_name  last_name  age                                    city  \\\n",
      "0     1000   Anamaria      Bauer   45   Atlanta-Sandy Springs-Roswell, GA MSA   \n",
      "1     1001     Mickey  Wilkerson   28         Seattle-Tacoma-Bellevue, WA MSA   \n",
      "2     1002     Carlee    Hoffman   36    Las Vegas-Henderson-Paradise, NV MSA   \n",
      "3     1003   Reynaldo    Jenkins   52                           Tulsa, OK MSA   \n",
      "4     1004    Leonila   Thompson   40         Seattle-Tacoma-Bellevue, WA MSA   \n",
      "5     1005      Livia    Shields   31     Dallas-Fort Worth-Arlington, TX MSA   \n",
      "6     1006     Jesusa   Bradford   73  San Francisco-Oakland-Berkeley, CA MSA   \n",
      "7     1007    Eusebio      Welch   42           Grand Rapids-Kentwood, MI MSA   \n",
      "8     1008      Emely    Hoffman   53       Orlando-Kissimmee-Sanford, FL MSA   \n",
      "9     1009      Gerry     Little   19  San Jose-Sunnyvale-Santa Clara, CA MSA   \n",
      "\n",
      "     reg_date      plan  churn_date  \n",
      "0  2018-12-24  ultimate         NaN  \n",
      "1  2018-08-13      surf         NaN  \n",
      "2  2018-10-21      surf         NaN  \n",
      "3  2018-01-28      surf         NaN  \n",
      "4  2018-05-23      surf         NaN  \n",
      "5  2018-11-29      surf         NaN  \n",
      "6  2018-11-27  ultimate  2018-12-18  \n",
      "7  2018-07-11      surf         NaN  \n",
      "8  2018-08-03  ultimate         NaN  \n",
      "9  2018-04-22      surf         NaN  \n"
     ]
    }
   ],
   "source": [
    "# Imprime una muestra de datos para usuarios\n",
    "\n",
    "print(users.head(10).drop_duplicates())"
   ]
  },
  {
   "cell_type": "markdown",
   "metadata": {
    "id": "dCZoUq4f0q06"
   },
   "source": [
    "[Describe lo que ves y observas en la información general y en la muestra de datos impresa para el precio de datos anterior. ¿Hay algún problema (tipos de datos no adecuados, datos ausentes, etc.) que pudieran necesitar investigación y cambios adicionales? ¿Cómo se puede arreglar?]"
   ]
  },
  {
   "cell_type": "markdown",
   "metadata": {},
   "source": [
    " User id esta correcto. First name, Last name, City y Plan necesita ser String. Reg date y churn date necesitan ser fechas.\n",
    " Esos son todos los problemas claros a plena vista"
   ]
  },
  {
   "cell_type": "markdown",
   "metadata": {
    "id": "BX5FQh_I0q06"
   },
   "source": [
    "### Corregir los datos"
   ]
  },
  {
   "cell_type": "markdown",
   "metadata": {
    "id": "8OdKMwJv0q06"
   },
   "source": [
    "[Corrige los problemas obvios con los datos basándote en las observaciones iniciales.]"
   ]
  },
  {
   "cell_type": "code",
   "execution_count": 10,
   "metadata": {
    "id": "yUqX-K0C0q07"
   },
   "outputs": [
    {
     "name": "stdout",
     "output_type": "stream",
     "text": [
      "<class 'pandas.core.frame.DataFrame'>\n",
      "RangeIndex: 500 entries, 0 to 499\n",
      "Data columns (total 8 columns):\n",
      " #   Column      Non-Null Count  Dtype         \n",
      "---  ------      --------------  -----         \n",
      " 0   user_id     500 non-null    int64         \n",
      " 1   first_name  500 non-null    string        \n",
      " 2   last_name   500 non-null    string        \n",
      " 3   age         500 non-null    int64         \n",
      " 4   city        500 non-null    string        \n",
      " 5   reg_date    500 non-null    datetime64[ns]\n",
      " 6   plan        500 non-null    string        \n",
      " 7   churn_date  34 non-null     datetime64[ns]\n",
      "dtypes: datetime64[ns](2), int64(2), string(4)\n",
      "memory usage: 31.4 KB\n",
      "   user_id first_name  last_name  age                                    city  \\\n",
      "0     1000   Anamaria      Bauer   45   Atlanta-Sandy Springs-Roswell, GA MSA   \n",
      "1     1001     Mickey  Wilkerson   28         Seattle-Tacoma-Bellevue, WA MSA   \n",
      "2     1002     Carlee    Hoffman   36    Las Vegas-Henderson-Paradise, NV MSA   \n",
      "3     1003   Reynaldo    Jenkins   52                           Tulsa, OK MSA   \n",
      "4     1004    Leonila   Thompson   40         Seattle-Tacoma-Bellevue, WA MSA   \n",
      "5     1005      Livia    Shields   31     Dallas-Fort Worth-Arlington, TX MSA   \n",
      "6     1006     Jesusa   Bradford   73  San Francisco-Oakland-Berkeley, CA MSA   \n",
      "7     1007    Eusebio      Welch   42           Grand Rapids-Kentwood, MI MSA   \n",
      "8     1008      Emely    Hoffman   53       Orlando-Kissimmee-Sanford, FL MSA   \n",
      "9     1009      Gerry     Little   19  San Jose-Sunnyvale-Santa Clara, CA MSA   \n",
      "\n",
      "    reg_date      plan churn_date  \n",
      "0 2018-12-24  ultimate        NaT  \n",
      "1 2018-08-13      surf        NaT  \n",
      "2 2018-10-21      surf        NaT  \n",
      "3 2018-01-28      surf        NaT  \n",
      "4 2018-05-23      surf        NaT  \n",
      "5 2018-11-29      surf        NaT  \n",
      "6 2018-11-27  ultimate 2018-12-18  \n",
      "7 2018-07-11      surf        NaT  \n",
      "8 2018-08-03  ultimate        NaT  \n",
      "9 2018-04-22      surf        NaT  \n"
     ]
    }
   ],
   "source": [
    "# Convertir las columnas a tipo string\n",
    "users['first_name'] = users['first_name'].astype('string')\n",
    "users['last_name'] = users['last_name'].astype('string')\n",
    "users['city'] = users['city'].astype('string')\n",
    "users['plan'] = users['plan'].astype('string')\n",
    "\n",
    "# Convertir las columnas de fecha a tipo datetime\n",
    "users['reg_date'] = pd.to_datetime(users['reg_date'], errors='coerce')\n",
    "users['churn_date'] = pd.to_datetime(users['churn_date'], errors='coerce')\n",
    "\n",
    "# Verificar los cambios\n",
    "users.info()\n",
    "print(users.head(10))"
   ]
  },
  {
   "cell_type": "markdown",
   "metadata": {
    "id": "ycwuARJp0q07"
   },
   "source": [
    "### Enriquecer los datos"
   ]
  },
  {
   "cell_type": "markdown",
   "metadata": {
    "id": "96NIh4CJ0q08"
   },
   "source": [
    "[Agrega factores adicionales a los datos si crees que pudieran ser útiles.]"
   ]
  },
  {
   "cell_type": "code",
   "execution_count": 11,
   "metadata": {
    "id": "iq0AaBS90q08"
   },
   "outputs": [
    {
     "name": "stdout",
     "output_type": "stream",
     "text": [
      "   user_id first_name  last_name  age                                    city  \\\n",
      "0     1000   Anamaria      Bauer   45   Atlanta-Sandy Springs-Roswell, GA MSA   \n",
      "1     1001     Mickey  Wilkerson   28         Seattle-Tacoma-Bellevue, WA MSA   \n",
      "2     1002     Carlee    Hoffman   36    Las Vegas-Henderson-Paradise, NV MSA   \n",
      "3     1003   Reynaldo    Jenkins   52                           Tulsa, OK MSA   \n",
      "4     1004    Leonila   Thompson   40         Seattle-Tacoma-Bellevue, WA MSA   \n",
      "5     1005      Livia    Shields   31     Dallas-Fort Worth-Arlington, TX MSA   \n",
      "6     1006     Jesusa   Bradford   73  San Francisco-Oakland-Berkeley, CA MSA   \n",
      "7     1007    Eusebio      Welch   42           Grand Rapids-Kentwood, MI MSA   \n",
      "8     1008      Emely    Hoffman   53       Orlando-Kissimmee-Sanford, FL MSA   \n",
      "9     1009      Gerry     Little   19  San Jose-Sunnyvale-Santa Clara, CA MSA   \n",
      "\n",
      "    reg_date      plan churn_date age_group  \n",
      "0 2018-12-24  ultimate        NaT    Adulto  \n",
      "1 2018-08-13      surf        NaT     Joven  \n",
      "2 2018-10-21      surf        NaT    Adulto  \n",
      "3 2018-01-28      surf        NaT    Adulto  \n",
      "4 2018-05-23      surf        NaT    Adulto  \n",
      "5 2018-11-29      surf        NaT    Adulto  \n",
      "6 2018-11-27  ultimate 2018-12-18    Senior  \n",
      "7 2018-07-11      surf        NaT    Adulto  \n",
      "8 2018-08-03  ultimate        NaT    Adulto  \n",
      "9 2018-04-22      surf        NaT     Joven  \n"
     ]
    }
   ],
   "source": [
    "# 1. Segmentación por edad\n",
    "bins = [0, 30, 60, np.inf]\n",
    "labels = ['Joven', 'Adulto', 'Senior']\n",
    "users['age_group'] = pd.cut(users['age'], bins=bins, labels=labels, right=False)\n",
    "\n",
    "# Verificar los cambios\n",
    "print(users.head(10))"
   ]
  },
  {
   "cell_type": "markdown",
   "metadata": {
    "id": "o7MeKCid0q08"
   },
   "source": [
    "## Llamadas"
   ]
  },
  {
   "cell_type": "code",
   "execution_count": 12,
   "metadata": {
    "id": "6dDlnoDm0q08"
   },
   "outputs": [
    {
     "name": "stdout",
     "output_type": "stream",
     "text": [
      "<class 'pandas.core.frame.DataFrame'>\n",
      "RangeIndex: 137735 entries, 0 to 137734\n",
      "Data columns (total 4 columns):\n",
      " #   Column     Non-Null Count   Dtype  \n",
      "---  ------     --------------   -----  \n",
      " 0   id         137735 non-null  object \n",
      " 1   user_id    137735 non-null  int64  \n",
      " 2   call_date  137735 non-null  object \n",
      " 3   duration   137735 non-null  float64\n",
      "dtypes: float64(1), int64(1), object(2)\n",
      "memory usage: 4.2+ MB\n"
     ]
    }
   ],
   "source": [
    "# Imprime la información general/resumida sobre el DataFrame de las llamadas\n",
    "calls.info()"
   ]
  },
  {
   "cell_type": "code",
   "execution_count": 13,
   "metadata": {
    "id": "kuh1vlNB0q09"
   },
   "outputs": [
    {
     "name": "stdout",
     "output_type": "stream",
     "text": [
      "         id  user_id   call_date  duration\n",
      "0   1000_93     1000  2018-12-27      8.52\n",
      "1  1000_145     1000  2018-12-27     13.66\n",
      "2  1000_247     1000  2018-12-27     14.48\n",
      "3  1000_309     1000  2018-12-28      5.76\n",
      "4  1000_380     1000  2018-12-30      4.22\n",
      "5  1000_388     1000  2018-12-31      2.20\n",
      "6  1000_510     1000  2018-12-27      5.75\n",
      "7  1000_521     1000  2018-12-28     14.18\n",
      "8  1000_530     1000  2018-12-28      5.77\n",
      "9  1000_544     1000  2018-12-26      4.40\n"
     ]
    }
   ],
   "source": [
    "# Imprime una muestra de datos para las llamadas\n",
    "print(calls.head(10))"
   ]
  },
  {
   "cell_type": "markdown",
   "metadata": {
    "id": "DOAxYJSx0q09"
   },
   "source": [
    "[Describe lo que ves y observas en la información general y en la muestra de datos impresa para el precio de datos anterior. ¿Hay algún problema (tipos de datos no adecuados, datos ausentes, etc.) que pudieran necesitar investigación y cambios adicionales? ¿Cómo se puede arreglar?]"
   ]
  },
  {
   "cell_type": "markdown",
   "metadata": {},
   "source": [
    "ID tiene un formato redundante, si el User id es el ID del usuario, el ID debe ser el id de la llamada, por lo que se necesita quitar el id del usuario del id.\n",
    " \n",
    " Call date necesita ser fecha"
   ]
  },
  {
   "cell_type": "markdown",
   "metadata": {
    "id": "S7hzxmbX0q0-"
   },
   "source": [
    "### Corregir los datos"
   ]
  },
  {
   "cell_type": "markdown",
   "metadata": {
    "id": "YxWyAjD20q0-"
   },
   "source": [
    "[Corrige los problemas obvios con los datos basándote en las observaciones iniciales.]"
   ]
  },
  {
   "cell_type": "code",
   "execution_count": 14,
   "metadata": {
    "id": "S2r8xA4f0q0-"
   },
   "outputs": [
    {
     "name": "stdout",
     "output_type": "stream",
     "text": [
      "<class 'pandas.core.frame.DataFrame'>\n",
      "RangeIndex: 137735 entries, 0 to 137734\n",
      "Data columns (total 4 columns):\n",
      " #   Column     Non-Null Count   Dtype         \n",
      "---  ------     --------------   -----         \n",
      " 0   id         137735 non-null  int64         \n",
      " 1   user_id    137735 non-null  int64         \n",
      " 2   call_date  137735 non-null  datetime64[ns]\n",
      " 3   duration   137735 non-null  float64       \n",
      "dtypes: datetime64[ns](1), float64(1), int64(2)\n",
      "memory usage: 4.2 MB\n",
      "\n",
      "    id  user_id  call_date  duration\n",
      "0   93     1000 2018-12-27      8.52\n",
      "1  145     1000 2018-12-27     13.66\n",
      "2  247     1000 2018-12-27     14.48\n",
      "3  309     1000 2018-12-28      5.76\n",
      "4  380     1000 2018-12-30      4.22\n"
     ]
    }
   ],
   "source": [
    "# Eliminar la parte 'xxxx_' de la columna 'id' (donde 'x' es un número) y cambiar a integer\n",
    "calls['id'] = calls['id'].str.replace(r'^\\d+_', '', regex=True)\n",
    "\n",
    "#cambiar los tipos de datos\n",
    "calls['id'] = calls['id'].astype(int)\n",
    "calls['call_date'] = pd.to_datetime(calls['call_date'], errors='coerce')\n",
    "\n",
    "calls.info()\n",
    "print()\n",
    "print(calls.head())"
   ]
  },
  {
   "cell_type": "markdown",
   "metadata": {
    "id": "KrMgTrlG0q0_"
   },
   "source": [
    "### Enriquecer los datos"
   ]
  },
  {
   "cell_type": "markdown",
   "metadata": {
    "id": "a9MbmEvE0q0_"
   },
   "source": [
    "[Agrega factores adicionales a los datos si crees que pudieran ser útiles.]"
   ]
  },
  {
   "cell_type": "markdown",
   "metadata": {
    "id": "iZ1avpA_0q0_"
   },
   "source": [
    "No hay mucha informacion sobre una llamada que valga a pena añadir..."
   ]
  },
  {
   "cell_type": "markdown",
   "metadata": {
    "id": "mOUZSi180q0_"
   },
   "source": [
    "## Mensajes"
   ]
  },
  {
   "cell_type": "code",
   "execution_count": 15,
   "metadata": {
    "id": "R-bYJpdV0q1A"
   },
   "outputs": [
    {
     "name": "stdout",
     "output_type": "stream",
     "text": [
      "<class 'pandas.core.frame.DataFrame'>\n",
      "RangeIndex: 76051 entries, 0 to 76050\n",
      "Data columns (total 3 columns):\n",
      " #   Column        Non-Null Count  Dtype \n",
      "---  ------        --------------  ----- \n",
      " 0   id            76051 non-null  object\n",
      " 1   user_id       76051 non-null  int64 \n",
      " 2   message_date  76051 non-null  object\n",
      "dtypes: int64(1), object(2)\n",
      "memory usage: 1.7+ MB\n"
     ]
    }
   ],
   "source": [
    "# Imprime la información general/resumida sobre el DataFrame de los mensajes\n",
    "messages.info()"
   ]
  },
  {
   "cell_type": "code",
   "execution_count": 16,
   "metadata": {
    "id": "mCEl2iGE0q1A"
   },
   "outputs": [
    {
     "name": "stdout",
     "output_type": "stream",
     "text": [
      "         id  user_id message_date\n",
      "0  1000_125     1000   2018-12-27\n",
      "1  1000_160     1000   2018-12-31\n",
      "2  1000_223     1000   2018-12-31\n",
      "3  1000_251     1000   2018-12-27\n",
      "4  1000_255     1000   2018-12-26\n"
     ]
    }
   ],
   "source": [
    "# Imprime una muestra de datos para los mensajes\n",
    "print(messages.head())"
   ]
  },
  {
   "cell_type": "markdown",
   "metadata": {
    "id": "04xDj7KH0q1A"
   },
   "source": [
    "[Describe lo que ves y observas en la información general y en la muestra de datos impresa para el precio de datos anterior. ¿Hay algún problema (tipos de datos no adecuados, datos ausentes, etc.) que pudieran necesitar investigación y cambios adicionales? ¿Cómo se puede arreglar?]"
   ]
  },
  {
   "cell_type": "markdown",
   "metadata": {},
   "source": [
    "ID tiene el mismo problema que calls tenia, el ID del usuario esta siendo añadida al inicio de su formato, haciendolo redundante.\n",
    "\n",
    "ID necesita ser Int, y message date necesita ser Date"
   ]
  },
  {
   "cell_type": "markdown",
   "metadata": {
    "id": "Sprfak900q1B"
   },
   "source": [
    "### Corregir los datos"
   ]
  },
  {
   "cell_type": "markdown",
   "metadata": {
    "id": "eGw7d9j10q1B"
   },
   "source": [
    "[Corrige los problemas obvios con los datos basándote en las observaciones iniciales.]"
   ]
  },
  {
   "cell_type": "code",
   "execution_count": 17,
   "metadata": {
    "id": "vsllvkoa0q1B"
   },
   "outputs": [
    {
     "name": "stdout",
     "output_type": "stream",
     "text": [
      "<class 'pandas.core.frame.DataFrame'>\n",
      "RangeIndex: 76051 entries, 0 to 76050\n",
      "Data columns (total 3 columns):\n",
      " #   Column        Non-Null Count  Dtype         \n",
      "---  ------        --------------  -----         \n",
      " 0   id            76051 non-null  int64         \n",
      " 1   user_id       76051 non-null  int64         \n",
      " 2   message_date  76051 non-null  datetime64[ns]\n",
      "dtypes: datetime64[ns](1), int64(2)\n",
      "memory usage: 1.7 MB\n",
      "\n",
      "    id  user_id message_date\n",
      "0  125     1000   2018-12-27\n",
      "1  160     1000   2018-12-31\n",
      "2  223     1000   2018-12-31\n",
      "3  251     1000   2018-12-27\n",
      "4  255     1000   2018-12-26\n"
     ]
    }
   ],
   "source": [
    "# Eliminar la parte 'xxxx_' de la columna 'id' (donde 'x' es un número) y cambiar a integer\n",
    "messages['id'] = messages['id'].str.replace(r'^\\d+_', '', regex=True)\n",
    "\n",
    "# Cambiar los tipos de datos\n",
    "messages['id'] = messages['id'].astype(int)\n",
    "messages['message_date'] = pd.to_datetime(messages['message_date'], errors='coerce')\n",
    "\n",
    "# Mostrar la información y los primeros registros\n",
    "messages.info()\n",
    "print()\n",
    "print(messages.head())\n"
   ]
  },
  {
   "cell_type": "markdown",
   "metadata": {
    "id": "HvLid7iD0q1B"
   },
   "source": [
    "### Enriquecer los datos"
   ]
  },
  {
   "cell_type": "markdown",
   "metadata": {
    "id": "8nhPFKIe0q1C"
   },
   "source": [
    "[Agrega factores adicionales a los datos si crees que pudieran ser útiles.]"
   ]
  },
  {
   "cell_type": "markdown",
   "metadata": {
    "id": "zYEXZac10q1C"
   },
   "source": [
    "No hay mas informacion sobre mensajes que valga la pena añadir (a no ser que la longitud del mensaje le sea util a alguien)."
   ]
  },
  {
   "cell_type": "markdown",
   "metadata": {
    "id": "bStkaxn40q1C"
   },
   "source": [
    "## Internet"
   ]
  },
  {
   "cell_type": "code",
   "execution_count": 18,
   "metadata": {
    "id": "e-Uz5qyn0q1C"
   },
   "outputs": [
    {
     "name": "stdout",
     "output_type": "stream",
     "text": [
      "<class 'pandas.core.frame.DataFrame'>\n",
      "RangeIndex: 104825 entries, 0 to 104824\n",
      "Data columns (total 4 columns):\n",
      " #   Column        Non-Null Count   Dtype  \n",
      "---  ------        --------------   -----  \n",
      " 0   id            104825 non-null  object \n",
      " 1   user_id       104825 non-null  int64  \n",
      " 2   session_date  104825 non-null  object \n",
      " 3   mb_used       104825 non-null  float64\n",
      "dtypes: float64(1), int64(1), object(2)\n",
      "memory usage: 3.2+ MB\n"
     ]
    }
   ],
   "source": [
    "# Imprime la información general/resumida sobre el DataFrame de internet\n",
    "internet.info()"
   ]
  },
  {
   "cell_type": "code",
   "execution_count": 19,
   "metadata": {
    "id": "9r3x_XLw0q1C"
   },
   "outputs": [
    {
     "name": "stdout",
     "output_type": "stream",
     "text": [
      "         id  user_id session_date  mb_used\n",
      "0   1000_13     1000   2018-12-29    89.86\n",
      "1  1000_204     1000   2018-12-31     0.00\n",
      "2  1000_379     1000   2018-12-28   660.40\n",
      "3  1000_413     1000   2018-12-26   270.99\n",
      "4  1000_442     1000   2018-12-27   880.22\n"
     ]
    }
   ],
   "source": [
    "# Imprime una muestra de datos para el tráfico de internet\n",
    "print(internet.head())"
   ]
  },
  {
   "cell_type": "markdown",
   "metadata": {
    "id": "EzOG5ik30q1D"
   },
   "source": [
    "[Describe lo que ves y observas en la información general y en la muestra de datos impresa para el precio de datos anterior. ¿Hay algún problema (tipos de datos no adecuados, datos ausentes, etc.) que pudieran necesitar investigación y cambios adicionales? ¿Cómo se puede arreglar?]"
   ]
  },
  {
   "cell_type": "markdown",
   "metadata": {},
   "source": [
    "ID comparte el mismo problema, tiene la id del usuario incluido.\n",
    "\n",
    "ID necesita ser int y Session date necesita ser Datetime."
   ]
  },
  {
   "cell_type": "markdown",
   "metadata": {
    "id": "yA0tkPFg0q1D"
   },
   "source": [
    "### Corregir los datos"
   ]
  },
  {
   "cell_type": "markdown",
   "metadata": {
    "id": "zlZMuIEK0q1D"
   },
   "source": [
    "[Corrige los problemas obvios con los datos basándote en las observaciones iniciales.]"
   ]
  },
  {
   "cell_type": "code",
   "execution_count": 20,
   "metadata": {
    "id": "zVeanzdd0q1E"
   },
   "outputs": [
    {
     "name": "stdout",
     "output_type": "stream",
     "text": [
      "<class 'pandas.core.frame.DataFrame'>\n",
      "RangeIndex: 104825 entries, 0 to 104824\n",
      "Data columns (total 4 columns):\n",
      " #   Column        Non-Null Count   Dtype         \n",
      "---  ------        --------------   -----         \n",
      " 0   id            104825 non-null  int64         \n",
      " 1   user_id       104825 non-null  int64         \n",
      " 2   session_date  104825 non-null  datetime64[ns]\n",
      " 3   mb_used       104825 non-null  float64       \n",
      "dtypes: datetime64[ns](1), float64(1), int64(2)\n",
      "memory usage: 3.2 MB\n",
      "\n",
      "    id  user_id session_date  mb_used\n",
      "0   13     1000   2018-12-29    89.86\n",
      "1  204     1000   2018-12-31     0.00\n",
      "2  379     1000   2018-12-28   660.40\n",
      "3  413     1000   2018-12-26   270.99\n",
      "4  442     1000   2018-12-27   880.22\n"
     ]
    }
   ],
   "source": [
    "# Eliminar la parte 'xxxx_' de la columna 'id' (donde 'x' es un número) y cambiar a integer\n",
    "internet['id'] = internet['id'].str.replace(r'^\\d+_', '', regex=True)\n",
    "\n",
    "# Cambiar los tipos de datos\n",
    "internet['id'] = internet['id'].astype(int)\n",
    "internet['session_date'] = pd.to_datetime(internet['session_date'], errors='coerce')\n",
    "\n",
    "# Mostrar la información y los primeros registros\n",
    "internet.info()\n",
    "print()\n",
    "print(internet.head())"
   ]
  },
  {
   "cell_type": "markdown",
   "metadata": {
    "id": "e8_mLF4a0q1E"
   },
   "source": [
    "### Enriquecer los datos"
   ]
  },
  {
   "cell_type": "markdown",
   "metadata": {
    "id": "xhNdn2tE0q1E"
   },
   "source": [
    "[Agrega factores adicionales a los datos si crees que pudieran ser útiles.]"
   ]
  },
  {
   "cell_type": "markdown",
   "metadata": {
    "id": "ESiYPIEK0q1E"
   },
   "source": [
    "No hay datos relevantes al trabajo que se puedan añadir, aunque si puede haber mucha informacion que se puede sacar en esta area, no es importante para el objetivo del projecto que es \"saber cuál de los planes genera más ingresos para poder ajustar el presupuesto de publicidad.\""
   ]
  },
  {
   "cell_type": "markdown",
   "metadata": {
    "id": "3UA2cqIW0q1E"
   },
   "source": [
    "## Estudiar las condiciones de las tarifas"
   ]
  },
  {
   "cell_type": "markdown",
   "metadata": {
    "id": "T86Sqltq0q1F"
   },
   "source": [
    "[Es sumamente importante entender cómo funcionan las tarifas, cómo se les cobra a los usuarios en función de su plan de suscripción. Así que te sugerimos imprimir la información de la tarifa para ver una vez más sus condiciones.]"
   ]
  },
  {
   "cell_type": "code",
   "execution_count": 21,
   "metadata": {
    "id": "i409op8p0q1F"
   },
   "outputs": [
    {
     "name": "stdout",
     "output_type": "stream",
     "text": [
      "<class 'pandas.core.frame.DataFrame'>\n",
      "RangeIndex: 2 entries, 0 to 1\n",
      "Data columns (total 11 columns):\n",
      " #   Column                 Non-Null Count  Dtype  \n",
      "---  ------                 --------------  -----  \n",
      " 0   messages_included      2 non-null      int64  \n",
      " 1   mb_per_month_included  2 non-null      int64  \n",
      " 2   minutes_included       2 non-null      int64  \n",
      " 3   usd_monthly_pay        2 non-null      float64\n",
      " 4   usd_per_gb             2 non-null      float64\n",
      " 5   usd_per_message        2 non-null      float64\n",
      " 6   usd_per_minute         2 non-null      float64\n",
      " 7   plan_name              2 non-null      string \n",
      " 8   usd_per_gb_ratio       2 non-null      float64\n",
      " 9   expected_minutes       2 non-null      float64\n",
      " 10  expected_data_usage    2 non-null      float64\n",
      "dtypes: float64(7), int64(3), string(1)\n",
      "memory usage: 308.0 bytes\n",
      "\n",
      "   messages_included  mb_per_month_included  minutes_included  \\\n",
      "0                 50                  15360               500   \n",
      "1               1000                  30720              3000   \n",
      "\n",
      "   usd_monthly_pay  usd_per_gb  usd_per_message  usd_per_minute plan_name  \\\n",
      "0             20.0        10.0             0.03            0.03      surf   \n",
      "1             70.0         7.0             0.01            0.01  ultimate   \n",
      "\n",
      "   usd_per_gb_ratio  expected_minutes  expected_data_usage  \n",
      "0          0.666667      3.333333e+05                 30.0  \n",
      "1          0.233333      2.100000e+07                300.0  \n"
     ]
    }
   ],
   "source": [
    "# Imprime las condiciones de la tarifa y asegúrate de que te quedan claras\n",
    "plans.info()\n",
    "print()\n",
    "print(plans.head())"
   ]
  },
  {
   "cell_type": "markdown",
   "metadata": {
    "id": "hMR1tP5d0q1F"
   },
   "source": [
    "## Agregar datos por usuario\n",
    "\n",
    "[Ahora que los datos están limpios, agrega los datos por usuario y por periodo para que solo haya un registro por usuario y por periodo. Esto facilitará mucho el análisis posterior.]"
   ]
  },
  {
   "cell_type": "code",
   "execution_count": 22,
   "metadata": {
    "id": "A332cedB0q1G"
   },
   "outputs": [],
   "source": [
    "# Calcula el número de llamadas hechas por cada usuario al mes. Guarda el resultado.\n",
    "# Extraer el mes y el año de la fecha de la llamada\n",
    "calls['month_year'] = calls['call_date'].dt.to_period('M')\n",
    "\n",
    "# Contar el número de llamadas por usuario y por mes\n",
    "calls_per_user_month = calls.groupby(['user_id', 'month_year']).size().reset_index(name='num_calls')"
   ]
  },
  {
   "cell_type": "code",
   "execution_count": 23,
   "metadata": {
    "id": "aw2cmuql0q1G"
   },
   "outputs": [
    {
     "name": "stdout",
     "output_type": "stream",
     "text": [
      "   user_id month_year  num_calls\n",
      "0     1000    2018-12         16\n",
      "1     1001    2018-08         27\n",
      "2     1001    2018-09         49\n",
      "3     1001    2018-10         65\n",
      "4     1001    2018-11         64\n"
     ]
    }
   ],
   "source": [
    "# Calcula la cantidad de minutos usados por cada usuario al mes. Guarda el resultado.\n",
    "# Extraer el mes y el año de la fecha de la llamada\n",
    "calls['month_year'] = calls['call_date'].dt.to_period('M')\n",
    "\n",
    "# Calcular el total de minutos usados por cada usuario al mes\n",
    "minutes_per_user_month = calls.groupby(['user_id', 'month_year'])['duration'].sum().reset_index(name='total_minutes')\n",
    "\n",
    "print(calls_per_user_month.head())"
   ]
  },
  {
   "cell_type": "code",
   "execution_count": 24,
   "metadata": {
    "id": "CcQvNHn60q1G"
   },
   "outputs": [],
   "source": [
    "# Calcula el número de mensajes enviados por cada usuario al mes. Guarda el resultado.\n",
    "# Extraer el mes y el año de la fecha del mensaje\n",
    "messages['month_year'] = messages['message_date'].dt.to_period('M')\n",
    "\n",
    "# Calcular el número de mensajes enviados por cada usuario al mes\n",
    "messages_per_user_month = messages.groupby(['user_id', 'month_year'])['id'].count().reset_index(name='total_messages')"
   ]
  },
  {
   "cell_type": "code",
   "execution_count": 25,
   "metadata": {
    "id": "H1AqN2eG0q1H"
   },
   "outputs": [],
   "source": [
    "# Calcula el volumen del tráfico de Internet usado por cada usuario al mes. Guarda el resultado.\n",
    "# Extraer el mes y el año de la fecha de la sesión de Internet\n",
    "internet['month_year'] = internet['session_date'].dt.to_period('M')\n",
    "\n",
    "# Calcular el volumen de tráfico de Internet usado por cada usuario al mes\n",
    "internet_traffic_per_user_month = internet.groupby(['user_id', 'month_year'])['mb_used'].sum().reset_index(name='total_traffic_mb')"
   ]
  },
  {
   "cell_type": "markdown",
   "metadata": {
    "id": "VDfYXnj80q1H"
   },
   "source": [
    "[Junta los datos agregados en un DataFrame para que haya un registro que represente lo que consumió un usuario único en un mes determinado.]"
   ]
  },
  {
   "cell_type": "code",
   "execution_count": 26,
   "metadata": {
    "id": "FW99ykyf0q1H"
   },
   "outputs": [
    {
     "name": "stdout",
     "output_type": "stream",
     "text": [
      "      user_id month_year  num_calls  total_minutes  total_messages  \\\n",
      "0        1000    2018-12         16         116.83            11.0   \n",
      "1        1001    2018-08         27         171.14            30.0   \n",
      "2        1001    2018-09         49         297.69            44.0   \n",
      "3        1001    2018-10         65         374.11            53.0   \n",
      "4        1001    2018-11         64         404.59            36.0   \n",
      "...       ...        ...        ...            ...             ...   \n",
      "2253     1498    2018-12         39         324.77             NaN   \n",
      "2254     1499    2018-09         41         330.37             NaN   \n",
      "2255     1499    2018-10         53         363.28             NaN   \n",
      "2256     1499    2018-11         45         288.56             NaN   \n",
      "2257     1499    2018-12         65         468.10             NaN   \n",
      "\n",
      "      total_traffic_mb first_name   last_name  age  \\\n",
      "0              1901.47   Anamaria       Bauer   45   \n",
      "1              6919.15     Mickey   Wilkerson   28   \n",
      "2             13314.82     Mickey   Wilkerson   28   \n",
      "3             22330.49     Mickey   Wilkerson   28   \n",
      "4             18504.30     Mickey   Wilkerson   28   \n",
      "...                ...        ...         ...  ...   \n",
      "2253          23137.69       Scot  Williamson   51   \n",
      "2254          12984.76      Shena     Dickson   37   \n",
      "2255          19492.43      Shena     Dickson   37   \n",
      "2256          16813.83      Shena     Dickson   37   \n",
      "2257          22059.21      Shena     Dickson   37   \n",
      "\n",
      "                                           city   reg_date      plan  \\\n",
      "0         Atlanta-Sandy Springs-Roswell, GA MSA 2018-12-24  ultimate   \n",
      "1               Seattle-Tacoma-Bellevue, WA MSA 2018-08-13      surf   \n",
      "2               Seattle-Tacoma-Bellevue, WA MSA 2018-08-13      surf   \n",
      "3               Seattle-Tacoma-Bellevue, WA MSA 2018-08-13      surf   \n",
      "4               Seattle-Tacoma-Bellevue, WA MSA 2018-08-13      surf   \n",
      "...                                         ...        ...       ...   \n",
      "2253  New York-Newark-Jersey City, NY-NJ-PA MSA 2018-02-04      surf   \n",
      "2254          Orlando-Kissimmee-Sanford, FL MSA 2018-05-06      surf   \n",
      "2255          Orlando-Kissimmee-Sanford, FL MSA 2018-05-06      surf   \n",
      "2256          Orlando-Kissimmee-Sanford, FL MSA 2018-05-06      surf   \n",
      "2257          Orlando-Kissimmee-Sanford, FL MSA 2018-05-06      surf   \n",
      "\n",
      "     churn_date age_group  \n",
      "0           NaT    Adulto  \n",
      "1           NaT     Joven  \n",
      "2           NaT     Joven  \n",
      "3           NaT     Joven  \n",
      "4           NaT     Joven  \n",
      "...         ...       ...  \n",
      "2253        NaT    Adulto  \n",
      "2254        NaT    Adulto  \n",
      "2255        NaT    Adulto  \n",
      "2256        NaT    Adulto  \n",
      "2257        NaT    Adulto  \n",
      "\n",
      "[2258 rows x 14 columns]\n"
     ]
    }
   ],
   "source": [
    "# Fusiona los datos de llamadas, minutos, mensajes e Internet con base en user_id y month\n",
    "\n",
    "# Realizar las fusiones entre los DataFrames de llamadas, minutos, mensajes e Internet\n",
    "merged_data = calls_per_user_month \\\n",
    "    .merge(minutes_per_user_month, on=['user_id', 'month_year'], how='left') \\\n",
    "    .merge(messages_per_user_month, on=['user_id', 'month_year'], how='left') \\\n",
    "    .merge(internet_traffic_per_user_month, on=['user_id', 'month_year'], how='left') \\\n",
    "    .merge(users, on='user_id', how='left')\n",
    "\n",
    "\n",
    "# Mostrar el resultado de la fusión\n",
    "print(merged_data)"
   ]
  },
  {
   "cell_type": "code",
   "execution_count": 27,
   "metadata": {
    "id": "0dNOXHag0q1H"
   },
   "outputs": [
    {
     "name": "stdout",
     "output_type": "stream",
     "text": [
      "   user_id month_year  num_calls  total_minutes  total_messages  \\\n",
      "0     1000    2018-12         16         116.83            11.0   \n",
      "1     1001    2018-08         27         171.14            30.0   \n",
      "2     1001    2018-09         49         297.69            44.0   \n",
      "3     1001    2018-10         65         374.11            53.0   \n",
      "4     1001    2018-11         64         404.59            36.0   \n",
      "\n",
      "   total_traffic_mb first_name  last_name  age  \\\n",
      "0           1901.47   Anamaria      Bauer   45   \n",
      "1           6919.15     Mickey  Wilkerson   28   \n",
      "2          13314.82     Mickey  Wilkerson   28   \n",
      "3          22330.49     Mickey  Wilkerson   28   \n",
      "4          18504.30     Mickey  Wilkerson   28   \n",
      "\n",
      "                                    city  ... messages_included  \\\n",
      "0  Atlanta-Sandy Springs-Roswell, GA MSA  ...              1000   \n",
      "1        Seattle-Tacoma-Bellevue, WA MSA  ...                50   \n",
      "2        Seattle-Tacoma-Bellevue, WA MSA  ...                50   \n",
      "3        Seattle-Tacoma-Bellevue, WA MSA  ...                50   \n",
      "4        Seattle-Tacoma-Bellevue, WA MSA  ...                50   \n",
      "\n",
      "  mb_per_month_included minutes_included usd_monthly_pay  usd_per_gb  \\\n",
      "0                 30720             3000            70.0         7.0   \n",
      "1                 15360              500            20.0        10.0   \n",
      "2                 15360              500            20.0        10.0   \n",
      "3                 15360              500            20.0        10.0   \n",
      "4                 15360              500            20.0        10.0   \n",
      "\n",
      "   usd_per_message  usd_per_minute  usd_per_gb_ratio  expected_minutes  \\\n",
      "0             0.01            0.01          0.233333      2.100000e+07   \n",
      "1             0.03            0.03          0.666667      3.333333e+05   \n",
      "2             0.03            0.03          0.666667      3.333333e+05   \n",
      "3             0.03            0.03          0.666667      3.333333e+05   \n",
      "4             0.03            0.03          0.666667      3.333333e+05   \n",
      "\n",
      "   expected_data_usage  \n",
      "0                300.0  \n",
      "1                 30.0  \n",
      "2                 30.0  \n",
      "3                 30.0  \n",
      "4                 30.0  \n",
      "\n",
      "[5 rows x 24 columns]\n"
     ]
    }
   ],
   "source": [
    "# Añade la información de la tarifa\n",
    "\n",
    "# Fusiona los datos de consumo con la información de la tarifa usando 'merged_data'\n",
    "#pd.merge(left, right, how='inner', on=None, left_on=None, right_on=None, left_index=False, \n",
    "#right_index=False, sort=False, suffixes=('_x', '_y'), copy=True, indicator=False)\n",
    "df_rev = pd.merge(\n",
    "    merged_data,  # Usa el DataFrame fusionado previamente con los datos de consumo por usuario\n",
    "    plans,  # Selecciona las columnas necesarias de planes\n",
    "    how='left',  # 'left' para mantener todos los usuarios del DataFrame original\n",
    "    left_on='plan',    # columna en merged_data\n",
    "    right_on='plan_name'  # columna en plans\n",
    ")\n",
    "df_rev = df_rev.drop(columns=['plan_name'])\n",
    "\n",
    "# Revisa las primeras filas para verificar la correcta fusión\n",
    "print(df_rev.head())"
   ]
  },
  {
   "cell_type": "markdown",
   "metadata": {
    "id": "1IwGo4wg0q1I"
   },
   "source": [
    "[Calcula los ingresos mensuales por usuario (resta el límite del paquete gratuito del número total de llamadas, mensajes de texto y datos; multiplica el resultado por el valor del plan de llamadas; añade la tarifa mensual en función del plan de llamadas). Nota: Dadas las condiciones del plan, ¡esto podría no ser tan trivial como un par de líneas! Así que no pasa nada si dedicas algo de tiempo a ello.]"
   ]
  },
  {
   "cell_type": "code",
   "execution_count": 28,
   "metadata": {
    "id": "5FGCf_c60q1I"
   },
   "outputs": [
    {
     "name": "stdout",
     "output_type": "stream",
     "text": [
      "   user_id month_year      plan  monthly_revenue\n",
      "0     1000    2018-12  ultimate        70.000000\n",
      "1     1001    2018-08      surf        20.000000\n",
      "2     1001    2018-09      surf        20.000000\n",
      "3     1001    2018-10      surf        88.161191\n",
      "4     1001    2018-11      surf        50.706055\n"
     ]
    }
   ],
   "source": [
    "# Calcula el ingreso mensual para cada usuario\n",
    "# Primero convierte tráfico de MB a GB\n",
    "df_rev['total_traffic_gb'] = df_rev['total_traffic_mb'] / 1024\n",
    "\n",
    "# Función para calcular el ingreso mensual\n",
    "def calculate_monthly_revenue(row):\n",
    "    # Cargos extra (no pueden ser negativos)\n",
    "    extra_minutes = max(0, row['total_minutes'] - row['minutes_included'])\n",
    "    extra_messages = max(0, row['total_messages'] - row['messages_included'])\n",
    "    extra_gb = max(0, row['total_traffic_gb'] - (row['mb_per_month_included'] / 1024))  # porque el límite está en MB\n",
    "\n",
    "    # Costos extra\n",
    "    cost_extra_minutes = extra_minutes * row['usd_per_minute']\n",
    "    cost_extra_messages = extra_messages * row['usd_per_message']\n",
    "    cost_extra_gb = extra_gb * row['usd_per_gb']\n",
    "\n",
    "    # Total = renta mensual + cargos extra\n",
    "    total_revenue = row['usd_monthly_pay'] + cost_extra_minutes + cost_extra_messages + cost_extra_gb\n",
    "\n",
    "    return total_revenue\n",
    "\n",
    "# Aplica la función\n",
    "df_rev['monthly_revenue'] = df_rev.apply(calculate_monthly_revenue, axis=1)\n",
    "\n",
    "# Agrupa por usuario y mes, y toma el máximo (porque los datos duplicados deberían tener el mismo revenue)\n",
    "df_final_revenue = df_rev.groupby(['user_id', 'month_year', 'plan'], as_index=False).agg({\n",
    "    'monthly_revenue': 'max'\n",
    "})\n",
    "\n",
    "# Visualiza\n",
    "print(df_final_revenue.head())"
   ]
  },
  {
   "cell_type": "markdown",
   "metadata": {
    "id": "-jtyHzJb0q1I"
   },
   "source": [
    "## Estudia el comportamiento de usuario"
   ]
  },
  {
   "cell_type": "markdown",
   "metadata": {
    "id": "AxU3Y0N70q1J"
   },
   "source": [
    "[Calcula algunas estadísticas descriptivas para los datos agregados y fusionados que nos sean útiles y que muestren un panorama general captado por los datos. Dibuja gráficos útiles para facilitar la comprensión. Dado que la tarea principal es comparar las tarifas y decidir cuál es más rentable, las estadísticas y gráficas deben calcularse por tarifa.]\n",
    "\n",
    "[En los comentarios hallarás pistas relevantes para las llamadas, pero no las hay para los mensajes e Internet. Sin embargo, el principio del estudio estadístico que se aplica para ellos es el mismo que para las llamadas.]"
   ]
  },
  {
   "cell_type": "markdown",
   "metadata": {
    "id": "vtW4CJEe0q1J"
   },
   "source": [
    "### Llamadas"
   ]
  },
  {
   "cell_type": "code",
   "execution_count": 29,
   "metadata": {
    "id": "Jf5v5--k0q1J"
   },
   "outputs": [
    {
     "data": {
      "image/png": "[encoded data removed]",
      "text/plain": [
       "<Figure size 1200x500 with 1 Axes>"
      ]
     },
     "metadata": {},
     "output_type": "display_data"
    }
   ],
   "source": [
    "# Compara la duración promedio de llamadas por cada plan y por cada mes. Traza un gráfico de barras para visualizarla.\n",
    "# Agrupa por plan y mes, y calcula la duración promedio de llamadas\n",
    "avg_call_duration = df_rev.groupby(['plan', 'month_year'])['total_minutes'].mean().reset_index()\n",
    "\n",
    "# Gráfico de barras\n",
    "avg_call_duration.plot(\n",
    "    kind='bar',\n",
    "    x='month_year',\n",
    "    y='total_minutes',\n",
    "    title='Duración promedio de llamadas por mes y plan',\n",
    "    xlabel='Mes',\n",
    "    ylabel='Duración promedio de llamadas (minutos)',\n",
    "    color=['cornflowerblue' if p == 'surf' else 'lightcoral' for p in avg_call_duration['plan']],\n",
    "    figsize=(12,5)\n",
    ")\n",
    "\n",
    "plt.xticks(rotation=45, ha='right')\n",
    "plt.legend(['Duración promedio'])\n",
    "plt.grid(axis='y')\n",
    "plt.show()\n"
   ]
  },
  {
   "cell_type": "code",
   "execution_count": 30,
   "metadata": {
    "id": "QoLqW1S_0q1J"
   },
   "outputs": [
    {
     "data": {
      "image/png": "[encoded data removed]",
      "text/plain": [
       "<Figure size 700x500 with 1 Axes>"
      ]
     },
     "metadata": {},
     "output_type": "display_data"
    }
   ],
   "source": [
    "# Compara el número de minutos mensuales que necesitan los usuarios de cada plan. Traza un histograma.\n",
    "df_rev[df_rev['plan'] == 'surf']['total_minutes'].plot(\n",
    "    kind='hist',\n",
    "    bins=30,\n",
    "    alpha=0.5,\n",
    "    color='skyblue',\n",
    "    edgecolor='black',\n",
    "    label='Surf',\n",
    "    figsize=(7,5),\n",
    "    title='Distribución de minutos por plan'\n",
    ")\n",
    "\n",
    "df_rev[df_rev['plan'] == 'ultimate']['total_minutes'].plot(\n",
    "    kind='hist',\n",
    "    bins=30,\n",
    "    alpha=0.5,\n",
    "    color='salmon',\n",
    "    edgecolor='black',\n",
    "    label='Ultimate'\n",
    ")\n",
    "plt.xlabel='Minutos'\n",
    "plt.ylabel='Usuarios'\n",
    "plt.legend()\n",
    "plt.grid(True)\n",
    "plt.tight_layout()\n",
    "plt.show()"
   ]
  },
  {
   "cell_type": "markdown",
   "metadata": {
    "id": "bLS9T8OH0q1K"
   },
   "source": [
    "[Calcula la media y la variable de la duración de las llamadas para averiguar si los usuarios de los distintos planes se comportan de forma diferente al realizar sus llamadas.]"
   ]
  },
  {
   "cell_type": "code",
   "execution_count": 31,
   "metadata": {
    "id": "oSndbAnt0q1K"
   },
   "outputs": [
    {
     "name": "stdout",
     "output_type": "stream",
     "text": [
      "                mean           var\n",
      "plan                              \n",
      "surf      412.097890  47001.254231\n",
      "ultimate  410.180954  50510.631705\n"
     ]
    }
   ],
   "source": [
    "# Calcula la media y la varianza de la duración mensual de llamadas.\n",
    "duracion_llamadas = df_rev.groupby('plan')['total_minutes'].agg(['mean', 'var'])\n",
    "\n",
    "# Muestra los resultados\n",
    "print(duracion_llamadas)"
   ]
  },
  {
   "cell_type": "code",
   "execution_count": 32,
   "metadata": {
    "id": "nZzoRUKc0q1K"
   },
   "outputs": [
    {
     "data": {
      "image/png": "[encoded data removed]",
      "text/plain": [
       "<Figure size 800x600 with 1 Axes>"
      ]
     },
     "metadata": {},
     "output_type": "display_data"
    }
   ],
   "source": [
    "# Traza un diagrama de caja para visualizar la distribución de la duración mensual de llamadas\n",
    "df_rev.boxplot(\n",
    "    column='total_minutes',\n",
    "    by='plan',\n",
    "    grid=True,\n",
    "    patch_artist=True,\n",
    "    boxprops=dict(facecolor='lightblue', color='black'),\n",
    "    medianprops=dict(color='red'),\n",
    "    whiskerprops=dict(color='black'),\n",
    "    capprops=dict(color='black'),\n",
    "    flierprops=dict(markerfacecolor='red', marker='o', markersize=8),\n",
    "    figsize=(8,6)\n",
    ")\n",
    "\n",
    "plt.suptitle('Distribución de la duración mensual de llamadas por plan')\n",
    "plt.title('')\n",
    "plt.tight_layout()\n",
    "plt.show()"
   ]
  },
  {
   "cell_type": "markdown",
   "metadata": {
    "id": "r627zBO50q1K"
   },
   "source": [
    "[Elabora las conclusiones sobre el comportamiento de los usuarios con respecto a las llamadas. ¿Su comportamiento varía en función del plan?]"
   ]
  },
  {
   "cell_type": "markdown",
   "metadata": {},
   "source": [
    "El comportamiento cambia levemente dependiendo del plan, si. No obstante, la version Surf suele se el plan mas popular en el inicio del año, pero el Ultimate obtiene traccion a finales del año. Pero la gente siempre habla mas mientras usan el plan de Surf."
   ]
  },
  {
   "cell_type": "markdown",
   "metadata": {
    "id": "8idKy8Wh0q1L"
   },
   "source": [
    "### Mensajes"
   ]
  },
  {
   "cell_type": "code",
   "execution_count": 33,
   "metadata": {
    "id": "NXLxiTit0q1L"
   },
   "outputs": [
    {
     "data": {
      "image/png": "[encoded data removed]",
      "text/plain": [
       "<Figure size 600x400 with 1 Axes>"
      ]
     },
     "metadata": {},
     "output_type": "display_data"
    }
   ],
   "source": [
    "# Gráfico de barras de mensajes promedio por plan:\n",
    "df_rev.groupby('plan')['total_messages'].mean().plot(\n",
    "    kind='bar',\n",
    "    title='Mensajes promedio enviados por plan',\n",
    "    xlabel='Plan',\n",
    "    ylabel='Mensajes promedio',\n",
    "    color='lightskyblue',\n",
    "    figsize=(6,4)\n",
    ")\n",
    "plt.grid(axis='y')\n",
    "plt.show()"
   ]
  },
  {
   "cell_type": "code",
   "execution_count": 34,
   "metadata": {
    "id": "GRI_R7xF0q1L"
   },
   "outputs": [
    {
     "data": {
      "image/png": "[encoded data removed]",
      "text/plain": [
       "<Figure size 800x500 with 1 Axes>"
      ]
     },
     "metadata": {},
     "output_type": "display_data"
    }
   ],
   "source": [
    "# Histograma del número de mensajes enviados:\n",
    "for plan in df_rev['plan'].unique():\n",
    "    df_rev[df_rev['plan'] == plan]['total_messages'].plot(\n",
    "        kind='hist',\n",
    "        bins=20,\n",
    "        alpha=0.5,\n",
    "        label=plan,\n",
    "        figsize=(8,5),\n",
    "        xlabel='Número de mensajes',\n",
    "        ylabel='Número de usuarios'\n",
    "    )\n",
    "\n",
    "plt.title('Distribución de mensajes enviados por plan')\n",
    "\n",
    "plt.legend(title='Plan')\n",
    "plt.grid(axis='y')\n",
    "plt.show()"
   ]
  },
  {
   "cell_type": "code",
   "execution_count": 35,
   "metadata": {
    "id": "dtFwCGAp0q1M"
   },
   "outputs": [
    {
     "data": {
      "image/png": "[encoded data removed]",
      "text/plain": [
       "<Figure size 800x500 with 1 Axes>"
      ]
     },
     "metadata": {},
     "output_type": "display_data"
    }
   ],
   "source": [
    "# Diagrama de caja de mensajes enviados por plan:\n",
    "df_rev.boxplot(\n",
    "    column='total_messages',\n",
    "    by='plan',\n",
    "    grid=True,\n",
    "    figsize=(8,5)\n",
    ")\n",
    "plt.title('Distribución mensual de mensajes enviados por plan')\n",
    "plt.suptitle('')  # Quita el título automático \"Boxplot grouped by plan\"\n",
    "plt.show()"
   ]
  },
  {
   "cell_type": "markdown",
   "metadata": {
    "id": "390SSL480q1M"
   },
   "source": [
    "[Elabora las conclusiones sobre el comportamiento de los usuarios con respecto a los mensajes. ¿Su comportamiento varía en función del plan?]"
   ]
  },
  {
   "cell_type": "markdown",
   "metadata": {},
   "source": [
    "Los usuarios envian mas mensajes en Ultimate que surf, pero no es lo suficientemente notable, ambos clientes usan internet en en similares cantidades. Hay much agente que prefiere usar Ultimate para enviar mensajes."
   ]
  },
  {
   "cell_type": "markdown",
   "metadata": {
    "id": "42YSypXz0q1M"
   },
   "source": [
    "### Internet"
   ]
  },
  {
   "cell_type": "code",
   "execution_count": 36,
   "metadata": {
    "id": "lSuKPtjh0q1M"
   },
   "outputs": [
    {
     "data": {
      "image/png": "[encoded data removed]",
      "text/plain": [
       "<Figure size 1000x600 with 1 Axes>"
      ]
     },
     "metadata": {},
     "output_type": "display_data"
    }
   ],
   "source": [
    "# Compara la duración promedio de sessiones por cada plan y por cada mes. Traza un gráfico de barras para visualizarla.\n",
    "# Convertir el tráfico de Internet de MB a GB\n",
    "df_rev['total_traffic_gb'] = df_rev['total_traffic_mb'] / 1024\n",
    "\n",
    "# Crear un gráfico de barras para comparar el tráfico promedio de Internet consumido por plan en GB\n",
    "df_rev.groupby('plan')['total_traffic_gb'].mean().plot(\n",
    "    kind='bar',\n",
    "    title='Tráfico promedio de Internet consumido por plan (GB)',\n",
    "    xlabel='Plan',\n",
    "    ylabel='Tráfico promedio (GB)',\n",
    "    color='lightblue',\n",
    "    figsize=(10,6)\n",
    ")\n",
    "\n",
    "# Muestra el gráfico\n",
    "plt.show()"
   ]
  },
  {
   "cell_type": "code",
   "execution_count": 37,
   "metadata": {
    "id": "wnh8jYXi0q1N"
   },
   "outputs": [
    {
     "data": {
      "image/png": "[encoded data removed]",
      "text/plain": [
       "<Figure size 1200x600 with 1 Axes>"
      ]
     },
     "metadata": {},
     "output_type": "display_data"
    }
   ],
   "source": [
    "# Compara el número de mb mensuales que necesitan los usuarios de cada plan. Traza un histograma.\n",
    "# Histograma de la cantidad de tráfico de Internet (en MB) por plan\n",
    "# Asegúrate de importar matplotlib\n",
    "\n",
    "# Histograma de la cantidad de tráfico de Internet (en MB) por plan\n",
    "df_rev.groupby('plan')['total_traffic_mb'].plot(\n",
    "    kind='hist', \n",
    "    bins=20, \n",
    "    alpha=0.5, \n",
    "    figsize=(12, 6),\n",
    "    title='Distribución de tráfico de Internet mensual por plan',\n",
    "    legend=True\n",
    ")\n",
    "\n",
    "# Personalizar el gráfico\n",
    "plt.legend(title='Plan')\n",
    "plt.show()\n"
   ]
  },
  {
   "cell_type": "code",
   "execution_count": 38,
   "metadata": {
    "id": "5VlyJ9ry0q1N"
   },
   "outputs": [
    {
     "data": {
      "text/plain": [
       "<Figure size 600x500 with 0 Axes>"
      ]
     },
     "metadata": {},
     "output_type": "display_data"
    },
    {
     "data": {
      "image/png": "[encoded data removed]",
      "text/plain": [
       "<Figure size 640x480 with 1 Axes>"
      ]
     },
     "metadata": {},
     "output_type": "display_data"
    }
   ],
   "source": [
    "# Traza un diagrama de caja para visualizar la distribución de la duración mensual de internet\n",
    "# Crear una figura\n",
    "plt.figure(figsize=(6,5))\n",
    "\n",
    "\n",
    "# Diagrama de caja usando el 'plan' del usuario\n",
    "df_rev.boxplot(\n",
    "    column='total_traffic_gb',\n",
    "    by='plan',  # usa el plan del usuario directamente\n",
    "    patch_artist=True,\n",
    "    boxprops=dict(facecolor='lightgreen', color='green'),\n",
    "    medianprops=dict(color='darkred')\n",
    ")\n",
    "\n",
    "# Personalización\n",
    "plt.title('Distribución de tráfico de Internet mensual por Plan')\n",
    "plt.suptitle('')  # Quita el título automático extra de pandas\n",
    "plt.grid(axis='y')\n",
    "\n",
    "# Mostrar\n",
    "plt.show()\n"
   ]
  },
  {
   "cell_type": "markdown",
   "metadata": {
    "id": "UN9zwuMP0q1N"
   },
   "source": [
    "[Elabora las conclusiones sobre cómo los usuarios tienden a consumir el tráfico de Internet. ¿Su comportamiento varía en función del plan?]"
   ]
  },
  {
   "cell_type": "markdown",
   "metadata": {},
   "source": [
    "Debido a que mas gente usa el surf, entonces hay mas trafico y distribuidores en interner, pero tanto el surf como ultimate, ambos usan el mismo promedio de tiempo de internett sin importar el paquete."
   ]
  },
  {
   "cell_type": "markdown",
   "metadata": {
    "id": "tCijq3260q1N"
   },
   "source": [
    "## Ingreso"
   ]
  },
  {
   "cell_type": "markdown",
   "metadata": {
    "id": "9nq5IAcy0q1O"
   },
   "source": [
    "[Del mismo modo que has estudiado el comportamiento de los usuarios, describe estadísticamente los ingresos de los planes.]"
   ]
  },
  {
   "cell_type": "code",
   "execution_count": 39,
   "metadata": {
    "id": "tz-dq_V00q1O"
   },
   "outputs": [
    {
     "name": "stdout",
     "output_type": "stream",
     "text": [
      "               mean          var        std   min         max\n",
      "plan                                                         \n",
      "surf      56.696270  2686.179784  51.828369  20.0  581.328509\n",
      "ultimate  72.079233   114.936364  10.720838  70.0  178.522764\n"
     ]
    }
   ],
   "source": [
    "# Agrupar por plan y calcular estadísticas descriptivas sobre los ingresos\n",
    "ingresos = df_rev.groupby('plan')['monthly_revenue'].agg(['mean', 'var', 'std', 'min', 'max'])\n",
    "\n",
    "# Mostrar estadísticas\n",
    "print(ingresos)"
   ]
  },
  {
   "cell_type": "code",
   "execution_count": 40,
   "metadata": {
    "id": "0Y1v8ZUz0q1P"
   },
   "outputs": [
    {
     "data": {
      "image/png": "[encoded data removed]",
      "text/plain": [
       "<Figure size 800x500 with 1 Axes>"
      ]
     },
     "metadata": {},
     "output_type": "display_data"
    }
   ],
   "source": [
    "# Gráfico de barras para visualizar la media de ingresos por plan\n",
    "ingresos['mean'].plot(\n",
    "    kind='bar',\n",
    "    title='Ingreso promedio mensual por plan',\n",
    "    color='skyblue',\n",
    "    figsize=(8,5),\n",
    "    xlabel='Plan',\n",
    "    ylabel='Ingreso Promedio ($USD)'\n",
    ")\n",
    "plt.show()"
   ]
  },
  {
   "cell_type": "code",
   "execution_count": 41,
   "metadata": {
    "id": "bYmwxyVh0q1P"
   },
   "outputs": [
    {
     "data": {
      "image/png": "[encoded data removed]",
      "text/plain": [
       "<Figure size 640x480 with 1 Axes>"
      ]
     },
     "metadata": {},
     "output_type": "display_data"
    }
   ],
   "source": [
    "# Histograma para la distribución de ingresos mensuales\n",
    "df_rev[df_rev['plan'] == 'surf']['monthly_revenue'].plot(\n",
    "    kind='hist',\n",
    "    bins=20,\n",
    "    alpha=0.5,\n",
    "    title='Distribución de ingresos mensuales',\n",
    "    color='lightblue',\n",
    "    xlabel='Ingreso mensual ($USD)',\n",
    "    ylabel='Frecuencia'\n",
    ")\n",
    "df_rev[df_rev['plan'] == 'ultimate']['monthly_revenue'].plot(\n",
    "    kind='hist',\n",
    "    bins=20,\n",
    "    alpha=0.5,\n",
    "    color='lightgreen'\n",
    ")\n",
    "\n",
    "plt.legend(['Surf', 'Ultimate'])\n",
    "plt.show()"
   ]
  },
  {
   "cell_type": "code",
   "execution_count": 42,
   "metadata": {},
   "outputs": [
    {
     "data": {
      "image/png": "[encoded data removed]",
      "text/plain": [
       "<Figure size 800x500 with 1 Axes>"
      ]
     },
     "metadata": {},
     "output_type": "display_data"
    }
   ],
   "source": [
    "# Diagrama de caja para mostrar la distribución de los ingresos por plan\n",
    "df_rev.boxplot(\n",
    "    column='monthly_revenue',\n",
    "    by='plan',\n",
    "    patch_artist=True,\n",
    "    boxprops=dict(facecolor='lightgreen', color='green'),\n",
    "    medianprops=dict(color='darkred'),\n",
    "    figsize=(8,5)\n",
    ")\n",
    "\n",
    "plt.title('Distribución de ingresos mensuales por plan')\n",
    "plt.suptitle('')\n",
    "plt.grid(axis='y')\n",
    "plt.show()"
   ]
  },
  {
   "cell_type": "markdown",
   "metadata": {
    "id": "KAFidcXZ0q1P"
   },
   "source": [
    "[Elabora las conclusiones sobre cómo difiere el ingreso entre los planes.]"
   ]
  },
  {
   "cell_type": "markdown",
   "metadata": {},
   "source": [
    "Los ingresos promedios generados por el plan Ultimate es mucho mejor que el surf, no obstante, mucha gente sigue usando Surf, por lo que la distribucion de ingresos sigue siendo mas consistente en Surf."
   ]
  },
  {
   "cell_type": "markdown",
   "metadata": {
    "id": "ajJ7VKeI0q1Q"
   },
   "source": [
    "## Prueba las hipótesis estadísticas"
   ]
  },
  {
   "cell_type": "markdown",
   "metadata": {
    "id": "AdXAZ-yL0q1Q"
   },
   "source": [
    "[Prueba la hipótesis de que son diferentes los ingresos promedio procedentes de los usuarios de los planes de llamada Ultimate y Surf.]"
   ]
  },
  {
   "cell_type": "markdown",
   "metadata": {
    "id": "IQwa_hsh0q1Q"
   },
   "source": [
    "[Elabora las hipótesis nula y alternativa, escoge la prueba estadística, determina el valor alfa.]"
   ]
  },
  {
   "cell_type": "code",
   "execution_count": 43,
   "metadata": {
    "id": "nFoPNlPq0q1R"
   },
   "outputs": [
    {
     "name": "stdout",
     "output_type": "stream",
     "text": [
      "Estadístico t: 7.847340749672465\n",
      "Valor p: 6.507216631144632e-15\n",
      "Rechazamos la hipótesis nula: Los ingresos promedio de los planes son diferentes.\n"
     ]
    }
   ],
   "source": [
    "# Prueba las hipótesis\n",
    "\n",
    "# Filtramos los ingresos por plan\n",
    "ingresos_ultimate = df_rev[df_rev['plan'] == 'ultimate']['monthly_revenue']\n",
    "ingresos_surf = df_rev[df_rev['plan'] == 'surf']['monthly_revenue']\n",
    "\n",
    "# Realizamos la prueba t para comparar las medias de los ingresos entre los dos planes\n",
    "t_stat, p_value = st.ttest_ind(ingresos_ultimate, ingresos_surf)\n",
    "\n",
    "# Establecemos el nivel de significancia\n",
    "alpha = 0.05\n",
    "\n",
    "# Mostramos los resultados\n",
    "print(f'Estadístico t: {t_stat}')\n",
    "print(f'Valor p: {p_value}')\n",
    "\n",
    "# Tomamos una decisión basada en el valor p\n",
    "if p_value < alpha:\n",
    "    print('Rechazamos la hipótesis nula: Los ingresos promedio de los planes son diferentes.')\n",
    "else:\n",
    "    print('No rechazamos la hipótesis nula: No hay evidencia suficiente para afirmar que los ingresos promedio de los planes son diferentes.')\n"
   ]
  },
  {
   "cell_type": "markdown",
   "metadata": {
    "id": "tCcAruM60q1R"
   },
   "source": [
    "[Prueba la hipótesis de que el ingreso promedio de los usuarios del área NY-NJ es diferente al de los usuarios de otras regiones.]"
   ]
  },
  {
   "cell_type": "markdown",
   "metadata": {
    "id": "LsBgitqj0q1R"
   },
   "source": [
    "[Elabora las hipótesis nula y alternativa, escoge la prueba estadística, determina el valor alfa.]"
   ]
  },
  {
   "cell_type": "code",
   "execution_count": 44,
   "metadata": {
    "id": "Cqcj7wrZ0q1S"
   },
   "outputs": [
    {
     "name": "stdout",
     "output_type": "stream",
     "text": [
      "T-Statistic: -2.602499070146906\n",
      "P-Value: 0.009315292754890996\n",
      "Rechazamos la hipótesis nula: Los ingresos promedio son diferentes entre NY-NJ y otras regiones.\n"
     ]
    }
   ],
   "source": [
    "# Prueba las hipótesis\n",
    "# Crear una columna 'region' basada en la ciudad para identificar a los usuarios de NY-NJ\n",
    "df_rev['region'] = df_rev['city'].apply(lambda x: 'NY-NJ' if 'New York-Newark-Jersey City' in x else 'Other')\n",
    "\n",
    "# Filtrar los ingresos de los usuarios en NY-NJ y de otras regiones\n",
    "ingresos_ny_nj = df_rev[df_rev['region'] == 'NY-NJ']['monthly_revenue']\n",
    "ingresos_otras_regiones = df_rev[df_rev['region'] == 'Other']['monthly_revenue']\n",
    "\n",
    "# Prueba t para muestras independientes\n",
    "t_stat, p_val = st.ttest_ind(ingresos_ny_nj, ingresos_otras_regiones)\n",
    "\n",
    "# Imprimir los resultados\n",
    "print(f'T-Statistic: {t_stat}')\n",
    "print(f'P-Value: {p_val}')\n",
    "\n",
    "# Establecer el valor alfa\n",
    "alpha = 0.05\n",
    "\n",
    "# Evaluar la hipótesis\n",
    "if p_val < alpha:\n",
    "    print(\"Rechazamos la hipótesis nula: Los ingresos promedio son diferentes entre NY-NJ y otras regiones.\")\n",
    "else:\n",
    "    print(\"No podemos rechazar la hipótesis nula: No hay evidencia suficiente para decir que los ingresos promedio son diferentes.\")"
   ]
  },
  {
   "cell_type": "markdown",
   "metadata": {
    "id": "bbTR8UQO0q1T"
   },
   "source": [
    "## Conclusión general\n",
    "\n",
    "[En esta sección final, enumera tus conclusiones importantes. Asegúrate de que estas abarquen todas las decisiones (suposiciones) importantes que adoptaste y que determinaron la forma elegida para procesar y analizar los datos.]"
   ]
  },
  {
   "cell_type": "markdown",
   "metadata": {},
   "source": [
    "El plan que se deberia promosionar mas es el Surf, debido a que es el mas popular con la gente, especialmente en los inicios de año, y solo ofrecer el Ultimate a clientes que esten interesados a mejorar el plan actual.\n",
    "\n",
    "Mas clientes prefieren llamar con el PLan Surf que Ultimate, pero Los clientes prefieren mandar mas mensajes con el plan Ultimate.\n",
    "\n",
    "Los clientes usan el internet la misma cantidad de tiempo, los planes no cambian cuanto tiempo lo usan, pero la cantidad de clientes usando Surf para llamadas si cambian cuanta gente usa el internet del plan Surf.\n",
    "\n",
    "Aunque los clientes generan mas ingresos si compran el plan Ultimate, son muchas mas personas que usan Surf como la opcion mas economica, por lo que las ganancias son mas por el Surf, el area geologica no cambia este hecho."
   ]
  }
 ],
 "metadata": {
  "ExecuteTimeLog": [
   {
    "duration": 828,
    "start_time": "2021-11-16T09:21:11.304Z"
   },
   {
    "duration": 893,
    "start_time": "2021-11-16T09:21:17.728Z"
   },
   {
    "duration": 1150,
    "start_time": "2021-11-16T09:21:29.568Z"
   },
   {
    "duration": 3,
    "start_time": "2021-11-16T09:24:14.495Z"
   },
   {
    "duration": 120,
    "start_time": "2021-11-16T09:24:46.630Z"
   },
   {
    "duration": 3,
    "start_time": "2021-11-16T09:28:27.882Z"
   },
   {
    "duration": 4,
    "start_time": "2021-11-16T09:29:54.281Z"
   },
   {
    "duration": 3,
    "start_time": "2021-11-16T09:30:45.936Z"
   },
   {
    "duration": 4,
    "start_time": "2021-11-16T09:31:06.300Z"
   },
   {
    "duration": 113,
    "start_time": "2021-11-16T09:31:37.208Z"
   },
   {
    "duration": 143,
    "start_time": "2021-11-16T09:31:48.656Z"
   },
   {
    "duration": 98,
    "start_time": "2021-11-16T09:31:55.678Z"
   },
   {
    "duration": 3,
    "start_time": "2021-11-16T09:32:08.535Z"
   },
   {
    "duration": 111,
    "start_time": "2021-11-16T09:32:10.120Z"
   },
   {
    "duration": 3,
    "start_time": "2021-11-16T09:32:15.732Z"
   },
   {
    "duration": 4,
    "start_time": "2021-11-16T09:32:29.423Z"
   },
   {
    "duration": 3,
    "start_time": "2021-11-16T10:03:03.074Z"
   },
   {
    "duration": 3,
    "start_time": "2021-11-16T10:10:01.288Z"
   },
   {
    "duration": 3,
    "start_time": "2021-11-16T10:10:46.923Z"
   },
   {
    "duration": 121,
    "start_time": "2021-11-16T10:37:46.494Z"
   },
   {
    "duration": 125,
    "start_time": "2021-11-16T10:38:20.632Z"
   },
   {
    "duration": 112,
    "start_time": "2021-11-16T10:46:53.001Z"
   },
   {
    "duration": 110,
    "start_time": "2021-11-16T10:48:25.775Z"
   },
   {
    "duration": 3,
    "start_time": "2021-11-16T10:50:18.720Z"
   },
   {
    "duration": 4,
    "start_time": "2021-11-16T10:50:37.649Z"
   },
   {
    "duration": 2,
    "start_time": "2021-11-16T10:50:51.884Z"
   },
   {
    "duration": 3,
    "start_time": "2021-11-16T10:51:56.237Z"
   },
   {
    "duration": 101,
    "start_time": "2021-11-16T10:53:13.791Z"
   },
   {
    "duration": 3,
    "start_time": "2021-11-16T10:55:59.186Z"
   },
   {
    "duration": 3,
    "start_time": "2021-11-16T10:56:10.751Z"
   },
   {
    "duration": 3,
    "start_time": "2021-11-16T10:56:49.038Z"
   },
   {
    "duration": 3,
    "start_time": "2021-11-16T10:56:49.174Z"
   },
   {
    "duration": 4,
    "start_time": "2021-11-16T10:56:49.414Z"
   },
   {
    "duration": 3,
    "start_time": "2021-11-16T10:56:49.680Z"
   },
   {
    "duration": 3,
    "start_time": "2021-11-16T10:56:50.370Z"
   },
   {
    "duration": 114,
    "start_time": "2021-11-16T10:59:34.518Z"
   },
   {
    "duration": 3,
    "start_time": "2021-11-16T11:01:41.201Z"
   },
   {
    "duration": 116,
    "start_time": "2021-11-16T11:01:48.754Z"
   },
   {
    "duration": 3,
    "start_time": "2021-11-16T11:02:16.685Z"
   },
   {
    "duration": 3,
    "start_time": "2021-11-16T11:02:19.479Z"
   },
   {
    "duration": 3,
    "start_time": "2021-11-16T11:02:47.067Z"
   },
   {
    "duration": 3,
    "start_time": "2021-11-16T11:02:49.353Z"
   },
   {
    "duration": 3,
    "start_time": "2021-11-16T11:03:07.835Z"
   },
   {
    "duration": 3,
    "start_time": "2021-11-16T11:03:07.953Z"
   },
   {
    "duration": 112,
    "start_time": "2021-11-16T11:07:52.072Z"
   },
   {
    "duration": 187,
    "start_time": "2021-11-16T11:09:23.468Z"
   },
   {
    "duration": 4,
    "start_time": "2021-11-16T11:10:01.455Z"
   },
   {
    "duration": 3,
    "start_time": "2021-11-16T11:10:05.069Z"
   },
   {
    "duration": 4,
    "start_time": "2021-11-16T11:10:13.376Z"
   },
   {
    "duration": 3,
    "start_time": "2021-11-16T11:10:14.434Z"
   },
   {
    "duration": 3,
    "start_time": "2021-11-16T11:10:22.853Z"
   },
   {
    "duration": 4,
    "start_time": "2021-11-16T11:27:29.279Z"
   },
   {
    "duration": 4,
    "start_time": "2021-11-16T11:29:08.919Z"
   },
   {
    "duration": 118,
    "start_time": "2021-11-16T11:29:46.703Z"
   },
   {
    "duration": 437,
    "start_time": "2021-11-16T11:36:02.181Z"
   },
   {
    "duration": 157,
    "start_time": "2021-11-16T11:36:14.388Z"
   },
   {
    "duration": 207,
    "start_time": "2021-11-16T11:47:15.898Z"
   },
   {
    "duration": 3,
    "start_time": "2021-11-16T11:53:52.092Z"
   },
   {
    "duration": 3,
    "start_time": "2021-11-16T11:53:52.236Z"
   },
   {
    "duration": 3,
    "start_time": "2021-11-16T11:59:12.005Z"
   },
   {
    "duration": 112,
    "start_time": "2021-11-16T12:00:33.446Z"
   },
   {
    "duration": 3,
    "start_time": "2021-11-16T12:02:14.453Z"
   },
   {
    "duration": 3,
    "start_time": "2021-11-16T12:02:39.512Z"
   },
   {
    "duration": 106,
    "start_time": "2021-11-16T12:03:03.460Z"
   },
   {
    "duration": 3,
    "start_time": "2021-11-17T20:37:21.139Z"
   },
   {
    "duration": 3,
    "start_time": "2021-11-17T20:37:22.229Z"
   },
   {
    "duration": 3,
    "start_time": "2021-11-17T20:38:38.806Z"
   },
   {
    "duration": 3,
    "start_time": "2021-11-17T20:38:41.958Z"
   },
   {
    "duration": 3,
    "start_time": "2021-11-17T20:43:46.551Z"
   },
   {
    "duration": 4,
    "start_time": "2021-11-17T20:58:21.835Z"
   },
   {
    "duration": 3,
    "start_time": "2021-11-17T20:59:21.872Z"
   },
   {
    "duration": 4,
    "start_time": "2021-11-17T20:59:45.352Z"
   },
   {
    "duration": 4,
    "start_time": "2021-11-17T20:59:49.646Z"
   },
   {
    "duration": 159,
    "start_time": "2021-11-17T21:02:26.949Z"
   },
   {
    "duration": 3,
    "start_time": "2021-11-17T21:03:53.461Z"
   },
   {
    "duration": 3,
    "start_time": "2021-11-17T21:03:53.694Z"
   },
   {
    "duration": 3,
    "start_time": "2021-11-17T21:05:28.145Z"
   },
   {
    "duration": 116,
    "start_time": "2021-11-17T21:05:57.787Z"
   },
   {
    "duration": 3,
    "start_time": "2021-11-17T21:06:37.993Z"
   },
   {
    "duration": 3,
    "start_time": "2021-11-17T21:06:38.261Z"
   },
   {
    "duration": 3,
    "start_time": "2021-11-17T21:11:54.358Z"
   },
   {
    "duration": 3,
    "start_time": "2021-11-17T21:12:43.846Z"
   },
   {
    "duration": 4,
    "start_time": "2021-11-17T21:13:08.773Z"
   },
   {
    "duration": 3,
    "start_time": "2021-11-17T21:14:44.441Z"
   },
   {
    "duration": 3,
    "start_time": "2021-11-17T21:15:42.059Z"
   },
   {
    "duration": 4,
    "start_time": "2021-11-17T21:15:51.995Z"
   },
   {
    "duration": 3,
    "start_time": "2021-11-17T21:15:53.923Z"
   },
   {
    "duration": 3,
    "start_time": "2021-11-17T21:15:55.282Z"
   },
   {
    "duration": 3,
    "start_time": "2021-11-17T21:16:28.492Z"
   },
   {
    "duration": 3,
    "start_time": "2021-11-17T21:16:32.603Z"
   },
   {
    "duration": 3,
    "start_time": "2021-11-17T21:17:06.941Z"
   },
   {
    "duration": 98,
    "start_time": "2021-11-17T21:18:05.733Z"
   },
   {
    "duration": 4,
    "start_time": "2021-11-17T21:21:35.255Z"
   },
   {
    "duration": 3,
    "start_time": "2021-11-17T21:21:37.804Z"
   },
   {
    "duration": 4,
    "start_time": "2021-11-17T21:23:06.071Z"
   },
   {
    "duration": 3,
    "start_time": "2021-11-17T21:23:24.799Z"
   },
   {
    "duration": 3,
    "start_time": "2021-11-17T21:23:32.591Z"
   },
   {
    "duration": 98,
    "start_time": "2021-11-17T21:28:31.559Z"
   },
   {
    "duration": 3,
    "start_time": "2021-11-17T21:28:45.448Z"
   },
   {
    "duration": 3,
    "start_time": "2021-11-17T21:29:17.303Z"
   },
   {
    "duration": 3,
    "start_time": "2021-11-17T21:29:29.617Z"
   },
   {
    "duration": 3,
    "start_time": "2021-11-17T21:29:32.681Z"
   },
   {
    "duration": 3,
    "start_time": "2021-11-17T21:36:11.474Z"
   },
   {
    "duration": 3,
    "start_time": "2021-11-17T21:36:14.791Z"
   },
   {
    "duration": 3,
    "start_time": "2021-11-17T21:36:53.943Z"
   },
   {
    "duration": 3,
    "start_time": "2021-11-17T21:36:56.165Z"
   },
   {
    "duration": 4,
    "start_time": "2021-11-17T21:37:16.590Z"
   },
   {
    "duration": 3,
    "start_time": "2021-11-17T21:37:22.702Z"
   },
   {
    "duration": 4,
    "start_time": "2021-11-17T21:38:03.479Z"
   },
   {
    "duration": 3,
    "start_time": "2021-11-17T21:38:08.601Z"
   },
   {
    "duration": 3,
    "start_time": "2021-11-17T21:38:12.928Z"
   },
   {
    "duration": 3,
    "start_time": "2021-11-17T21:38:48.896Z"
   },
   {
    "duration": 2,
    "start_time": "2021-11-17T21:38:49.171Z"
   },
   {
    "duration": 4,
    "start_time": "2021-11-17T21:39:57.889Z"
   },
   {
    "duration": 3,
    "start_time": "2021-11-17T21:39:58.057Z"
   },
   {
    "duration": 3,
    "start_time": "2021-11-17T21:41:20.108Z"
   },
   {
    "duration": 3,
    "start_time": "2021-11-17T21:41:20.629Z"
   },
   {
    "duration": 3,
    "start_time": "2021-11-17T21:42:49.136Z"
   },
   {
    "duration": 3,
    "start_time": "2021-11-17T21:43:15.137Z"
   },
   {
    "duration": 4,
    "start_time": "2021-11-17T21:43:16.766Z"
   },
   {
    "duration": 4,
    "start_time": "2021-11-17T21:43:31.711Z"
   },
   {
    "duration": 3,
    "start_time": "2021-11-17T21:43:36.312Z"
   },
   {
    "duration": 4,
    "start_time": "2021-11-17T21:45:08.825Z"
   },
   {
    "duration": 4,
    "start_time": "2021-11-17T21:45:10.119Z"
   },
   {
    "duration": 4,
    "start_time": "2021-11-17T21:45:13.748Z"
   },
   {
    "duration": 3,
    "start_time": "2021-11-17T21:45:22.219Z"
   },
   {
    "duration": 3,
    "start_time": "2021-11-17T21:45:33.412Z"
   },
   {
    "duration": 2,
    "start_time": "2021-11-17T21:46:01.885Z"
   },
   {
    "duration": 3,
    "start_time": "2021-11-17T21:46:03.628Z"
   },
   {
    "duration": 107,
    "start_time": "2021-11-17T21:47:32.512Z"
   },
   {
    "duration": 103,
    "start_time": "2021-11-17T21:50:36.243Z"
   },
   {
    "duration": 3,
    "start_time": "2021-11-18T06:28:31.440Z"
   },
   {
    "duration": 3,
    "start_time": "2021-11-18T06:29:00.168Z"
   },
   {
    "duration": 3,
    "start_time": "2021-11-18T06:31:27.008Z"
   },
   {
    "duration": 2,
    "start_time": "2021-11-18T06:35:34.288Z"
   },
   {
    "duration": 2,
    "start_time": "2021-11-18T06:38:04.527Z"
   },
   {
    "duration": 2610,
    "start_time": "2025-04-28T16:49:06.912Z"
   },
   {
    "duration": 238,
    "start_time": "2025-04-28T16:49:48.224Z"
   },
   {
    "duration": 156,
    "start_time": "2025-04-28T16:50:01.709Z"
   },
   {
    "duration": 194,
    "start_time": "2025-04-28T16:51:19.489Z"
   },
   {
    "duration": 9,
    "start_time": "2025-04-28T16:54:35.533Z"
   },
   {
    "duration": 7,
    "start_time": "2025-04-28T16:55:21.453Z"
   },
   {
    "duration": 110,
    "start_time": "2025-04-28T16:56:57.367Z"
   },
   {
    "duration": 869,
    "start_time": "2025-04-28T16:58:27.912Z"
   },
   {
    "duration": 154,
    "start_time": "2025-04-28T16:58:42.469Z"
   },
   {
    "duration": 4,
    "start_time": "2025-04-28T17:10:25.169Z"
   },
   {
    "duration": 17,
    "start_time": "2025-04-28T17:15:44.752Z"
   },
   {
    "duration": 9,
    "start_time": "2025-04-28T17:16:47.671Z"
   },
   {
    "duration": 802,
    "start_time": "2025-04-28T17:16:59.969Z"
   },
   {
    "duration": 161,
    "start_time": "2025-04-28T17:17:01.298Z"
   },
   {
    "duration": 10,
    "start_time": "2025-04-28T17:17:04.361Z"
   },
   {
    "duration": 6,
    "start_time": "2025-04-28T17:17:07.773Z"
   },
   {
    "duration": 3,
    "start_time": "2025-04-28T17:17:12.725Z"
   },
   {
    "duration": 10,
    "start_time": "2025-04-28T17:17:17.669Z"
   },
   {
    "duration": 162,
    "start_time": "2025-04-28T17:17:30.034Z"
   },
   {
    "duration": 9,
    "start_time": "2025-04-28T17:17:30.806Z"
   },
   {
    "duration": 5,
    "start_time": "2025-04-28T17:17:30.997Z"
   },
   {
    "duration": 3,
    "start_time": "2025-04-28T17:17:34.263Z"
   },
   {
    "duration": 9,
    "start_time": "2025-04-28T17:17:35.490Z"
   },
   {
    "duration": 828,
    "start_time": "2025-04-28T17:20:01.191Z"
   },
   {
    "duration": 170,
    "start_time": "2025-04-28T17:20:02.021Z"
   },
   {
    "duration": 9,
    "start_time": "2025-04-28T17:20:02.194Z"
   },
   {
    "duration": 6,
    "start_time": "2025-04-28T17:20:02.206Z"
   },
   {
    "duration": 3,
    "start_time": "2025-04-28T17:20:02.213Z"
   },
   {
    "duration": 7,
    "start_time": "2025-04-28T17:20:02.218Z"
   },
   {
    "duration": 3,
    "start_time": "2025-04-28T17:20:02.226Z"
   },
   {
    "duration": 2,
    "start_time": "2025-04-28T17:20:02.232Z"
   },
   {
    "duration": 4,
    "start_time": "2025-04-28T17:20:02.235Z"
   },
   {
    "duration": 2,
    "start_time": "2025-04-28T17:20:02.242Z"
   },
   {
    "duration": 39,
    "start_time": "2025-04-28T17:20:02.246Z"
   },
   {
    "duration": 5,
    "start_time": "2025-04-28T17:20:02.287Z"
   },
   {
    "duration": 3,
    "start_time": "2025-04-28T17:20:02.293Z"
   },
   {
    "duration": 5,
    "start_time": "2025-04-28T17:20:02.298Z"
   },
   {
    "duration": 3,
    "start_time": "2025-04-28T17:20:02.305Z"
   },
   {
    "duration": 3,
    "start_time": "2025-04-28T17:20:02.310Z"
   },
   {
    "duration": 3,
    "start_time": "2025-04-28T17:20:02.314Z"
   },
   {
    "duration": 3,
    "start_time": "2025-04-28T17:20:02.319Z"
   },
   {
    "duration": 3,
    "start_time": "2025-04-28T17:20:02.323Z"
   },
   {
    "duration": 3,
    "start_time": "2025-04-28T17:20:02.328Z"
   },
   {
    "duration": 3,
    "start_time": "2025-04-28T17:20:02.332Z"
   },
   {
    "duration": 3,
    "start_time": "2025-04-28T17:20:02.337Z"
   },
   {
    "duration": 3,
    "start_time": "2025-04-28T17:20:02.341Z"
   },
   {
    "duration": 41,
    "start_time": "2025-04-28T17:20:02.345Z"
   },
   {
    "duration": 2,
    "start_time": "2025-04-28T17:20:02.388Z"
   },
   {
    "duration": 3,
    "start_time": "2025-04-28T17:20:02.392Z"
   },
   {
    "duration": 3,
    "start_time": "2025-04-28T17:20:02.396Z"
   },
   {
    "duration": 2,
    "start_time": "2025-04-28T17:20:02.402Z"
   },
   {
    "duration": 3,
    "start_time": "2025-04-28T17:20:02.406Z"
   },
   {
    "duration": 4,
    "start_time": "2025-04-28T17:20:02.410Z"
   },
   {
    "duration": 11,
    "start_time": "2025-04-28T17:20:35.802Z"
   },
   {
    "duration": 14,
    "start_time": "2025-04-28T17:20:50.745Z"
   },
   {
    "duration": 5,
    "start_time": "2025-04-28T17:20:57.872Z"
   },
   {
    "duration": 8,
    "start_time": "2025-04-28T17:21:13.182Z"
   },
   {
    "duration": 6,
    "start_time": "2025-04-28T17:21:26.540Z"
   },
   {
    "duration": 6,
    "start_time": "2025-04-28T17:23:39.112Z"
   },
   {
    "duration": 13,
    "start_time": "2025-04-28T17:25:12.281Z"
   },
   {
    "duration": 269,
    "start_time": "2025-04-28T17:25:42.348Z"
   },
   {
    "duration": 13,
    "start_time": "2025-04-28T17:26:08.644Z"
   },
   {
    "duration": 15,
    "start_time": "2025-04-28T17:27:30.071Z"
   },
   {
    "duration": 58,
    "start_time": "2025-04-28T17:28:39.359Z"
   },
   {
    "duration": 867,
    "start_time": "2025-04-28T17:29:19.406Z"
   },
   {
    "duration": 158,
    "start_time": "2025-04-28T17:29:20.275Z"
   },
   {
    "duration": 9,
    "start_time": "2025-04-28T17:29:21.054Z"
   },
   {
    "duration": 6,
    "start_time": "2025-04-28T17:29:21.255Z"
   },
   {
    "duration": 4,
    "start_time": "2025-04-28T17:29:22.432Z"
   },
   {
    "duration": 7,
    "start_time": "2025-04-28T17:29:23.170Z"
   },
   {
    "duration": 9,
    "start_time": "2025-04-28T17:29:23.700Z"
   },
   {
    "duration": 6,
    "start_time": "2025-04-28T17:29:23.941Z"
   },
   {
    "duration": 13,
    "start_time": "2025-04-28T17:29:26.830Z"
   },
   {
    "duration": 310,
    "start_time": "2025-04-28T17:29:34.203Z"
   },
   {
    "duration": 13,
    "start_time": "2025-04-28T17:30:12.255Z"
   },
   {
    "duration": 12,
    "start_time": "2025-04-28T17:30:51.921Z"
   },
   {
    "duration": 12,
    "start_time": "2025-04-28T17:31:11.115Z"
   },
   {
    "duration": 11,
    "start_time": "2025-04-28T17:31:36.721Z"
   },
   {
    "duration": 3,
    "start_time": "2025-04-28T17:31:43.129Z"
   },
   {
    "duration": 2,
    "start_time": "2025-04-28T17:31:43.290Z"
   },
   {
    "duration": 807,
    "start_time": "2025-04-28T17:31:49.015Z"
   },
   {
    "duration": 154,
    "start_time": "2025-04-28T17:31:49.824Z"
   },
   {
    "duration": 9,
    "start_time": "2025-04-28T17:31:50.265Z"
   },
   {
    "duration": 8,
    "start_time": "2025-04-28T17:31:50.468Z"
   },
   {
    "duration": 3,
    "start_time": "2025-04-28T17:31:52.043Z"
   },
   {
    "duration": 6,
    "start_time": "2025-04-28T17:31:52.702Z"
   },
   {
    "duration": 8,
    "start_time": "2025-04-28T17:31:53.350Z"
   },
   {
    "duration": 5,
    "start_time": "2025-04-28T17:31:54.224Z"
   },
   {
    "duration": 13,
    "start_time": "2025-04-28T17:31:59.033Z"
   },
   {
    "duration": 11,
    "start_time": "2025-04-28T17:32:03.700Z"
   },
   {
    "duration": 804,
    "start_time": "2025-04-28T17:32:16.397Z"
   },
   {
    "duration": 155,
    "start_time": "2025-04-28T17:32:17.203Z"
   },
   {
    "duration": 9,
    "start_time": "2025-04-28T17:32:17.359Z"
   },
   {
    "duration": 5,
    "start_time": "2025-04-28T17:32:17.371Z"
   },
   {
    "duration": 10,
    "start_time": "2025-04-28T17:32:17.377Z"
   },
   {
    "duration": 7,
    "start_time": "2025-04-28T17:32:17.389Z"
   },
   {
    "duration": 7,
    "start_time": "2025-04-28T17:32:17.398Z"
   },
   {
    "duration": 7,
    "start_time": "2025-04-28T17:32:17.406Z"
   },
   {
    "duration": 13,
    "start_time": "2025-04-28T17:32:17.414Z"
   },
   {
    "duration": 8,
    "start_time": "2025-04-28T17:32:17.430Z"
   },
   {
    "duration": 2,
    "start_time": "2025-04-28T17:32:17.439Z"
   },
   {
    "duration": 44,
    "start_time": "2025-04-28T17:32:17.443Z"
   },
   {
    "duration": 3,
    "start_time": "2025-04-28T17:32:17.489Z"
   },
   {
    "duration": 3,
    "start_time": "2025-04-28T17:32:17.494Z"
   },
   {
    "duration": 3,
    "start_time": "2025-04-28T17:32:17.498Z"
   },
   {
    "duration": 2,
    "start_time": "2025-04-28T17:32:17.503Z"
   },
   {
    "duration": 3,
    "start_time": "2025-04-28T17:32:17.507Z"
   },
   {
    "duration": 3,
    "start_time": "2025-04-28T17:32:17.512Z"
   },
   {
    "duration": 4,
    "start_time": "2025-04-28T17:32:17.516Z"
   },
   {
    "duration": 4,
    "start_time": "2025-04-28T17:32:17.521Z"
   },
   {
    "duration": 3,
    "start_time": "2025-04-28T17:32:17.527Z"
   },
   {
    "duration": 3,
    "start_time": "2025-04-28T17:32:17.531Z"
   },
   {
    "duration": 3,
    "start_time": "2025-04-28T17:32:17.536Z"
   },
   {
    "duration": 45,
    "start_time": "2025-04-28T17:32:17.541Z"
   },
   {
    "duration": 3,
    "start_time": "2025-04-28T17:32:17.588Z"
   },
   {
    "duration": 2,
    "start_time": "2025-04-28T17:32:17.593Z"
   },
   {
    "duration": 3,
    "start_time": "2025-04-28T17:32:17.597Z"
   },
   {
    "duration": 2,
    "start_time": "2025-04-28T17:32:17.603Z"
   },
   {
    "duration": 3,
    "start_time": "2025-04-28T17:32:17.607Z"
   },
   {
    "duration": 3,
    "start_time": "2025-04-28T17:32:17.611Z"
   },
   {
    "duration": 3,
    "start_time": "2025-04-28T17:32:17.616Z"
   },
   {
    "duration": 3,
    "start_time": "2025-04-28T17:32:17.621Z"
   },
   {
    "duration": 16,
    "start_time": "2025-04-28T17:34:16.816Z"
   },
   {
    "duration": 4,
    "start_time": "2025-04-28T17:34:34.761Z"
   },
   {
    "duration": 31,
    "start_time": "2025-04-28T17:40:38.641Z"
   },
   {
    "duration": 88,
    "start_time": "2025-04-28T17:44:10.815Z"
   },
   {
    "duration": 5,
    "start_time": "2025-04-28T17:47:25.855Z"
   },
   {
    "duration": 328,
    "start_time": "2025-04-28T17:50:24.516Z"
   },
   {
    "duration": 275,
    "start_time": "2025-04-28T17:51:09.293Z"
   },
   {
    "duration": 813,
    "start_time": "2025-04-28T17:51:26.152Z"
   },
   {
    "duration": 165,
    "start_time": "2025-04-28T17:51:26.968Z"
   },
   {
    "duration": 9,
    "start_time": "2025-04-28T17:51:27.136Z"
   },
   {
    "duration": 5,
    "start_time": "2025-04-28T17:51:27.149Z"
   },
   {
    "duration": 3,
    "start_time": "2025-04-28T17:51:27.156Z"
   },
   {
    "duration": 5,
    "start_time": "2025-04-28T17:51:27.161Z"
   },
   {
    "duration": 26,
    "start_time": "2025-04-28T17:51:27.167Z"
   },
   {
    "duration": 7,
    "start_time": "2025-04-28T17:51:27.195Z"
   },
   {
    "duration": 14,
    "start_time": "2025-04-28T17:51:27.203Z"
   },
   {
    "duration": 8,
    "start_time": "2025-04-28T17:51:27.221Z"
   },
   {
    "duration": 15,
    "start_time": "2025-04-28T17:51:27.231Z"
   },
   {
    "duration": 4,
    "start_time": "2025-04-28T17:51:27.248Z"
   },
   {
    "duration": 782,
    "start_time": "2025-04-28T17:51:27.254Z"
   },
   {
    "duration": 0,
    "start_time": "2025-04-28T17:51:28.038Z"
   },
   {
    "duration": 0,
    "start_time": "2025-04-28T17:51:28.039Z"
   },
   {
    "duration": 0,
    "start_time": "2025-04-28T17:51:28.040Z"
   },
   {
    "duration": 0,
    "start_time": "2025-04-28T17:51:28.042Z"
   },
   {
    "duration": 0,
    "start_time": "2025-04-28T17:51:28.043Z"
   },
   {
    "duration": 0,
    "start_time": "2025-04-28T17:51:28.044Z"
   },
   {
    "duration": 0,
    "start_time": "2025-04-28T17:51:28.045Z"
   },
   {
    "duration": 0,
    "start_time": "2025-04-28T17:51:28.046Z"
   },
   {
    "duration": 0,
    "start_time": "2025-04-28T17:51:28.047Z"
   },
   {
    "duration": 0,
    "start_time": "2025-04-28T17:51:28.048Z"
   },
   {
    "duration": 0,
    "start_time": "2025-04-28T17:51:28.049Z"
   },
   {
    "duration": 0,
    "start_time": "2025-04-28T17:51:28.050Z"
   },
   {
    "duration": 0,
    "start_time": "2025-04-28T17:51:28.050Z"
   },
   {
    "duration": 0,
    "start_time": "2025-04-28T17:51:28.052Z"
   },
   {
    "duration": 0,
    "start_time": "2025-04-28T17:51:28.053Z"
   },
   {
    "duration": 0,
    "start_time": "2025-04-28T17:51:28.054Z"
   },
   {
    "duration": 0,
    "start_time": "2025-04-28T17:51:28.054Z"
   },
   {
    "duration": 0,
    "start_time": "2025-04-28T17:51:28.055Z"
   },
   {
    "duration": 0,
    "start_time": "2025-04-28T17:51:28.056Z"
   },
   {
    "duration": 0,
    "start_time": "2025-04-28T17:51:28.057Z"
   },
   {
    "duration": 281,
    "start_time": "2025-04-28T17:51:44.430Z"
   },
   {
    "duration": 32,
    "start_time": "2025-04-28T17:52:12.524Z"
   },
   {
    "duration": 23,
    "start_time": "2025-04-28T17:52:38.894Z"
   },
   {
    "duration": 790,
    "start_time": "2025-04-28T17:52:59.138Z"
   },
   {
    "duration": 159,
    "start_time": "2025-04-28T17:52:59.930Z"
   },
   {
    "duration": 9,
    "start_time": "2025-04-28T17:53:00.540Z"
   },
   {
    "duration": 6,
    "start_time": "2025-04-28T17:53:00.734Z"
   },
   {
    "duration": 3,
    "start_time": "2025-04-28T17:53:02.685Z"
   },
   {
    "duration": 6,
    "start_time": "2025-04-28T17:53:03.769Z"
   },
   {
    "duration": 8,
    "start_time": "2025-04-28T17:53:05.321Z"
   },
   {
    "duration": 6,
    "start_time": "2025-04-28T17:53:06.541Z"
   },
   {
    "duration": 19,
    "start_time": "2025-04-28T17:53:10.803Z"
   },
   {
    "duration": 11,
    "start_time": "2025-04-28T17:53:13.375Z"
   },
   {
    "duration": 16,
    "start_time": "2025-04-28T17:53:16.852Z"
   },
   {
    "duration": 8,
    "start_time": "2025-04-28T17:53:19.298Z"
   },
   {
    "duration": 115,
    "start_time": "2025-04-28T17:53:40.839Z"
   },
   {
    "duration": 595,
    "start_time": "2025-04-28T17:53:59.387Z"
   },
   {
    "duration": 808,
    "start_time": "2025-04-28T17:54:08.660Z"
   },
   {
    "duration": 156,
    "start_time": "2025-04-28T17:54:09.470Z"
   },
   {
    "duration": 9,
    "start_time": "2025-04-28T17:54:09.628Z"
   },
   {
    "duration": 5,
    "start_time": "2025-04-28T17:54:09.639Z"
   },
   {
    "duration": 4,
    "start_time": "2025-04-28T17:54:09.645Z"
   },
   {
    "duration": 6,
    "start_time": "2025-04-28T17:54:09.650Z"
   },
   {
    "duration": 34,
    "start_time": "2025-04-28T17:54:09.657Z"
   },
   {
    "duration": 6,
    "start_time": "2025-04-28T17:54:09.692Z"
   },
   {
    "duration": 12,
    "start_time": "2025-04-28T17:54:09.700Z"
   },
   {
    "duration": 7,
    "start_time": "2025-04-28T17:54:09.715Z"
   },
   {
    "duration": 74,
    "start_time": "2025-04-28T17:54:09.723Z"
   },
   {
    "duration": 5,
    "start_time": "2025-04-28T17:54:09.799Z"
   },
   {
    "duration": 216,
    "start_time": "2025-04-28T17:54:09.806Z"
   },
   {
    "duration": 3,
    "start_time": "2025-04-28T17:54:10.024Z"
   },
   {
    "duration": 3,
    "start_time": "2025-04-28T17:54:10.029Z"
   },
   {
    "duration": 3,
    "start_time": "2025-04-28T17:54:10.087Z"
   },
   {
    "duration": 3,
    "start_time": "2025-04-28T17:54:10.092Z"
   },
   {
    "duration": 3,
    "start_time": "2025-04-28T17:54:10.096Z"
   },
   {
    "duration": 3,
    "start_time": "2025-04-28T17:54:10.101Z"
   },
   {
    "duration": 4,
    "start_time": "2025-04-28T17:54:10.105Z"
   },
   {
    "duration": 2,
    "start_time": "2025-04-28T17:54:10.111Z"
   },
   {
    "duration": 3,
    "start_time": "2025-04-28T17:54:10.115Z"
   },
   {
    "duration": 3,
    "start_time": "2025-04-28T17:54:10.119Z"
   },
   {
    "duration": 3,
    "start_time": "2025-04-28T17:54:10.124Z"
   },
   {
    "duration": 5,
    "start_time": "2025-04-28T17:54:10.128Z"
   },
   {
    "duration": 52,
    "start_time": "2025-04-28T17:54:10.135Z"
   },
   {
    "duration": 3,
    "start_time": "2025-04-28T17:54:10.189Z"
   },
   {
    "duration": 2,
    "start_time": "2025-04-28T17:54:10.198Z"
   },
   {
    "duration": 2,
    "start_time": "2025-04-28T17:54:10.203Z"
   },
   {
    "duration": 4,
    "start_time": "2025-04-28T17:54:10.206Z"
   },
   {
    "duration": 4,
    "start_time": "2025-04-28T17:54:10.211Z"
   },
   {
    "duration": 2,
    "start_time": "2025-04-28T17:54:10.217Z"
   },
   {
    "duration": 3,
    "start_time": "2025-04-28T17:54:10.221Z"
   },
   {
    "duration": 261,
    "start_time": "2025-04-28T17:56:28.958Z"
   },
   {
    "duration": 18,
    "start_time": "2025-04-28T17:56:44.257Z"
   },
   {
    "duration": 21,
    "start_time": "2025-04-28T17:56:51.011Z"
   },
   {
    "duration": 19,
    "start_time": "2025-04-28T17:57:01.695Z"
   },
   {
    "duration": 17,
    "start_time": "2025-04-28T17:58:14.052Z"
   },
   {
    "duration": 18,
    "start_time": "2025-04-28T17:58:21.431Z"
   },
   {
    "duration": 814,
    "start_time": "2025-04-28T17:58:26.864Z"
   },
   {
    "duration": 154,
    "start_time": "2025-04-28T17:58:27.682Z"
   },
   {
    "duration": 10,
    "start_time": "2025-04-28T17:58:27.837Z"
   },
   {
    "duration": 6,
    "start_time": "2025-04-28T17:58:27.850Z"
   },
   {
    "duration": 4,
    "start_time": "2025-04-28T17:58:27.858Z"
   },
   {
    "duration": 23,
    "start_time": "2025-04-28T17:58:27.863Z"
   },
   {
    "duration": 8,
    "start_time": "2025-04-28T17:58:27.888Z"
   },
   {
    "duration": 6,
    "start_time": "2025-04-28T17:58:27.898Z"
   },
   {
    "duration": 13,
    "start_time": "2025-04-28T17:58:27.905Z"
   },
   {
    "duration": 9,
    "start_time": "2025-04-28T17:58:27.920Z"
   },
   {
    "duration": 15,
    "start_time": "2025-04-28T17:58:27.930Z"
   },
   {
    "duration": 39,
    "start_time": "2025-04-28T17:58:27.947Z"
   },
   {
    "duration": 123,
    "start_time": "2025-04-28T17:58:27.988Z"
   },
   {
    "duration": 24,
    "start_time": "2025-04-28T17:58:28.113Z"
   },
   {
    "duration": 4,
    "start_time": "2025-04-28T17:58:28.139Z"
   },
   {
    "duration": 2,
    "start_time": "2025-04-28T17:58:28.145Z"
   },
   {
    "duration": 3,
    "start_time": "2025-04-28T17:58:28.150Z"
   },
   {
    "duration": 3,
    "start_time": "2025-04-28T17:58:28.154Z"
   },
   {
    "duration": 2,
    "start_time": "2025-04-28T17:58:28.161Z"
   },
   {
    "duration": 2,
    "start_time": "2025-04-28T17:58:28.187Z"
   },
   {
    "duration": 3,
    "start_time": "2025-04-28T17:58:28.191Z"
   },
   {
    "duration": 2,
    "start_time": "2025-04-28T17:58:28.196Z"
   },
   {
    "duration": 3,
    "start_time": "2025-04-28T17:58:28.200Z"
   },
   {
    "duration": 2,
    "start_time": "2025-04-28T17:58:28.205Z"
   },
   {
    "duration": 3,
    "start_time": "2025-04-28T17:58:28.209Z"
   },
   {
    "duration": 2,
    "start_time": "2025-04-28T17:58:28.214Z"
   },
   {
    "duration": 3,
    "start_time": "2025-04-28T17:58:28.218Z"
   },
   {
    "duration": 2,
    "start_time": "2025-04-28T17:58:28.225Z"
   },
   {
    "duration": 2,
    "start_time": "2025-04-28T17:58:28.229Z"
   },
   {
    "duration": 3,
    "start_time": "2025-04-28T17:58:28.233Z"
   },
   {
    "duration": 3,
    "start_time": "2025-04-28T17:58:28.238Z"
   },
   {
    "duration": 3,
    "start_time": "2025-04-28T17:58:28.287Z"
   },
   {
    "duration": 3,
    "start_time": "2025-04-28T17:58:28.292Z"
   },
   {
    "duration": 4,
    "start_time": "2025-04-28T17:58:28.296Z"
   },
   {
    "duration": 3,
    "start_time": "2025-04-28T17:59:34.238Z"
   },
   {
    "duration": 818,
    "start_time": "2025-04-28T17:59:37.946Z"
   },
   {
    "duration": 157,
    "start_time": "2025-04-28T17:59:38.766Z"
   },
   {
    "duration": 9,
    "start_time": "2025-04-28T17:59:38.925Z"
   },
   {
    "duration": 6,
    "start_time": "2025-04-28T17:59:38.937Z"
   },
   {
    "duration": 3,
    "start_time": "2025-04-28T17:59:38.945Z"
   },
   {
    "duration": 6,
    "start_time": "2025-04-28T17:59:38.949Z"
   },
   {
    "duration": 7,
    "start_time": "2025-04-28T17:59:38.957Z"
   },
   {
    "duration": 25,
    "start_time": "2025-04-28T17:59:38.966Z"
   },
   {
    "duration": 12,
    "start_time": "2025-04-28T17:59:38.994Z"
   },
   {
    "duration": 8,
    "start_time": "2025-04-28T17:59:39.009Z"
   },
   {
    "duration": 15,
    "start_time": "2025-04-28T17:59:39.019Z"
   },
   {
    "duration": 5,
    "start_time": "2025-04-28T17:59:39.036Z"
   },
   {
    "duration": 144,
    "start_time": "2025-04-28T17:59:39.044Z"
   },
   {
    "duration": 4,
    "start_time": "2025-04-28T17:59:39.190Z"
   },
   {
    "duration": 3,
    "start_time": "2025-04-28T17:59:39.196Z"
   },
   {
    "duration": 3,
    "start_time": "2025-04-28T17:59:39.200Z"
   },
   {
    "duration": 3,
    "start_time": "2025-04-28T17:59:39.205Z"
   },
   {
    "duration": 4,
    "start_time": "2025-04-28T17:59:39.209Z"
   },
   {
    "duration": 3,
    "start_time": "2025-04-28T17:59:39.215Z"
   },
   {
    "duration": 4,
    "start_time": "2025-04-28T17:59:39.219Z"
   },
   {
    "duration": 2,
    "start_time": "2025-04-28T17:59:39.226Z"
   },
   {
    "duration": 3,
    "start_time": "2025-04-28T17:59:39.230Z"
   },
   {
    "duration": 3,
    "start_time": "2025-04-28T17:59:39.235Z"
   },
   {
    "duration": 48,
    "start_time": "2025-04-28T17:59:39.239Z"
   },
   {
    "duration": 2,
    "start_time": "2025-04-28T17:59:39.291Z"
   },
   {
    "duration": 3,
    "start_time": "2025-04-28T17:59:39.295Z"
   },
   {
    "duration": 3,
    "start_time": "2025-04-28T17:59:39.300Z"
   },
   {
    "duration": 1,
    "start_time": "2025-04-28T17:59:39.307Z"
   },
   {
    "duration": 3,
    "start_time": "2025-04-28T17:59:39.310Z"
   },
   {
    "duration": 3,
    "start_time": "2025-04-28T17:59:39.314Z"
   },
   {
    "duration": 3,
    "start_time": "2025-04-28T17:59:39.319Z"
   },
   {
    "duration": 3,
    "start_time": "2025-04-28T17:59:39.324Z"
   },
   {
    "duration": 4,
    "start_time": "2025-04-28T17:59:39.328Z"
   },
   {
    "duration": 4,
    "start_time": "2025-04-28T17:59:39.333Z"
   },
   {
    "duration": 4,
    "start_time": "2025-04-28T18:00:22.747Z"
   },
   {
    "duration": 12,
    "start_time": "2025-04-28T18:00:27.312Z"
   },
   {
    "duration": 697,
    "start_time": "2025-04-28T18:02:39.642Z"
   },
   {
    "duration": 384,
    "start_time": "2025-04-28T18:03:13.771Z"
   },
   {
    "duration": 839,
    "start_time": "2025-04-28T18:03:18.728Z"
   },
   {
    "duration": 238,
    "start_time": "2025-04-28T18:03:19.569Z"
   },
   {
    "duration": 9,
    "start_time": "2025-04-28T18:03:19.809Z"
   },
   {
    "duration": 6,
    "start_time": "2025-04-28T18:03:19.820Z"
   },
   {
    "duration": 3,
    "start_time": "2025-04-28T18:03:19.828Z"
   },
   {
    "duration": 60,
    "start_time": "2025-04-28T18:03:19.832Z"
   },
   {
    "duration": 9,
    "start_time": "2025-04-28T18:03:19.894Z"
   },
   {
    "duration": 5,
    "start_time": "2025-04-28T18:03:19.904Z"
   },
   {
    "duration": 18,
    "start_time": "2025-04-28T18:03:19.911Z"
   },
   {
    "duration": 11,
    "start_time": "2025-04-28T18:03:19.986Z"
   },
   {
    "duration": 15,
    "start_time": "2025-04-28T18:03:19.999Z"
   },
   {
    "duration": 5,
    "start_time": "2025-04-28T18:03:20.016Z"
   },
   {
    "duration": 265,
    "start_time": "2025-04-28T18:03:20.022Z"
   },
   {
    "duration": 3,
    "start_time": "2025-04-28T18:03:20.289Z"
   },
   {
    "duration": 17,
    "start_time": "2025-04-28T18:03:20.294Z"
   },
   {
    "duration": 5,
    "start_time": "2025-04-28T18:03:20.312Z"
   },
   {
    "duration": 862,
    "start_time": "2025-04-28T18:03:20.319Z"
   },
   {
    "duration": 0,
    "start_time": "2025-04-28T18:03:21.187Z"
   },
   {
    "duration": 0,
    "start_time": "2025-04-28T18:03:21.188Z"
   },
   {
    "duration": 0,
    "start_time": "2025-04-28T18:03:21.189Z"
   },
   {
    "duration": 0,
    "start_time": "2025-04-28T18:03:21.190Z"
   },
   {
    "duration": 0,
    "start_time": "2025-04-28T18:03:21.191Z"
   },
   {
    "duration": 0,
    "start_time": "2025-04-28T18:03:21.192Z"
   },
   {
    "duration": 0,
    "start_time": "2025-04-28T18:03:21.194Z"
   },
   {
    "duration": 0,
    "start_time": "2025-04-28T18:03:21.195Z"
   },
   {
    "duration": 0,
    "start_time": "2025-04-28T18:03:21.197Z"
   },
   {
    "duration": 0,
    "start_time": "2025-04-28T18:03:21.198Z"
   },
   {
    "duration": 0,
    "start_time": "2025-04-28T18:03:21.199Z"
   },
   {
    "duration": 0,
    "start_time": "2025-04-28T18:03:21.200Z"
   },
   {
    "duration": 0,
    "start_time": "2025-04-28T18:03:21.201Z"
   },
   {
    "duration": 0,
    "start_time": "2025-04-28T18:03:21.202Z"
   },
   {
    "duration": 0,
    "start_time": "2025-04-28T18:03:21.206Z"
   },
   {
    "duration": 0,
    "start_time": "2025-04-28T18:03:21.207Z"
   },
   {
    "duration": 0,
    "start_time": "2025-04-28T18:03:21.208Z"
   },
   {
    "duration": 0,
    "start_time": "2025-04-28T18:03:21.209Z"
   },
   {
    "duration": 272,
    "start_time": "2025-04-28T18:04:26.902Z"
   },
   {
    "duration": 34,
    "start_time": "2025-04-28T18:04:40.349Z"
   },
   {
    "duration": 862,
    "start_time": "2025-04-28T18:04:45.226Z"
   },
   {
    "duration": 170,
    "start_time": "2025-04-28T18:04:46.090Z"
   },
   {
    "duration": 12,
    "start_time": "2025-04-28T18:04:46.262Z"
   },
   {
    "duration": 7,
    "start_time": "2025-04-28T18:04:46.286Z"
   },
   {
    "duration": 4,
    "start_time": "2025-04-28T18:04:46.295Z"
   },
   {
    "duration": 7,
    "start_time": "2025-04-28T18:04:46.301Z"
   },
   {
    "duration": 10,
    "start_time": "2025-04-28T18:04:46.310Z"
   },
   {
    "duration": 7,
    "start_time": "2025-04-28T18:04:46.322Z"
   },
   {
    "duration": 17,
    "start_time": "2025-04-28T18:04:46.332Z"
   },
   {
    "duration": 44,
    "start_time": "2025-04-28T18:04:46.352Z"
   },
   {
    "duration": 22,
    "start_time": "2025-04-28T18:04:46.398Z"
   },
   {
    "duration": 6,
    "start_time": "2025-04-28T18:04:46.421Z"
   },
   {
    "duration": 363,
    "start_time": "2025-04-28T18:04:46.428Z"
   },
   {
    "duration": 4,
    "start_time": "2025-04-28T18:04:46.793Z"
   },
   {
    "duration": 16,
    "start_time": "2025-04-28T18:04:46.799Z"
   },
   {
    "duration": 5,
    "start_time": "2025-04-28T18:04:46.817Z"
   },
   {
    "duration": 281,
    "start_time": "2025-04-28T18:04:46.823Z"
   },
   {
    "duration": 3,
    "start_time": "2025-04-28T18:04:47.106Z"
   },
   {
    "duration": 3,
    "start_time": "2025-04-28T18:04:47.111Z"
   },
   {
    "duration": 3,
    "start_time": "2025-04-28T18:04:47.116Z"
   },
   {
    "duration": 3,
    "start_time": "2025-04-28T18:04:47.120Z"
   },
   {
    "duration": 3,
    "start_time": "2025-04-28T18:04:47.125Z"
   },
   {
    "duration": 60,
    "start_time": "2025-04-28T18:04:47.130Z"
   },
   {
    "duration": 3,
    "start_time": "2025-04-28T18:04:47.192Z"
   },
   {
    "duration": 4,
    "start_time": "2025-04-28T18:04:47.196Z"
   },
   {
    "duration": 2,
    "start_time": "2025-04-28T18:04:47.203Z"
   },
   {
    "duration": 3,
    "start_time": "2025-04-28T18:04:47.208Z"
   },
   {
    "duration": 3,
    "start_time": "2025-04-28T18:04:47.218Z"
   },
   {
    "duration": 4,
    "start_time": "2025-04-28T18:04:47.224Z"
   },
   {
    "duration": 2,
    "start_time": "2025-04-28T18:04:47.231Z"
   },
   {
    "duration": 3,
    "start_time": "2025-04-28T18:04:47.235Z"
   },
   {
    "duration": 46,
    "start_time": "2025-04-28T18:04:47.241Z"
   },
   {
    "duration": 3,
    "start_time": "2025-04-28T18:04:47.289Z"
   },
   {
    "duration": 2,
    "start_time": "2025-04-28T18:04:47.294Z"
   },
   {
    "duration": 2,
    "start_time": "2025-04-28T18:04:47.298Z"
   },
   {
    "duration": 14,
    "start_time": "2025-04-28T18:07:04.229Z"
   },
   {
    "duration": 15,
    "start_time": "2025-04-28T18:07:11.372Z"
   },
   {
    "duration": 14,
    "start_time": "2025-04-28T18:07:12.214Z"
   },
   {
    "duration": 5,
    "start_time": "2025-04-28T18:07:22.843Z"
   },
   {
    "duration": 276,
    "start_time": "2025-04-28T18:08:55.620Z"
   },
   {
    "duration": 16,
    "start_time": "2025-04-28T18:09:07.298Z"
   },
   {
    "duration": 18,
    "start_time": "2025-04-28T18:10:39.144Z"
   },
   {
    "duration": 25,
    "start_time": "2025-04-28T18:11:07.215Z"
   },
   {
    "duration": 19,
    "start_time": "2025-04-28T18:11:20.589Z"
   },
   {
    "duration": 14,
    "start_time": "2025-04-28T18:12:16.388Z"
   },
   {
    "duration": 3,
    "start_time": "2025-04-28T18:12:52.646Z"
   },
   {
    "duration": 15,
    "start_time": "2025-04-28T18:12:55.281Z"
   },
   {
    "duration": 10,
    "start_time": "2025-04-28T18:14:18.772Z"
   },
   {
    "duration": 21,
    "start_time": "2025-04-28T18:14:36.340Z"
   },
   {
    "duration": 10,
    "start_time": "2025-04-28T18:14:49.102Z"
   },
   {
    "duration": 5,
    "start_time": "2025-04-28T18:16:41.493Z"
   },
   {
    "duration": 607,
    "start_time": "2025-04-28T18:17:35.837Z"
   },
   {
    "duration": 837,
    "start_time": "2025-04-28T18:17:57.624Z"
   },
   {
    "duration": 158,
    "start_time": "2025-04-28T18:17:58.464Z"
   },
   {
    "duration": 10,
    "start_time": "2025-04-28T18:17:58.842Z"
   },
   {
    "duration": 6,
    "start_time": "2025-04-28T18:17:59.070Z"
   },
   {
    "duration": 4,
    "start_time": "2025-04-28T18:18:00.122Z"
   },
   {
    "duration": 17,
    "start_time": "2025-04-28T18:18:00.677Z"
   },
   {
    "duration": 8,
    "start_time": "2025-04-28T18:18:01.024Z"
   },
   {
    "duration": 7,
    "start_time": "2025-04-28T18:18:01.191Z"
   },
   {
    "duration": 16,
    "start_time": "2025-04-28T18:18:02.217Z"
   },
   {
    "duration": 9,
    "start_time": "2025-04-28T18:18:02.723Z"
   },
   {
    "duration": 15,
    "start_time": "2025-04-28T18:18:03.083Z"
   },
   {
    "duration": 5,
    "start_time": "2025-04-28T18:18:03.232Z"
   },
   {
    "duration": 114,
    "start_time": "2025-04-28T18:18:04.143Z"
   },
   {
    "duration": 12,
    "start_time": "2025-04-28T18:18:05.026Z"
   },
   {
    "duration": 4,
    "start_time": "2025-04-28T18:18:05.214Z"
   },
   {
    "duration": 65,
    "start_time": "2025-04-28T18:18:06.254Z"
   },
   {
    "duration": 15,
    "start_time": "2025-04-28T18:18:07.883Z"
   },
   {
    "duration": 5,
    "start_time": "2025-04-28T18:18:08.644Z"
   },
   {
    "duration": 727,
    "start_time": "2025-04-28T18:18:12.932Z"
   },
   {
    "duration": 270,
    "start_time": "2025-04-28T18:18:28.308Z"
   },
   {
    "duration": 825,
    "start_time": "2025-04-28T18:18:47.551Z"
   },
   {
    "duration": 162,
    "start_time": "2025-04-28T18:18:48.378Z"
   },
   {
    "duration": 9,
    "start_time": "2025-04-28T18:18:48.542Z"
   },
   {
    "duration": 7,
    "start_time": "2025-04-28T18:18:48.553Z"
   },
   {
    "duration": 26,
    "start_time": "2025-04-28T18:18:48.562Z"
   },
   {
    "duration": 15,
    "start_time": "2025-04-28T18:18:48.589Z"
   },
   {
    "duration": 8,
    "start_time": "2025-04-28T18:18:48.605Z"
   },
   {
    "duration": 7,
    "start_time": "2025-04-28T18:18:48.615Z"
   },
   {
    "duration": 67,
    "start_time": "2025-04-28T18:18:48.623Z"
   },
   {
    "duration": 8,
    "start_time": "2025-04-28T18:18:48.693Z"
   },
   {
    "duration": 15,
    "start_time": "2025-04-28T18:18:48.703Z"
   },
   {
    "duration": 5,
    "start_time": "2025-04-28T18:18:48.719Z"
   },
   {
    "duration": 262,
    "start_time": "2025-04-28T18:18:48.725Z"
   },
   {
    "duration": 20,
    "start_time": "2025-04-28T18:18:48.989Z"
   },
   {
    "duration": 5,
    "start_time": "2025-04-28T18:18:49.011Z"
   },
   {
    "duration": 173,
    "start_time": "2025-04-28T18:18:49.018Z"
   },
   {
    "duration": 12,
    "start_time": "2025-04-28T18:18:49.193Z"
   },
   {
    "duration": 4,
    "start_time": "2025-04-28T18:18:49.207Z"
   },
   {
    "duration": 219,
    "start_time": "2025-04-28T18:18:49.213Z"
   },
   {
    "duration": 2,
    "start_time": "2025-04-28T18:18:49.434Z"
   },
   {
    "duration": 3,
    "start_time": "2025-04-28T18:18:49.438Z"
   },
   {
    "duration": 4,
    "start_time": "2025-04-28T18:18:49.442Z"
   },
   {
    "duration": 39,
    "start_time": "2025-04-28T18:18:49.447Z"
   },
   {
    "duration": 5,
    "start_time": "2025-04-28T18:18:49.488Z"
   },
   {
    "duration": 3,
    "start_time": "2025-04-28T18:18:49.495Z"
   },
   {
    "duration": 4,
    "start_time": "2025-04-28T18:18:49.500Z"
   },
   {
    "duration": 3,
    "start_time": "2025-04-28T18:18:49.506Z"
   },
   {
    "duration": 2,
    "start_time": "2025-04-28T18:18:49.512Z"
   },
   {
    "duration": 2,
    "start_time": "2025-04-28T18:18:49.516Z"
   },
   {
    "duration": 3,
    "start_time": "2025-04-28T18:18:49.520Z"
   },
   {
    "duration": 4,
    "start_time": "2025-04-28T18:18:49.524Z"
   },
   {
    "duration": 2,
    "start_time": "2025-04-28T18:18:49.531Z"
   },
   {
    "duration": 3,
    "start_time": "2025-04-28T18:18:49.535Z"
   },
   {
    "duration": 4,
    "start_time": "2025-04-28T18:18:49.539Z"
   },
   {
    "duration": 42,
    "start_time": "2025-04-28T18:18:49.545Z"
   },
   {
    "duration": 266,
    "start_time": "2025-04-28T18:21:39.481Z"
   },
   {
    "duration": 3,
    "start_time": "2025-04-28T18:21:44.587Z"
   },
   {
    "duration": 12,
    "start_time": "2025-04-28T18:21:47.640Z"
   },
   {
    "duration": 28,
    "start_time": "2025-04-28T18:23:24.305Z"
   },
   {
    "duration": 25,
    "start_time": "2025-04-28T18:23:44.832Z"
   },
   {
    "duration": 27,
    "start_time": "2025-04-28T18:23:56.142Z"
   },
   {
    "duration": 35,
    "start_time": "2025-04-28T18:24:36.524Z"
   },
   {
    "duration": 23,
    "start_time": "2025-04-28T18:25:21.942Z"
   },
   {
    "duration": 30,
    "start_time": "2025-04-28T18:26:02.040Z"
   },
   {
    "duration": 18,
    "start_time": "2025-04-28T18:29:26.850Z"
   },
   {
    "duration": 20,
    "start_time": "2025-04-28T18:29:41.420Z"
   },
   {
    "duration": 12,
    "start_time": "2025-04-28T18:30:07.524Z"
   },
   {
    "duration": 11,
    "start_time": "2025-04-28T18:30:13.199Z"
   },
   {
    "duration": 14,
    "start_time": "2025-04-28T18:30:22.670Z"
   },
   {
    "duration": 15,
    "start_time": "2025-04-28T18:30:43.320Z"
   },
   {
    "duration": 13,
    "start_time": "2025-04-28T18:31:01.525Z"
   },
   {
    "duration": 21,
    "start_time": "2025-04-28T18:31:20.311Z"
   },
   {
    "duration": 40,
    "start_time": "2025-04-28T18:33:00.000Z"
   },
   {
    "duration": 40,
    "start_time": "2025-04-28T18:33:06.605Z"
   },
   {
    "duration": 41,
    "start_time": "2025-04-28T18:33:09.984Z"
   },
   {
    "duration": 12,
    "start_time": "2025-04-28T18:33:10.836Z"
   },
   {
    "duration": 19,
    "start_time": "2025-04-28T18:35:35.654Z"
   },
   {
    "duration": 12,
    "start_time": "2025-04-28T18:35:39.288Z"
   },
   {
    "duration": 12,
    "start_time": "2025-04-28T18:35:41.907Z"
   },
   {
    "duration": 12,
    "start_time": "2025-04-28T18:35:45.433Z"
   },
   {
    "duration": 9,
    "start_time": "2025-04-28T18:35:48.976Z"
   },
   {
    "duration": 18,
    "start_time": "2025-04-28T18:37:29.125Z"
   },
   {
    "duration": 12,
    "start_time": "2025-04-28T18:37:29.577Z"
   },
   {
    "duration": 12,
    "start_time": "2025-04-28T18:37:29.965Z"
   },
   {
    "duration": 8,
    "start_time": "2025-04-28T18:37:30.426Z"
   },
   {
    "duration": 40,
    "start_time": "2025-04-28T18:37:31.687Z"
   },
   {
    "duration": 11,
    "start_time": "2025-04-28T18:37:34.965Z"
   },
   {
    "duration": 12,
    "start_time": "2025-04-28T18:38:36.769Z"
   },
   {
    "duration": 12,
    "start_time": "2025-04-28T18:38:37.493Z"
   },
   {
    "duration": 9,
    "start_time": "2025-04-28T18:38:37.687Z"
   },
   {
    "duration": 39,
    "start_time": "2025-04-28T18:38:38.937Z"
   },
   {
    "duration": 11,
    "start_time": "2025-04-28T18:38:42.231Z"
   },
   {
    "duration": 39,
    "start_time": "2025-04-28T18:38:51.714Z"
   },
   {
    "duration": 43,
    "start_time": "2025-04-28T18:38:56.379Z"
   },
   {
    "duration": 11,
    "start_time": "2025-04-28T18:38:59.072Z"
   },
   {
    "duration": 842,
    "start_time": "2025-04-28T18:39:18.698Z"
   },
   {
    "duration": 156,
    "start_time": "2025-04-28T18:39:19.542Z"
   },
   {
    "duration": 9,
    "start_time": "2025-04-28T18:39:19.699Z"
   },
   {
    "duration": 7,
    "start_time": "2025-04-28T18:39:19.711Z"
   },
   {
    "duration": 3,
    "start_time": "2025-04-28T18:39:19.719Z"
   },
   {
    "duration": 14,
    "start_time": "2025-04-28T18:39:19.724Z"
   },
   {
    "duration": 8,
    "start_time": "2025-04-28T18:39:19.739Z"
   },
   {
    "duration": 7,
    "start_time": "2025-04-28T18:39:19.749Z"
   },
   {
    "duration": 43,
    "start_time": "2025-04-28T18:39:19.758Z"
   },
   {
    "duration": 8,
    "start_time": "2025-04-28T18:39:19.804Z"
   },
   {
    "duration": 14,
    "start_time": "2025-04-28T18:39:19.814Z"
   },
   {
    "duration": 4,
    "start_time": "2025-04-28T18:39:19.830Z"
   },
   {
    "duration": 139,
    "start_time": "2025-04-28T18:39:19.836Z"
   },
   {
    "duration": 16,
    "start_time": "2025-04-28T18:39:19.976Z"
   },
   {
    "duration": 5,
    "start_time": "2025-04-28T18:39:19.994Z"
   },
   {
    "duration": 64,
    "start_time": "2025-04-28T18:39:20.000Z"
   },
   {
    "duration": 32,
    "start_time": "2025-04-28T18:39:20.066Z"
   },
   {
    "duration": 4,
    "start_time": "2025-04-28T18:39:20.100Z"
   },
   {
    "duration": 108,
    "start_time": "2025-04-28T18:39:20.106Z"
   },
   {
    "duration": 11,
    "start_time": "2025-04-28T18:39:20.217Z"
   },
   {
    "duration": 18,
    "start_time": "2025-04-28T18:39:20.230Z"
   },
   {
    "duration": 11,
    "start_time": "2025-04-28T18:39:20.250Z"
   },
   {
    "duration": 33,
    "start_time": "2025-04-28T18:39:20.262Z"
   },
   {
    "duration": 290,
    "start_time": "2025-04-28T18:39:20.297Z"
   },
   {
    "duration": 0,
    "start_time": "2025-04-28T18:39:20.590Z"
   },
   {
    "duration": 0,
    "start_time": "2025-04-28T18:39:20.591Z"
   },
   {
    "duration": 0,
    "start_time": "2025-04-28T18:39:20.592Z"
   },
   {
    "duration": 0,
    "start_time": "2025-04-28T18:39:20.593Z"
   },
   {
    "duration": 0,
    "start_time": "2025-04-28T18:39:20.594Z"
   },
   {
    "duration": 0,
    "start_time": "2025-04-28T18:39:20.595Z"
   },
   {
    "duration": 0,
    "start_time": "2025-04-28T18:39:20.597Z"
   },
   {
    "duration": 1,
    "start_time": "2025-04-28T18:39:20.598Z"
   },
   {
    "duration": 0,
    "start_time": "2025-04-28T18:39:20.600Z"
   },
   {
    "duration": 0,
    "start_time": "2025-04-28T18:39:20.601Z"
   },
   {
    "duration": 0,
    "start_time": "2025-04-28T18:39:20.603Z"
   },
   {
    "duration": 10,
    "start_time": "2025-04-28T18:39:58.333Z"
   },
   {
    "duration": 45,
    "start_time": "2025-04-28T18:40:03.560Z"
   },
   {
    "duration": 40,
    "start_time": "2025-04-28T18:40:11.737Z"
   },
   {
    "duration": 38,
    "start_time": "2025-04-28T18:40:14.307Z"
   },
   {
    "duration": 12,
    "start_time": "2025-04-28T18:40:15.607Z"
   },
   {
    "duration": 18,
    "start_time": "2025-04-28T18:45:32.379Z"
   },
   {
    "duration": 18,
    "start_time": "2025-04-28T18:46:23.500Z"
   },
   {
    "duration": 19,
    "start_time": "2025-04-28T18:47:14.345Z"
   },
   {
    "duration": 821,
    "start_time": "2025-04-28T18:47:27.486Z"
   },
   {
    "duration": 151,
    "start_time": "2025-04-28T18:47:28.310Z"
   },
   {
    "duration": 9,
    "start_time": "2025-04-28T18:47:28.463Z"
   },
   {
    "duration": 14,
    "start_time": "2025-04-28T18:47:28.475Z"
   },
   {
    "duration": 5,
    "start_time": "2025-04-28T18:47:28.490Z"
   },
   {
    "duration": 14,
    "start_time": "2025-04-28T18:47:28.497Z"
   },
   {
    "duration": 8,
    "start_time": "2025-04-28T18:47:28.512Z"
   },
   {
    "duration": 7,
    "start_time": "2025-04-28T18:47:28.522Z"
   },
   {
    "duration": 16,
    "start_time": "2025-04-28T18:47:28.531Z"
   },
   {
    "duration": 9,
    "start_time": "2025-04-28T18:47:28.587Z"
   },
   {
    "duration": 15,
    "start_time": "2025-04-28T18:47:28.597Z"
   },
   {
    "duration": 4,
    "start_time": "2025-04-28T18:47:28.614Z"
   },
   {
    "duration": 130,
    "start_time": "2025-04-28T18:47:28.621Z"
   },
   {
    "duration": 12,
    "start_time": "2025-04-28T18:47:28.753Z"
   },
   {
    "duration": 20,
    "start_time": "2025-04-28T18:47:28.767Z"
   },
   {
    "duration": 64,
    "start_time": "2025-04-28T18:47:28.789Z"
   },
   {
    "duration": 13,
    "start_time": "2025-04-28T18:47:28.855Z"
   },
   {
    "duration": 19,
    "start_time": "2025-04-28T18:47:28.870Z"
   },
   {
    "duration": 98,
    "start_time": "2025-04-28T18:47:28.890Z"
   },
   {
    "duration": 16,
    "start_time": "2025-04-28T18:47:28.990Z"
   },
   {
    "duration": 17,
    "start_time": "2025-04-28T18:47:29.008Z"
   },
   {
    "duration": 10,
    "start_time": "2025-04-28T18:47:29.027Z"
   },
   {
    "duration": 11,
    "start_time": "2025-04-28T18:47:29.039Z"
   },
   {
    "duration": 35,
    "start_time": "2025-04-28T18:47:29.052Z"
   },
   {
    "duration": 37,
    "start_time": "2025-04-28T18:47:29.091Z"
   },
   {
    "duration": 17,
    "start_time": "2025-04-28T18:47:29.130Z"
   },
   {
    "duration": 289,
    "start_time": "2025-04-28T18:47:29.149Z"
   },
   {
    "duration": 0,
    "start_time": "2025-04-28T18:47:29.440Z"
   },
   {
    "duration": 0,
    "start_time": "2025-04-28T18:47:29.441Z"
   },
   {
    "duration": 0,
    "start_time": "2025-04-28T18:47:29.442Z"
   },
   {
    "duration": 0,
    "start_time": "2025-04-28T18:47:29.443Z"
   },
   {
    "duration": 0,
    "start_time": "2025-04-28T18:47:29.444Z"
   },
   {
    "duration": 0,
    "start_time": "2025-04-28T18:47:29.445Z"
   },
   {
    "duration": 0,
    "start_time": "2025-04-28T18:47:29.446Z"
   },
   {
    "duration": 0,
    "start_time": "2025-04-28T18:47:29.447Z"
   },
   {
    "duration": 28,
    "start_time": "2025-04-28T18:53:38.003Z"
   },
   {
    "duration": 9,
    "start_time": "2025-04-28T18:54:36.553Z"
   },
   {
    "duration": 26,
    "start_time": "2025-04-28T18:56:48.097Z"
   },
   {
    "duration": 23,
    "start_time": "2025-04-28T18:58:21.443Z"
   },
   {
    "duration": 24,
    "start_time": "2025-04-28T18:58:46.915Z"
   },
   {
    "duration": 22,
    "start_time": "2025-04-28T18:59:18.536Z"
   },
   {
    "duration": 23,
    "start_time": "2025-04-28T19:01:11.162Z"
   },
   {
    "duration": 13,
    "start_time": "2025-04-28T19:06:51.471Z"
   },
   {
    "duration": 19,
    "start_time": "2025-04-28T19:07:00.541Z"
   },
   {
    "duration": 19,
    "start_time": "2025-04-28T19:15:36.500Z"
   },
   {
    "duration": 19,
    "start_time": "2025-04-28T19:17:20.295Z"
   },
   {
    "duration": 14,
    "start_time": "2025-04-28T19:19:43.536Z"
   },
   {
    "duration": 16,
    "start_time": "2025-04-28T19:20:32.337Z"
   },
   {
    "duration": 441,
    "start_time": "2025-04-28T19:21:21.758Z"
   },
   {
    "duration": 15,
    "start_time": "2025-04-28T19:22:24.124Z"
   },
   {
    "duration": 58,
    "start_time": "2025-04-28T19:22:51.623Z"
   },
   {
    "duration": 20,
    "start_time": "2025-04-28T19:23:40.363Z"
   },
   {
    "duration": 44,
    "start_time": "2025-04-28T19:24:01.658Z"
   },
   {
    "duration": 14,
    "start_time": "2025-04-28T19:24:18.165Z"
   },
   {
    "duration": 14,
    "start_time": "2025-04-28T19:25:18.523Z"
   },
   {
    "duration": 20,
    "start_time": "2025-04-28T19:27:58.015Z"
   },
   {
    "duration": 42,
    "start_time": "2025-04-28T19:30:22.782Z"
   },
   {
    "duration": 5,
    "start_time": "2025-04-28T19:30:35.789Z"
   },
   {
    "duration": 19,
    "start_time": "2025-04-28T19:30:50.435Z"
   },
   {
    "duration": 5,
    "start_time": "2025-04-28T19:32:27.201Z"
   },
   {
    "duration": 26,
    "start_time": "2025-04-28T19:32:56.679Z"
   },
   {
    "duration": 23,
    "start_time": "2025-04-28T19:36:01.184Z"
   },
   {
    "duration": 16,
    "start_time": "2025-04-28T19:36:25.364Z"
   },
   {
    "duration": 21,
    "start_time": "2025-04-28T19:36:31.380Z"
   },
   {
    "duration": 14,
    "start_time": "2025-04-28T19:37:42.581Z"
   },
   {
    "duration": 124,
    "start_time": "2025-04-28T19:37:53.924Z"
   },
   {
    "duration": 37,
    "start_time": "2025-04-28T19:38:01.955Z"
   },
   {
    "duration": 21,
    "start_time": "2025-04-28T19:41:25.471Z"
   },
   {
    "duration": 29,
    "start_time": "2025-04-28T19:42:37.578Z"
   },
   {
    "duration": 31,
    "start_time": "2025-04-28T19:42:46.722Z"
   },
   {
    "duration": 17,
    "start_time": "2025-04-28T19:43:01.909Z"
   },
   {
    "duration": 29,
    "start_time": "2025-04-28T19:43:12.378Z"
   },
   {
    "duration": 17,
    "start_time": "2025-04-28T19:43:23.924Z"
   },
   {
    "duration": 24,
    "start_time": "2025-04-28T19:43:32.788Z"
   },
   {
    "duration": 31,
    "start_time": "2025-04-28T19:43:57.178Z"
   },
   {
    "duration": 19,
    "start_time": "2025-04-28T19:44:15.985Z"
   },
   {
    "duration": 19,
    "start_time": "2025-04-28T19:45:05.709Z"
   },
   {
    "duration": 12,
    "start_time": "2025-04-28T19:47:37.597Z"
   },
   {
    "duration": 20,
    "start_time": "2025-04-28T19:47:49.195Z"
   },
   {
    "duration": 12,
    "start_time": "2025-04-28T19:48:03.571Z"
   },
   {
    "duration": 15,
    "start_time": "2025-04-28T19:48:15.991Z"
   },
   {
    "duration": 20,
    "start_time": "2025-04-28T19:48:17.139Z"
   },
   {
    "duration": 21,
    "start_time": "2025-04-28T19:48:46.204Z"
   },
   {
    "duration": 18,
    "start_time": "2025-04-28T19:49:06.762Z"
   },
   {
    "duration": 11,
    "start_time": "2025-04-28T19:49:11.607Z"
   },
   {
    "duration": 12,
    "start_time": "2025-04-28T19:50:42.283Z"
   },
   {
    "duration": 13,
    "start_time": "2025-04-28T19:53:11.752Z"
   },
   {
    "duration": 64,
    "start_time": "2025-04-28T19:55:35.452Z"
   },
   {
    "duration": 68,
    "start_time": "2025-04-28T19:57:56.979Z"
   },
   {
    "duration": 79,
    "start_time": "2025-04-28T19:59:06.883Z"
   },
   {
    "duration": 68,
    "start_time": "2025-04-28T19:59:23.755Z"
   },
   {
    "duration": 8409,
    "start_time": "2025-04-28T19:59:56.734Z"
   },
   {
    "duration": 65,
    "start_time": "2025-04-28T20:00:19.319Z"
   },
   {
    "duration": 67,
    "start_time": "2025-04-28T20:00:45.185Z"
   },
   {
    "duration": 66,
    "start_time": "2025-04-28T20:00:52.458Z"
   },
   {
    "duration": 19,
    "start_time": "2025-04-28T20:03:07.796Z"
   },
   {
    "duration": 664,
    "start_time": "2025-04-28T20:03:21.667Z"
   },
   {
    "duration": 633,
    "start_time": "2025-04-28T20:05:13.590Z"
   },
   {
    "duration": 306,
    "start_time": "2025-04-28T20:06:23.925Z"
   },
   {
    "duration": 180,
    "start_time": "2025-04-28T20:06:51.868Z"
   },
   {
    "duration": 27,
    "start_time": "2025-04-28T20:07:42.219Z"
   },
   {
    "duration": 24,
    "start_time": "2025-04-28T20:07:52.638Z"
   },
   {
    "duration": 184,
    "start_time": "2025-04-28T20:08:00.963Z"
   },
   {
    "duration": 361,
    "start_time": "2025-04-28T20:08:20.576Z"
   },
   {
    "duration": 303,
    "start_time": "2025-04-28T20:09:05.598Z"
   },
   {
    "duration": 8,
    "start_time": "2025-04-28T20:10:17.132Z"
   },
   {
    "duration": 252,
    "start_time": "2025-04-28T20:10:35.970Z"
   },
   {
    "duration": 211,
    "start_time": "2025-04-28T20:11:41.360Z"
   },
   {
    "duration": 247,
    "start_time": "2025-04-28T20:12:13.160Z"
   },
   {
    "duration": 242,
    "start_time": "2025-04-28T20:12:19.823Z"
   },
   {
    "duration": 350,
    "start_time": "2025-04-28T20:14:04.481Z"
   },
   {
    "duration": 159,
    "start_time": "2025-04-28T20:14:40.798Z"
   },
   {
    "duration": 160,
    "start_time": "2025-04-28T20:15:17.577Z"
   },
   {
    "duration": 283,
    "start_time": "2025-04-28T20:15:34.486Z"
   },
   {
    "duration": 110,
    "start_time": "2025-04-28T20:15:54.272Z"
   },
   {
    "duration": 229,
    "start_time": "2025-04-28T20:16:05.988Z"
   },
   {
    "duration": 204,
    "start_time": "2025-04-28T20:16:16.233Z"
   },
   {
    "duration": 232,
    "start_time": "2025-04-28T20:16:32.188Z"
   },
   {
    "duration": 7,
    "start_time": "2025-04-28T20:19:35.269Z"
   },
   {
    "duration": 7,
    "start_time": "2025-04-28T20:19:47.156Z"
   },
   {
    "duration": 101,
    "start_time": "2025-04-28T20:20:14.065Z"
   },
   {
    "duration": 115,
    "start_time": "2025-04-28T20:20:26.555Z"
   },
   {
    "duration": 259,
    "start_time": "2025-04-28T20:20:41.479Z"
   },
   {
    "duration": 360,
    "start_time": "2025-04-28T20:21:28.032Z"
   },
   {
    "duration": 205,
    "start_time": "2025-04-28T20:21:37.173Z"
   },
   {
    "duration": 9,
    "start_time": "2025-04-28T20:24:29.272Z"
   },
   {
    "duration": 8,
    "start_time": "2025-04-28T20:24:52.506Z"
   },
   {
    "duration": 133,
    "start_time": "2025-04-28T20:26:09.487Z"
   },
   {
    "duration": 12,
    "start_time": "2025-04-28T20:26:45.138Z"
   },
   {
    "duration": 180,
    "start_time": "2025-04-28T20:28:01.849Z"
   },
   {
    "duration": 178,
    "start_time": "2025-04-28T20:28:24.808Z"
   },
   {
    "duration": 181,
    "start_time": "2025-04-28T20:28:32.474Z"
   },
   {
    "duration": 177,
    "start_time": "2025-04-28T20:28:37.841Z"
   },
   {
    "duration": 123,
    "start_time": "2025-04-28T20:29:33.921Z"
   },
   {
    "duration": 154,
    "start_time": "2025-04-28T20:29:47.891Z"
   },
   {
    "duration": 253,
    "start_time": "2025-04-28T20:29:58.848Z"
   },
   {
    "duration": 6,
    "start_time": "2025-04-28T20:30:06.326Z"
   },
   {
    "duration": 233,
    "start_time": "2025-04-28T20:30:13.604Z"
   },
   {
    "duration": 124,
    "start_time": "2025-04-28T20:31:14.852Z"
   },
   {
    "duration": 162,
    "start_time": "2025-04-28T20:31:23.101Z"
   },
   {
    "duration": 135,
    "start_time": "2025-04-28T20:31:54.910Z"
   },
   {
    "duration": 116,
    "start_time": "2025-04-28T20:34:13.914Z"
   },
   {
    "duration": 176,
    "start_time": "2025-04-28T20:34:56.040Z"
   },
   {
    "duration": 228,
    "start_time": "2025-04-28T20:36:18.028Z"
   },
   {
    "duration": 211,
    "start_time": "2025-04-28T20:38:36.552Z"
   },
   {
    "duration": 6,
    "start_time": "2025-04-28T20:39:19.375Z"
   },
   {
    "duration": 365,
    "start_time": "2025-04-28T20:39:25.024Z"
   },
   {
    "duration": 219,
    "start_time": "2025-04-28T20:40:11.991Z"
   },
   {
    "duration": 190,
    "start_time": "2025-04-28T20:40:36.537Z"
   },
   {
    "duration": 182,
    "start_time": "2025-04-28T20:40:47.577Z"
   },
   {
    "duration": 197,
    "start_time": "2025-04-28T20:41:46.869Z"
   },
   {
    "duration": 2,
    "start_time": "2025-04-28T20:43:32.685Z"
   },
   {
    "duration": 102,
    "start_time": "2025-04-28T20:43:36.555Z"
   },
   {
    "duration": 115,
    "start_time": "2025-04-28T20:46:54.132Z"
   },
   {
    "duration": 133,
    "start_time": "2025-04-28T20:47:09.555Z"
   },
   {
    "duration": 105,
    "start_time": "2025-04-28T20:47:12.937Z"
   },
   {
    "duration": 110,
    "start_time": "2025-04-28T20:48:30.885Z"
   },
   {
    "duration": 165,
    "start_time": "2025-04-28T20:48:41.929Z"
   },
   {
    "duration": 218,
    "start_time": "2025-04-28T20:48:55.723Z"
   },
   {
    "duration": 104,
    "start_time": "2025-04-28T20:49:01.760Z"
   },
   {
    "duration": 163,
    "start_time": "2025-04-28T20:52:07.091Z"
   },
   {
    "duration": 218,
    "start_time": "2025-04-28T20:52:17.309Z"
   },
   {
    "duration": 156,
    "start_time": "2025-04-28T20:52:51.963Z"
   },
   {
    "duration": 112,
    "start_time": "2025-04-28T20:52:58.374Z"
   },
   {
    "duration": 161,
    "start_time": "2025-04-28T20:53:38.368Z"
   },
   {
    "duration": 169,
    "start_time": "2025-04-28T20:53:55.606Z"
   },
   {
    "duration": 841,
    "start_time": "2025-04-28T20:54:27.047Z"
   },
   {
    "duration": 201,
    "start_time": "2025-04-28T20:54:27.891Z"
   },
   {
    "duration": 10,
    "start_time": "2025-04-28T20:54:28.093Z"
   },
   {
    "duration": 6,
    "start_time": "2025-04-28T20:54:28.106Z"
   },
   {
    "duration": 5,
    "start_time": "2025-04-28T20:54:28.114Z"
   },
   {
    "duration": 17,
    "start_time": "2025-04-28T20:54:28.121Z"
   },
   {
    "duration": 9,
    "start_time": "2025-04-28T20:54:28.141Z"
   },
   {
    "duration": 8,
    "start_time": "2025-04-28T20:54:28.152Z"
   },
   {
    "duration": 21,
    "start_time": "2025-04-28T20:54:28.186Z"
   },
   {
    "duration": 8,
    "start_time": "2025-04-28T20:54:28.210Z"
   },
   {
    "duration": 15,
    "start_time": "2025-04-28T20:54:28.220Z"
   },
   {
    "duration": 4,
    "start_time": "2025-04-28T20:54:28.237Z"
   },
   {
    "duration": 138,
    "start_time": "2025-04-28T20:54:28.243Z"
   },
   {
    "duration": 16,
    "start_time": "2025-04-28T20:54:28.383Z"
   },
   {
    "duration": 4,
    "start_time": "2025-04-28T20:54:28.401Z"
   },
   {
    "duration": 93,
    "start_time": "2025-04-28T20:54:28.407Z"
   },
   {
    "duration": 17,
    "start_time": "2025-04-28T20:54:28.501Z"
   },
   {
    "duration": 4,
    "start_time": "2025-04-28T20:54:28.521Z"
   },
   {
    "duration": 101,
    "start_time": "2025-04-28T20:54:28.527Z"
   },
   {
    "duration": 14,
    "start_time": "2025-04-28T20:54:28.630Z"
   },
   {
    "duration": 16,
    "start_time": "2025-04-28T20:54:28.645Z"
   },
   {
    "duration": 39,
    "start_time": "2025-04-28T20:54:28.663Z"
   },
   {
    "duration": 14,
    "start_time": "2025-04-28T20:54:28.703Z"
   },
   {
    "duration": 14,
    "start_time": "2025-04-28T20:54:28.718Z"
   },
   {
    "duration": 19,
    "start_time": "2025-04-28T20:54:28.733Z"
   },
   {
    "duration": 40,
    "start_time": "2025-04-28T20:54:28.753Z"
   },
   {
    "duration": 408,
    "start_time": "2025-04-28T20:54:28.795Z"
   },
   {
    "duration": 0,
    "start_time": "2025-04-28T20:54:29.205Z"
   },
   {
    "duration": 0,
    "start_time": "2025-04-28T20:54:29.206Z"
   },
   {
    "duration": 0,
    "start_time": "2025-04-28T20:54:29.207Z"
   },
   {
    "duration": 0,
    "start_time": "2025-04-28T20:54:29.209Z"
   },
   {
    "duration": 0,
    "start_time": "2025-04-28T20:54:29.210Z"
   },
   {
    "duration": 0,
    "start_time": "2025-04-28T20:54:29.212Z"
   },
   {
    "duration": 0,
    "start_time": "2025-04-28T20:54:29.213Z"
   },
   {
    "duration": 0,
    "start_time": "2025-04-28T20:54:29.214Z"
   },
   {
    "duration": 0,
    "start_time": "2025-04-28T20:54:29.215Z"
   },
   {
    "duration": 0,
    "start_time": "2025-04-28T20:54:29.216Z"
   },
   {
    "duration": 0,
    "start_time": "2025-04-28T20:54:29.217Z"
   },
   {
    "duration": 0,
    "start_time": "2025-04-28T20:54:29.218Z"
   },
   {
    "duration": 89,
    "start_time": "2025-04-28T20:55:57.398Z"
   },
   {
    "duration": 857,
    "start_time": "2025-04-28T20:56:02.722Z"
   },
   {
    "duration": 177,
    "start_time": "2025-04-28T20:56:03.583Z"
   },
   {
    "duration": 12,
    "start_time": "2025-04-28T20:56:03.762Z"
   },
   {
    "duration": 13,
    "start_time": "2025-04-28T20:56:03.776Z"
   },
   {
    "duration": 5,
    "start_time": "2025-04-28T20:56:03.791Z"
   },
   {
    "duration": 16,
    "start_time": "2025-04-28T20:56:03.798Z"
   },
   {
    "duration": 9,
    "start_time": "2025-04-28T20:56:03.816Z"
   },
   {
    "duration": 8,
    "start_time": "2025-04-28T20:56:03.826Z"
   },
   {
    "duration": 17,
    "start_time": "2025-04-28T20:56:03.836Z"
   },
   {
    "duration": 40,
    "start_time": "2025-04-28T20:56:03.854Z"
   },
   {
    "duration": 19,
    "start_time": "2025-04-28T20:56:03.896Z"
   },
   {
    "duration": 4,
    "start_time": "2025-04-28T20:56:03.916Z"
   },
   {
    "duration": 129,
    "start_time": "2025-04-28T20:56:03.922Z"
   },
   {
    "duration": 15,
    "start_time": "2025-04-28T20:56:04.055Z"
   },
   {
    "duration": 4,
    "start_time": "2025-04-28T20:56:04.072Z"
   },
   {
    "duration": 78,
    "start_time": "2025-04-28T20:56:04.078Z"
   },
   {
    "duration": 14,
    "start_time": "2025-04-28T20:56:04.159Z"
   },
   {
    "duration": 13,
    "start_time": "2025-04-28T20:56:04.175Z"
   },
   {
    "duration": 102,
    "start_time": "2025-04-28T20:56:04.190Z"
   },
   {
    "duration": 12,
    "start_time": "2025-04-28T20:56:04.294Z"
   },
   {
    "duration": 22,
    "start_time": "2025-04-28T20:56:04.307Z"
   },
   {
    "duration": 18,
    "start_time": "2025-04-28T20:56:04.331Z"
   },
   {
    "duration": 43,
    "start_time": "2025-04-28T20:56:04.351Z"
   },
   {
    "duration": 18,
    "start_time": "2025-04-28T20:56:04.397Z"
   },
   {
    "duration": 21,
    "start_time": "2025-04-28T20:56:04.416Z"
   },
   {
    "duration": 14,
    "start_time": "2025-04-28T20:56:04.439Z"
   },
   {
    "duration": 87,
    "start_time": "2025-04-28T20:56:04.455Z"
   },
   {
    "duration": 248,
    "start_time": "2025-04-28T20:56:04.545Z"
   },
   {
    "duration": 400,
    "start_time": "2025-04-28T20:56:04.794Z"
   },
   {
    "duration": 8,
    "start_time": "2025-04-28T20:56:05.196Z"
   },
   {
    "duration": 240,
    "start_time": "2025-04-28T20:56:05.206Z"
   },
   {
    "duration": 98,
    "start_time": "2025-04-28T20:56:05.448Z"
   },
   {
    "duration": 369,
    "start_time": "2025-04-28T20:56:05.550Z"
   },
   {
    "duration": 0,
    "start_time": "2025-04-28T20:56:05.920Z"
   },
   {
    "duration": 0,
    "start_time": "2025-04-28T20:56:05.921Z"
   },
   {
    "duration": 0,
    "start_time": "2025-04-28T20:56:05.923Z"
   },
   {
    "duration": 1,
    "start_time": "2025-04-28T20:56:05.923Z"
   },
   {
    "duration": 0,
    "start_time": "2025-04-28T20:56:05.924Z"
   },
   {
    "duration": 0,
    "start_time": "2025-04-28T20:56:05.926Z"
   },
   {
    "duration": 193,
    "start_time": "2025-04-28T20:58:43.710Z"
   },
   {
    "duration": 283,
    "start_time": "2025-04-28T20:58:58.412Z"
   },
   {
    "duration": 7,
    "start_time": "2025-04-28T20:59:03.920Z"
   },
   {
    "duration": 235,
    "start_time": "2025-04-28T21:00:13.091Z"
   },
   {
    "duration": 253,
    "start_time": "2025-04-28T21:00:31.896Z"
   },
   {
    "duration": 161,
    "start_time": "2025-04-28T21:02:26.228Z"
   },
   {
    "duration": 5,
    "start_time": "2025-04-28T21:02:47.916Z"
   },
   {
    "duration": 184,
    "start_time": "2025-04-28T21:03:00.471Z"
   },
   {
    "duration": 107,
    "start_time": "2025-04-28T21:03:14.051Z"
   },
   {
    "duration": 164,
    "start_time": "2025-04-28T21:04:31.070Z"
   },
   {
    "duration": 215,
    "start_time": "2025-04-28T21:04:34.145Z"
   },
   {
    "duration": 128,
    "start_time": "2025-04-28T21:04:37.205Z"
   },
   {
    "duration": 156,
    "start_time": "2025-04-28T21:05:08.445Z"
   },
   {
    "duration": 6,
    "start_time": "2025-04-28T21:05:37.566Z"
   },
   {
    "duration": 306,
    "start_time": "2025-04-28T21:05:45.706Z"
   },
   {
    "duration": 150,
    "start_time": "2025-04-28T21:06:02.210Z"
   },
   {
    "duration": 962,
    "start_time": "2025-04-28T21:06:10.212Z"
   },
   {
    "duration": 170,
    "start_time": "2025-04-28T21:06:11.176Z"
   },
   {
    "duration": 13,
    "start_time": "2025-04-28T21:06:11.347Z"
   },
   {
    "duration": 10,
    "start_time": "2025-04-28T21:06:11.363Z"
   },
   {
    "duration": 3,
    "start_time": "2025-04-28T21:06:11.375Z"
   },
   {
    "duration": 22,
    "start_time": "2025-04-28T21:06:11.380Z"
   },
   {
    "duration": 9,
    "start_time": "2025-04-28T21:06:11.404Z"
   },
   {
    "duration": 8,
    "start_time": "2025-04-28T21:06:11.415Z"
   },
   {
    "duration": 17,
    "start_time": "2025-04-28T21:06:11.425Z"
   },
   {
    "duration": 8,
    "start_time": "2025-04-28T21:06:11.444Z"
   },
   {
    "duration": 48,
    "start_time": "2025-04-28T21:06:11.455Z"
   },
   {
    "duration": 5,
    "start_time": "2025-04-28T21:06:11.504Z"
   },
   {
    "duration": 127,
    "start_time": "2025-04-28T21:06:11.511Z"
   },
   {
    "duration": 12,
    "start_time": "2025-04-28T21:06:11.640Z"
   },
   {
    "duration": 4,
    "start_time": "2025-04-28T21:06:11.653Z"
   },
   {
    "duration": 116,
    "start_time": "2025-04-28T21:06:11.659Z"
   },
   {
    "duration": 20,
    "start_time": "2025-04-28T21:06:11.776Z"
   },
   {
    "duration": 5,
    "start_time": "2025-04-28T21:06:11.798Z"
   },
   {
    "duration": 108,
    "start_time": "2025-04-28T21:06:11.805Z"
   },
   {
    "duration": 14,
    "start_time": "2025-04-28T21:06:11.916Z"
   },
   {
    "duration": 17,
    "start_time": "2025-04-28T21:06:11.932Z"
   },
   {
    "duration": 35,
    "start_time": "2025-04-28T21:06:11.951Z"
   },
   {
    "duration": 15,
    "start_time": "2025-04-28T21:06:11.988Z"
   },
   {
    "duration": 15,
    "start_time": "2025-04-28T21:06:12.005Z"
   },
   {
    "duration": 19,
    "start_time": "2025-04-28T21:06:12.021Z"
   },
   {
    "duration": 13,
    "start_time": "2025-04-28T21:06:12.042Z"
   },
   {
    "duration": 117,
    "start_time": "2025-04-28T21:06:12.056Z"
   },
   {
    "duration": 256,
    "start_time": "2025-04-28T21:06:12.177Z"
   },
   {
    "duration": 367,
    "start_time": "2025-04-28T21:06:12.435Z"
   },
   {
    "duration": 8,
    "start_time": "2025-04-28T21:06:12.804Z"
   },
   {
    "duration": 236,
    "start_time": "2025-04-28T21:06:12.813Z"
   },
   {
    "duration": 105,
    "start_time": "2025-04-28T21:06:13.052Z"
   },
   {
    "duration": 174,
    "start_time": "2025-04-28T21:06:13.159Z"
   },
   {
    "duration": 111,
    "start_time": "2025-04-28T21:06:13.335Z"
   },
   {
    "duration": 163,
    "start_time": "2025-04-28T21:06:13.448Z"
   },
   {
    "duration": 215,
    "start_time": "2025-04-28T21:06:13.613Z"
   },
   {
    "duration": 516,
    "start_time": "2025-04-28T21:06:13.830Z"
   },
   {
    "duration": 0,
    "start_time": "2025-04-28T21:06:14.347Z"
   },
   {
    "duration": 0,
    "start_time": "2025-04-28T21:06:14.349Z"
   },
   {
    "duration": 167,
    "start_time": "2025-04-28T21:06:23.769Z"
   },
   {
    "duration": 104,
    "start_time": "2025-04-28T21:06:32.408Z"
   },
   {
    "duration": 130,
    "start_time": "2025-04-28T21:06:47.100Z"
   },
   {
    "duration": 122,
    "start_time": "2025-04-28T21:06:52.485Z"
   },
   {
    "duration": 134,
    "start_time": "2025-04-28T21:07:09.144Z"
   },
   {
    "duration": 134,
    "start_time": "2025-04-28T21:07:22.439Z"
   },
   {
    "duration": 101,
    "start_time": "2025-04-28T21:08:17.953Z"
   },
   {
    "duration": 187,
    "start_time": "2025-04-28T21:09:08.111Z"
   },
   {
    "duration": 84,
    "start_time": "2025-04-28T21:09:15.278Z"
   },
   {
    "duration": 122,
    "start_time": "2025-04-28T21:10:12.932Z"
   },
   {
    "duration": 121,
    "start_time": "2025-04-28T21:10:20.457Z"
   },
   {
    "duration": 135,
    "start_time": "2025-04-28T21:12:17.919Z"
   },
   {
    "duration": 9,
    "start_time": "2025-04-28T21:14:48.713Z"
   },
   {
    "duration": 103,
    "start_time": "2025-04-28T21:15:02.421Z"
   },
   {
    "duration": 115,
    "start_time": "2025-04-28T21:15:19.811Z"
   },
   {
    "duration": 102,
    "start_time": "2025-04-28T21:15:25.993Z"
   },
   {
    "duration": 169,
    "start_time": "2025-04-28T21:15:49.038Z"
   },
   {
    "duration": 162,
    "start_time": "2025-04-28T21:19:03.727Z"
   },
   {
    "duration": 17,
    "start_time": "2025-04-28T21:21:34.750Z"
   },
   {
    "duration": 7,
    "start_time": "2025-04-28T21:22:10.430Z"
   },
   {
    "duration": 431,
    "start_time": "2025-04-28T21:23:35.567Z"
   },
   {
    "duration": 46,
    "start_time": "2025-04-28T21:24:10.844Z"
   },
   {
    "duration": 4,
    "start_time": "2025-04-28T21:26:31.222Z"
   },
   {
    "duration": 22,
    "start_time": "2025-04-28T21:26:48.295Z"
   },
   {
    "duration": 47,
    "start_time": "2025-04-28T21:27:56.585Z"
   },
   {
    "duration": 47,
    "start_time": "2025-04-28T21:29:23.625Z"
   },
   {
    "duration": 46,
    "start_time": "2025-04-28T21:30:50.867Z"
   },
   {
    "duration": 3,
    "start_time": "2025-04-28T21:31:41.570Z"
   },
   {
    "duration": 839,
    "start_time": "2025-04-28T21:32:21.132Z"
   },
   {
    "duration": 194,
    "start_time": "2025-04-28T21:32:21.973Z"
   },
   {
    "duration": 10,
    "start_time": "2025-04-28T21:32:22.168Z"
   },
   {
    "duration": 6,
    "start_time": "2025-04-28T21:32:22.186Z"
   },
   {
    "duration": 4,
    "start_time": "2025-04-28T21:32:22.194Z"
   },
   {
    "duration": 15,
    "start_time": "2025-04-28T21:32:22.199Z"
   },
   {
    "duration": 8,
    "start_time": "2025-04-28T21:32:22.216Z"
   },
   {
    "duration": 7,
    "start_time": "2025-04-28T21:32:22.226Z"
   },
   {
    "duration": 15,
    "start_time": "2025-04-28T21:32:22.234Z"
   },
   {
    "duration": 41,
    "start_time": "2025-04-28T21:32:22.253Z"
   },
   {
    "duration": 15,
    "start_time": "2025-04-28T21:32:22.295Z"
   },
   {
    "duration": 5,
    "start_time": "2025-04-28T21:32:22.311Z"
   },
   {
    "duration": 131,
    "start_time": "2025-04-28T21:32:22.318Z"
   },
   {
    "duration": 12,
    "start_time": "2025-04-28T21:32:22.451Z"
   },
   {
    "duration": 5,
    "start_time": "2025-04-28T21:32:22.464Z"
   },
   {
    "duration": 67,
    "start_time": "2025-04-28T21:32:22.486Z"
   },
   {
    "duration": 14,
    "start_time": "2025-04-28T21:32:22.554Z"
   },
   {
    "duration": 6,
    "start_time": "2025-04-28T21:32:22.586Z"
   },
   {
    "duration": 92,
    "start_time": "2025-04-28T21:32:22.594Z"
   },
   {
    "duration": 11,
    "start_time": "2025-04-28T21:32:22.688Z"
   },
   {
    "duration": 19,
    "start_time": "2025-04-28T21:32:22.700Z"
   },
   {
    "duration": 18,
    "start_time": "2025-04-28T21:32:22.721Z"
   },
   {
    "duration": 12,
    "start_time": "2025-04-28T21:32:22.741Z"
   },
   {
    "duration": 41,
    "start_time": "2025-04-28T21:32:22.755Z"
   },
   {
    "duration": 21,
    "start_time": "2025-04-28T21:32:22.798Z"
   },
   {
    "duration": 14,
    "start_time": "2025-04-28T21:32:22.821Z"
   },
   {
    "duration": 98,
    "start_time": "2025-04-28T21:32:22.836Z"
   },
   {
    "duration": 231,
    "start_time": "2025-04-28T21:32:22.938Z"
   },
   {
    "duration": 374,
    "start_time": "2025-04-28T21:32:23.171Z"
   },
   {
    "duration": 7,
    "start_time": "2025-04-28T21:32:23.546Z"
   },
   {
    "duration": 249,
    "start_time": "2025-04-28T21:32:23.555Z"
   },
   {
    "duration": 92,
    "start_time": "2025-04-28T21:32:23.806Z"
   },
   {
    "duration": 175,
    "start_time": "2025-04-28T21:32:23.900Z"
   },
   {
    "duration": 109,
    "start_time": "2025-04-28T21:32:24.077Z"
   },
   {
    "duration": 127,
    "start_time": "2025-04-28T21:32:24.188Z"
   },
   {
    "duration": 204,
    "start_time": "2025-04-28T21:32:24.316Z"
   },
   {
    "duration": 114,
    "start_time": "2025-04-28T21:32:24.522Z"
   },
   {
    "duration": 8,
    "start_time": "2025-04-28T21:32:24.638Z"
   },
   {
    "duration": 114,
    "start_time": "2025-04-28T21:32:24.648Z"
   },
   {
    "duration": 165,
    "start_time": "2025-04-28T21:32:24.764Z"
   },
   {
    "duration": 179,
    "start_time": "2025-04-28T21:32:24.931Z"
   },
   {
    "duration": 9,
    "start_time": "2025-04-28T21:32:25.112Z"
   },
   {
    "duration": 3,
    "start_time": "2025-04-28T21:32:25.122Z"
   },
   {
    "duration": 7,
    "start_time": "2025-04-28T21:33:02.778Z"
   },
   {
    "duration": 35,
    "start_time": "2025-04-28T21:33:10.627Z"
   },
   {
    "duration": 9,
    "start_time": "2025-04-28T21:33:37.776Z"
   },
   {
    "duration": 9,
    "start_time": "2025-04-28T21:35:05.251Z"
   },
   {
    "duration": 10,
    "start_time": "2025-04-28T21:35:15.180Z"
   },
   {
    "duration": 9,
    "start_time": "2025-04-28T21:35:26.208Z"
   },
   {
    "duration": 796,
    "start_time": "2025-04-28T21:41:55.274Z"
   },
   {
    "duration": 161,
    "start_time": "2025-04-28T21:41:56.072Z"
   },
   {
    "duration": 8,
    "start_time": "2025-04-28T21:41:56.235Z"
   },
   {
    "duration": 6,
    "start_time": "2025-04-28T21:41:56.245Z"
   },
   {
    "duration": 3,
    "start_time": "2025-04-28T21:41:56.253Z"
   },
   {
    "duration": 34,
    "start_time": "2025-04-28T21:41:56.258Z"
   },
   {
    "duration": 8,
    "start_time": "2025-04-28T21:41:56.293Z"
   },
   {
    "duration": 8,
    "start_time": "2025-04-28T21:41:56.303Z"
   },
   {
    "duration": 15,
    "start_time": "2025-04-28T21:41:56.313Z"
   },
   {
    "duration": 7,
    "start_time": "2025-04-28T21:41:56.332Z"
   },
   {
    "duration": 46,
    "start_time": "2025-04-28T21:41:56.341Z"
   },
   {
    "duration": 6,
    "start_time": "2025-04-28T21:41:56.389Z"
   },
   {
    "duration": 121,
    "start_time": "2025-04-28T21:41:56.397Z"
   },
   {
    "duration": 14,
    "start_time": "2025-04-28T21:41:56.519Z"
   },
   {
    "duration": 3,
    "start_time": "2025-04-28T21:41:56.536Z"
   },
   {
    "duration": 87,
    "start_time": "2025-04-28T21:41:56.541Z"
   },
   {
    "duration": 14,
    "start_time": "2025-04-28T21:41:56.630Z"
   },
   {
    "duration": 4,
    "start_time": "2025-04-28T21:41:56.645Z"
   },
   {
    "duration": 104,
    "start_time": "2025-04-28T21:41:56.651Z"
   },
   {
    "duration": 11,
    "start_time": "2025-04-28T21:41:56.757Z"
   },
   {
    "duration": 32,
    "start_time": "2025-04-28T21:41:56.769Z"
   },
   {
    "duration": 19,
    "start_time": "2025-04-28T21:41:56.802Z"
   },
   {
    "duration": 11,
    "start_time": "2025-04-28T21:41:56.822Z"
   },
   {
    "duration": 13,
    "start_time": "2025-04-28T21:41:56.835Z"
   },
   {
    "duration": 47,
    "start_time": "2025-04-28T21:41:56.850Z"
   },
   {
    "duration": 14,
    "start_time": "2025-04-28T21:41:56.899Z"
   },
   {
    "duration": 88,
    "start_time": "2025-04-28T21:41:56.915Z"
   },
   {
    "duration": 234,
    "start_time": "2025-04-28T21:41:57.007Z"
   },
   {
    "duration": 349,
    "start_time": "2025-04-28T21:41:57.243Z"
   },
   {
    "duration": 7,
    "start_time": "2025-04-28T21:41:57.594Z"
   },
   {
    "duration": 228,
    "start_time": "2025-04-28T21:41:57.603Z"
   },
   {
    "duration": 106,
    "start_time": "2025-04-28T21:41:57.833Z"
   },
   {
    "duration": 175,
    "start_time": "2025-04-28T21:41:57.941Z"
   },
   {
    "duration": 110,
    "start_time": "2025-04-28T21:41:58.127Z"
   },
   {
    "duration": 129,
    "start_time": "2025-04-28T21:41:58.239Z"
   },
   {
    "duration": 198,
    "start_time": "2025-04-28T21:41:58.369Z"
   },
   {
    "duration": 123,
    "start_time": "2025-04-28T21:41:58.568Z"
   },
   {
    "duration": 10,
    "start_time": "2025-04-28T21:41:58.692Z"
   },
   {
    "duration": 109,
    "start_time": "2025-04-28T21:41:58.703Z"
   },
   {
    "duration": 165,
    "start_time": "2025-04-28T21:41:58.813Z"
   },
   {
    "duration": 170,
    "start_time": "2025-04-28T21:41:58.986Z"
   },
   {
    "duration": 9,
    "start_time": "2025-04-28T21:41:59.158Z"
   },
   {
    "duration": 47,
    "start_time": "2025-04-28T21:41:59.168Z"
   },
   {
    "duration": 965,
    "start_time": "2025-04-29T19:07:56.180Z"
   },
   {
    "duration": 229,
    "start_time": "2025-04-29T19:07:57.147Z"
   },
   {
    "duration": 10,
    "start_time": "2025-04-29T19:07:58.035Z"
   },
   {
    "duration": 7,
    "start_time": "2025-04-29T19:07:58.326Z"
   },
   {
    "duration": 4,
    "start_time": "2025-04-29T19:08:17.539Z"
   },
   {
    "duration": 16,
    "start_time": "2025-04-29T19:08:18.096Z"
   },
   {
    "duration": 9,
    "start_time": "2025-04-29T19:08:18.471Z"
   },
   {
    "duration": 7,
    "start_time": "2025-04-29T19:08:18.712Z"
   },
   {
    "duration": 17,
    "start_time": "2025-04-29T19:08:19.743Z"
   },
   {
    "duration": 9,
    "start_time": "2025-04-29T19:08:20.359Z"
   },
   {
    "duration": 16,
    "start_time": "2025-04-29T19:08:20.840Z"
   },
   {
    "duration": 5,
    "start_time": "2025-04-29T19:08:21.077Z"
   },
   {
    "duration": 117,
    "start_time": "2025-04-29T19:08:22.679Z"
   },
   {
    "duration": 12,
    "start_time": "2025-04-29T19:08:23.582Z"
   },
   {
    "duration": 7,
    "start_time": "2025-04-29T19:08:23.821Z"
   },
   {
    "duration": 68,
    "start_time": "2025-04-29T19:08:25.077Z"
   },
   {
    "duration": 16,
    "start_time": "2025-04-29T19:08:26.165Z"
   },
   {
    "duration": 5,
    "start_time": "2025-04-29T19:08:26.459Z"
   },
   {
    "duration": 92,
    "start_time": "2025-04-29T19:08:27.777Z"
   },
   {
    "duration": 12,
    "start_time": "2025-04-29T19:33:14.517Z"
   },
   {
    "duration": 18,
    "start_time": "2025-04-29T19:33:15.238Z"
   },
   {
    "duration": 22,
    "start_time": "2025-04-29T19:33:15.438Z"
   },
   {
    "duration": 12,
    "start_time": "2025-04-29T19:33:16.151Z"
   },
   {
    "duration": 14,
    "start_time": "2025-04-29T19:33:16.380Z"
   },
   {
    "duration": 26,
    "start_time": "2025-04-29T19:33:27.548Z"
   },
   {
    "duration": 18,
    "start_time": "2025-04-29T19:33:27.989Z"
   },
   {
    "duration": 82,
    "start_time": "2025-04-29T19:33:30.073Z"
   },
   {
    "duration": 241,
    "start_time": "2025-04-29T19:33:42.928Z"
   },
   {
    "duration": 421,
    "start_time": "2025-04-29T19:33:50.027Z"
   },
   {
    "duration": 7,
    "start_time": "2025-04-29T19:34:01.152Z"
   },
   {
    "duration": 208,
    "start_time": "2025-04-29T19:34:01.369Z"
   },
   {
    "duration": 94,
    "start_time": "2025-04-29T19:34:05.184Z"
   },
   {
    "duration": 177,
    "start_time": "2025-04-29T19:34:15.220Z"
   },
   {
    "duration": 105,
    "start_time": "2025-04-29T19:34:15.447Z"
   },
   {
    "duration": 123,
    "start_time": "2025-04-29T19:34:19.371Z"
   },
   {
    "duration": 222,
    "start_time": "2025-04-29T19:34:19.931Z"
   },
   {
    "duration": 106,
    "start_time": "2025-04-29T19:34:21.800Z"
   },
   {
    "duration": 9,
    "start_time": "2025-04-29T19:34:47.405Z"
   },
   {
    "duration": 112,
    "start_time": "2025-04-29T19:34:47.543Z"
   },
   {
    "duration": 162,
    "start_time": "2025-04-29T19:34:48.280Z"
   },
   {
    "duration": 181,
    "start_time": "2025-04-29T19:34:48.750Z"
   },
   {
    "duration": 9,
    "start_time": "2025-04-29T19:35:01.957Z"
   },
   {
    "duration": 219,
    "start_time": "2025-04-29T19:35:02.938Z"
   },
   {
    "duration": 2509,
    "start_time": "2025-05-02T05:06:40.849Z"
   },
   {
    "duration": 210,
    "start_time": "2025-05-02T05:06:43.360Z"
   },
   {
    "duration": 10,
    "start_time": "2025-05-02T05:06:43.571Z"
   },
   {
    "duration": 6,
    "start_time": "2025-05-02T05:06:43.584Z"
   },
   {
    "duration": 5,
    "start_time": "2025-05-02T05:06:43.591Z"
   },
   {
    "duration": 13,
    "start_time": "2025-05-02T05:06:43.598Z"
   },
   {
    "duration": 7,
    "start_time": "2025-05-02T05:06:43.619Z"
   },
   {
    "duration": 6,
    "start_time": "2025-05-02T05:06:43.629Z"
   },
   {
    "duration": 16,
    "start_time": "2025-05-02T05:06:43.637Z"
   },
   {
    "duration": 8,
    "start_time": "2025-05-02T05:06:43.656Z"
   },
   {
    "duration": 16,
    "start_time": "2025-05-02T05:06:43.665Z"
   },
   {
    "duration": 5,
    "start_time": "2025-05-02T05:06:43.682Z"
   },
   {
    "duration": 116,
    "start_time": "2025-05-02T05:06:43.720Z"
   },
   {
    "duration": 12,
    "start_time": "2025-05-02T05:06:43.837Z"
   },
   {
    "duration": 4,
    "start_time": "2025-05-02T05:06:43.851Z"
   },
   {
    "duration": 86,
    "start_time": "2025-05-02T05:06:43.857Z"
   },
   {
    "duration": 14,
    "start_time": "2025-05-02T05:06:43.944Z"
   },
   {
    "duration": 4,
    "start_time": "2025-05-02T05:06:43.959Z"
   },
   {
    "duration": 105,
    "start_time": "2025-05-02T05:06:43.965Z"
   },
   {
    "duration": 14,
    "start_time": "2025-05-02T05:06:44.071Z"
   },
   {
    "duration": 17,
    "start_time": "2025-05-02T05:06:44.086Z"
   },
   {
    "duration": 32,
    "start_time": "2025-05-02T05:06:44.105Z"
   },
   {
    "duration": 12,
    "start_time": "2025-05-02T05:06:44.139Z"
   },
   {
    "duration": 14,
    "start_time": "2025-05-02T05:06:44.153Z"
   },
   {
    "duration": 25,
    "start_time": "2025-05-02T05:06:44.168Z"
   },
   {
    "duration": 38,
    "start_time": "2025-05-02T05:06:44.195Z"
   },
   {
    "duration": 85,
    "start_time": "2025-05-02T05:06:44.236Z"
   },
   {
    "duration": 225,
    "start_time": "2025-05-02T05:06:44.325Z"
   },
   {
    "duration": 369,
    "start_time": "2025-05-02T05:06:44.552Z"
   },
   {
    "duration": 7,
    "start_time": "2025-05-02T05:06:44.923Z"
   },
   {
    "duration": 218,
    "start_time": "2025-05-02T05:06:44.931Z"
   },
   {
    "duration": 102,
    "start_time": "2025-05-02T05:06:45.151Z"
   },
   {
    "duration": 231,
    "start_time": "2025-05-02T05:06:45.255Z"
   },
   {
    "duration": 110,
    "start_time": "2025-05-02T05:06:45.490Z"
   },
   {
    "duration": 123,
    "start_time": "2025-05-02T05:06:45.602Z"
   },
   {
    "duration": 199,
    "start_time": "2025-05-02T05:06:45.727Z"
   },
   {
    "duration": 111,
    "start_time": "2025-05-02T05:06:45.928Z"
   },
   {
    "duration": 9,
    "start_time": "2025-05-02T05:06:46.040Z"
   },
   {
    "duration": 119,
    "start_time": "2025-05-02T05:06:46.051Z"
   },
   {
    "duration": 167,
    "start_time": "2025-05-02T05:06:46.173Z"
   },
   {
    "duration": 119,
    "start_time": "2025-05-02T05:06:46.343Z"
   },
   {
    "duration": 7,
    "start_time": "2025-05-02T05:06:46.465Z"
   },
   {
    "duration": 46,
    "start_time": "2025-05-02T05:06:46.474Z"
   },
   {
    "duration": 2,
    "start_time": "2025-05-02T05:08:11.683Z"
   },
   {
    "duration": 10,
    "start_time": "2025-05-02T05:08:16.497Z"
   }
  ],
  "colab": {
   "provenance": []
  },
  "kernelspec": {
   "display_name": "Python 3",
   "language": "python",
   "name": "python3"
  },
  "language_info": {
   "codemirror_mode": {
    "name": "ipython",
    "version": 3
   },
   "file_extension": ".py",
   "mimetype": "text/x-python",
   "name": "python",
   "nbconvert_exporter": "python",
   "pygments_lexer": "ipython3",
   "version": "3.13.3"
  },
  "toc": {
   "base_numbering": 1,
   "nav_menu": {},
   "number_sections": true,
   "sideBar": true,
   "skip_h1_title": false,
   "title_cell": "Table of Contents",
   "title_sidebar": "Contents",
   "toc_cell": false,
   "toc_position": {
    "height": "calc(100% - 180px)",
    "left": "10px",
    "top": "150px",
    "width": "302.6px"
   },
   "toc_section_display": true,
   "toc_window_display": true
  }
 },
 "nbformat": 4,
 "nbformat_minor": 1
}
