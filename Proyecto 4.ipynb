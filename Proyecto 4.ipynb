{
 "cells": [
  {
   "cell_type": "markdown",
   "id": "mhIvmmkW414q",
   "metadata": {
    "id": "mhIvmmkW414q"
   },
   "source": [
    "# Introducción\n",
    "\n",
    "Instacart es una plataforma de entregas de comestibles donde la clientela puede registrar un pedido y hacer que se lo entreguen, similar a Uber Eats y Door Dash.\n",
    "El conjunto de datos que te hemos proporcionado tiene modificaciones del original. Redujimos el tamaño del conjunto para que tus cálculos se hicieran más rápido e introdujimos valores ausentes y duplicados. Tuvimos cuidado de conservar las distribuciones de los datos originales cuando hicimos los cambios.\n",
    "\n",
    "Debes completar tres pasos. Para cada uno de ellos, escribe una breve introducción que refleje con claridad cómo pretendes resolver cada paso, y escribe párrafos explicatorios que justifiquen tus decisiones al tiempo que avanzas en tu solución.  También escribe una conclusión que resuma tus hallazgos y elecciones.\n"
   ]
  },
  {
   "cell_type": "markdown",
   "id": "3MbyzpOQZ5Or",
   "metadata": {
    "id": "3MbyzpOQZ5Or"
   },
   "source": [
    "## Diccionario de datos\n",
    "\n",
    "Hay cinco tablas en el conjunto de datos, y tendrás que usarlas todas para hacer el preprocesamiento de datos y el análisis exploratorio de datos. A continuación se muestra un diccionario de datos que enumera las columnas de cada tabla y describe los datos que contienen.\n",
    "\n",
    "- `instacart_orders.csv`: cada fila corresponde a un pedido en la aplicación Instacart.\n",
    "    - `'order_id'`: número de ID que identifica de manera única cada pedido.\n",
    "    - `'user_id'`: número de ID que identifica de manera única la cuenta de cada cliente.\n",
    "    - `'order_number'`: el número de veces que este cliente ha hecho un pedido.\n",
    "    - `'order_dow'`: día de la semana en que se hizo el pedido (0 si es domingo).\n",
    "    - `'order_hour_of_day'`: hora del día en que se hizo el pedido.\n",
    "    - `'days_since_prior_order'`: número de días transcurridos desde que este cliente hizo su pedido anterior.\n",
    "- `products.csv`: cada fila corresponde a un producto único que pueden comprar los clientes.\n",
    "    - `'product_id'`: número ID que identifica de manera única cada producto.\n",
    "    - `'product_name'`: nombre del producto.\n",
    "    - `'aisle_id'`: número ID que identifica de manera única cada categoría de pasillo de víveres.\n",
    "    - `'department_id'`: número ID que identifica de manera única cada departamento de víveres.\n",
    "- `order_products.csv`: cada fila corresponde a un artículo pedido en un pedido.\n",
    "    - `'order_id'`: número de ID que identifica de manera única cada pedido.\n",
    "    - `'product_id'`: número ID que identifica de manera única cada producto.\n",
    "    - `'add_to_cart_order'`: el orden secuencial en el que se añadió cada artículo en el carrito.\n",
    "    - `'reordered'`: 0 si el cliente nunca ha pedido este producto antes, 1 si lo ha pedido.\n",
    "- `aisles.csv`\n",
    "    - `'aisle_id'`: número ID que identifica de manera única cada categoría de pasillo de víveres.\n",
    "    - `'aisle'`: nombre del pasillo.\n",
    "- `departments.csv`\n",
    "    - `'department_id'`: número ID que identifica de manera única cada departamento de víveres.\n",
    "    - `'department'`: nombre del departamento."
   ]
  },
  {
   "cell_type": "markdown",
   "id": "n3Ha_cNSZ8lK",
   "metadata": {
    "id": "n3Ha_cNSZ8lK"
   },
   "source": [
    "# Paso 1. Descripción de los datos\n",
    "\n",
    "Lee los archivos de datos (`/datasets/instacart_orders.csv`, `/datasets/products.csv`, `/datasets/aisles.csv`, `/datasets/departments.csv` y `/datasets/order_products.csv`) con `pd.read_csv()` usando los parámetros adecuados para leer los datos correctamente. Verifica la información para cada DataFrame creado.\n"
   ]
  },
  {
   "cell_type": "markdown",
   "id": "OmlQPLlyaAfR",
   "metadata": {
    "id": "OmlQPLlyaAfR"
   },
   "source": [
    "## Plan de solución\n",
    "\n",
    "Escribe aquí tu plan de solución para el Paso 1. Descripción de los datos."
   ]
  },
  {
   "cell_type": "code",
   "execution_count": 4,
   "id": "fbf1adab",
   "metadata": {
    "id": "fbf1adab"
   },
   "outputs": [],
   "source": [
    "import pandas as pd\n",
    "from matplotlib import pyplot as plt"
   ]
  },
  {
   "cell_type": "code",
   "execution_count": 5,
   "id": "ad36396d",
   "metadata": {
    "id": "ad36396d"
   },
   "outputs": [],
   "source": [
    "df_ordenes = pd.read_csv('Datos/Proyecto4/instacart_orders.csv', sep=';')\n",
    "df_productos = pd.read_csv('Datos/Proyecto4/products.csv', sep=';')\n",
    "df_aisles = pd.read_csv('Datos/Proyecto4/aisles.csv', sep=';')\n",
    "df_departamento = pd.read_csv('Datos/Proyecto4/departments.csv', sep=';')\n",
    "df_orden_productos = pd.read_csv('Datos/Proyecto4/order_products.csv', sep=';')"
   ]
  },
  {
   "cell_type": "code",
   "execution_count": 6,
   "id": "ad6a1efa",
   "metadata": {
    "id": "ad6a1efa"
   },
   "outputs": [
    {
     "name": "stdout",
     "output_type": "stream",
     "text": [
      "<class 'pandas.core.frame.DataFrame'>\n",
      "RangeIndex: 478967 entries, 0 to 478966\n",
      "Data columns (total 6 columns):\n",
      " #   Column                  Non-Null Count   Dtype  \n",
      "---  ------                  --------------   -----  \n",
      " 0   order_id                478967 non-null  int64  \n",
      " 1   user_id                 478967 non-null  int64  \n",
      " 2   order_number            478967 non-null  int64  \n",
      " 3   order_dow               478967 non-null  int64  \n",
      " 4   order_hour_of_day       478967 non-null  int64  \n",
      " 5   days_since_prior_order  450148 non-null  float64\n",
      "dtypes: float64(1), int64(5)\n",
      "memory usage: 21.9 MB\n"
     ]
    }
   ],
   "source": [
    "df_ordenes.info()"
   ]
  },
  {
   "cell_type": "code",
   "execution_count": 7,
   "id": "5130e05e",
   "metadata": {
    "id": "5130e05e"
   },
   "outputs": [
    {
     "name": "stdout",
     "output_type": "stream",
     "text": [
      "<class 'pandas.core.frame.DataFrame'>\n",
      "RangeIndex: 49694 entries, 0 to 49693\n",
      "Data columns (total 4 columns):\n",
      " #   Column         Non-Null Count  Dtype \n",
      "---  ------         --------------  ----- \n",
      " 0   product_id     49694 non-null  int64 \n",
      " 1   product_name   48436 non-null  object\n",
      " 2   aisle_id       49694 non-null  int64 \n",
      " 3   department_id  49694 non-null  int64 \n",
      "dtypes: int64(3), object(1)\n",
      "memory usage: 1.5+ MB\n"
     ]
    }
   ],
   "source": [
    "df_productos.info()"
   ]
  },
  {
   "cell_type": "code",
   "execution_count": 8,
   "id": "d8370c05",
   "metadata": {
    "id": "d8370c05"
   },
   "outputs": [
    {
     "name": "stdout",
     "output_type": "stream",
     "text": [
      "<class 'pandas.core.frame.DataFrame'>\n",
      "RangeIndex: 134 entries, 0 to 133\n",
      "Data columns (total 2 columns):\n",
      " #   Column    Non-Null Count  Dtype \n",
      "---  ------    --------------  ----- \n",
      " 0   aisle_id  134 non-null    int64 \n",
      " 1   aisle     134 non-null    object\n",
      "dtypes: int64(1), object(1)\n",
      "memory usage: 2.2+ KB\n"
     ]
    }
   ],
   "source": [
    "df_aisles.info()"
   ]
  },
  {
   "cell_type": "code",
   "execution_count": 9,
   "id": "59e2090f",
   "metadata": {
    "id": "59e2090f"
   },
   "outputs": [
    {
     "name": "stdout",
     "output_type": "stream",
     "text": [
      "<class 'pandas.core.frame.DataFrame'>\n",
      "RangeIndex: 21 entries, 0 to 20\n",
      "Data columns (total 2 columns):\n",
      " #   Column         Non-Null Count  Dtype \n",
      "---  ------         --------------  ----- \n",
      " 0   department_id  21 non-null     int64 \n",
      " 1   department     21 non-null     object\n",
      "dtypes: int64(1), object(1)\n",
      "memory usage: 468.0+ bytes\n"
     ]
    }
   ],
   "source": [
    "df_departamento.info()"
   ]
  },
  {
   "cell_type": "code",
   "execution_count": 10,
   "id": "6fc81694",
   "metadata": {
    "id": "6fc81694"
   },
   "outputs": [
    {
     "name": "stdout",
     "output_type": "stream",
     "text": [
      "<class 'pandas.core.frame.DataFrame'>\n",
      "RangeIndex: 4545007 entries, 0 to 4545006\n",
      "Data columns (total 4 columns):\n",
      " #   Column             Dtype  \n",
      "---  ------             -----  \n",
      " 0   order_id           int64  \n",
      " 1   product_id         int64  \n",
      " 2   add_to_cart_order  float64\n",
      " 3   reordered          int64  \n",
      "dtypes: float64(1), int64(3)\n",
      "memory usage: 138.7 MB\n"
     ]
    }
   ],
   "source": [
    "df_orden_productos.info()"
   ]
  },
  {
   "cell_type": "markdown",
   "id": "t75BD19oaR5f",
   "metadata": {
    "id": "t75BD19oaR5f"
   },
   "source": [
    "## Conclusiones\n",
    "\n",
    "Escribe aquí tus conclusiones intermedias sobre el Paso 1. Descripción de los datos.\n",
    "\n",
    "Las ordenes solo tiene numeros enteros, lo que significa que los datos no son completamente divisibles, pero hay varios datos que necesitan ser cambiados a otro tipo de datos. Como days_since_prior_order de float a int si solo necesito el numero de dias.\n",
    "\n",
    "En Productos, Aisles y Departamentos, tiene que cambiar los nombres de Object a Strings.\n",
    "\n",
    "En Orden Productos, \"Add to cart order\" es float, pero si usa los ID de ordenes, necesitaria ser enteros"
   ]
  },
  {
   "cell_type": "markdown",
   "id": "8RJHqxVmaVsF",
   "metadata": {
    "id": "8RJHqxVmaVsF"
   },
   "source": [
    "# Paso 2. Preprocesamiento de los datos\n",
    "\n",
    "Preprocesa los datos de la siguiente manera:\n",
    "\n",
    "- Verifica y corrige los tipos de datos (por ejemplo, asegúrate de que las columnas de ID sean números enteros).\n",
    "- Identifica y completa los valores ausentes.\n",
    "- Identifica y elimina los valores duplicados.\n",
    "\n",
    "Asegúrate de explicar qué tipos de valores ausentes y duplicados encontraste, cómo los completaste o eliminaste y por qué usaste esos métodos. ¿Por qué crees que estos valores ausentes y duplicados pueden haber estado presentes en el conjunto de datos?"
   ]
  },
  {
   "cell_type": "markdown",
   "id": "p6poABZQaZYb",
   "metadata": {
    "id": "p6poABZQaZYb"
   },
   "source": [
    "## Plan de solución\n",
    "\n",
    "Escribe aquí tu plan para el Paso 2. Preprocesamiento de los datos.\n",
    "Primero, la informacion de los datos deben ser \"limpiados\" por lo que la informacion debe ser:\n",
    "    \n",
    "    -ordenar la informacion actual de los dataframes.\n",
    "    -eliminado si es completamente duplicado.\n",
    "    -añadir datos default a valores nulos\n",
    "    -arreglar los tipos de datos de todos los dataframes."
   ]
  },
  {
   "cell_type": "markdown",
   "id": "07357848-dc64-4156-9cc3-01ff4365226d",
   "metadata": {
    "id": "07357848-dc64-4156-9cc3-01ff4365226d"
   },
   "source": [
    "## Encuentra y elimina los valores duplicados (y describe cómo tomaste tus decisiones)."
   ]
  },
  {
   "cell_type": "markdown",
   "id": "f179f0a9",
   "metadata": {
    "id": "f179f0a9"
   },
   "source": [
    "### `orders` data frame"
   ]
  },
  {
   "cell_type": "code",
   "execution_count": 11,
   "id": "b99297a5-405a-463d-8535-9adc3da4ad74",
   "metadata": {
    "id": "b99297a5-405a-463d-8535-9adc3da4ad74"
   },
   "outputs": [
    {
     "name": "stdout",
     "output_type": "stream",
     "text": [
      "15\n"
     ]
    }
   ],
   "source": [
    "# Revisa si hay pedidos duplicados\n",
    "print(df_ordenes.duplicated().sum())"
   ]
  },
  {
   "cell_type": "markdown",
   "id": "PEkwUX_gvt5A",
   "metadata": {
    "id": "PEkwUX_gvt5A"
   },
   "source": [
    "¿Tienes líneas duplicadas? Si sí, ¿qué tienen en común?\n",
    "\n",
    "Hay lineas duplicadas, sin embargo, la cantidad de filas hace dificil very que datos especificos tienen datos en comin, no obstante, estos son datos completamente iguales, por lo que todos aparecen mas de una vez."
   ]
  },
  {
   "cell_type": "code",
   "execution_count": 12,
   "id": "0d44de5d",
   "metadata": {
    "id": "0d44de5d"
   },
   "outputs": [
    {
     "name": "stdout",
     "output_type": "stream",
     "text": [
      "        order_id  user_id  order_number  order_dow  order_hour_of_day  \\\n",
      "4838     2766110   162084            41          3                  2   \n",
      "5156     2190225   138285            18          3                  2   \n",
      "15506     553049    58599            13          3                  2   \n",
      "18420     382357   120200            19          3                  2   \n",
      "24691     690242    77357             2          3                  2   \n",
      "...          ...      ...           ...        ...                ...   \n",
      "457013   3384021    14881             6          3                  2   \n",
      "458816    910166   164782            18          3                  2   \n",
      "459635   1680532   106435             6          3                  2   \n",
      "468324    222962    54979            59          3                  2   \n",
      "477526   2592344    46860            38          3                  2   \n",
      "\n",
      "        days_since_prior_order  \n",
      "4838                      16.0  \n",
      "5156                      11.0  \n",
      "15506                      7.0  \n",
      "18420                     11.0  \n",
      "24691                      9.0  \n",
      "...                        ...  \n",
      "457013                    30.0  \n",
      "458816                     4.0  \n",
      "459635                    21.0  \n",
      "468324                     3.0  \n",
      "477526                     3.0  \n",
      "\n",
      "[121 rows x 6 columns]\n"
     ]
    }
   ],
   "source": [
    "# Basándote en tus hallazgos,\n",
    "# Verifica todos los pedidos que se hicieron el miércoles a las 2:00 a.m.\n",
    "# Filtrar pedidos hechos el miércoles a las 2:00 a.m.\n",
    "pedidos_miercoles_2am = df_ordenes[\n",
    "    (df_ordenes['order_dow'] == 3) &\n",
    "    (df_ordenes['order_hour_of_day'] == 2)\n",
    "]\n",
    "\n",
    "# Mostrar el resultado\n",
    "print(pedidos_miercoles_2am)"
   ]
  },
  {
   "cell_type": "markdown",
   "id": "vu2OWyoqwOx5",
   "metadata": {
    "id": "vu2OWyoqwOx5"
   },
   "source": [
    "¿Qué sugiere este resultado? Todos los resultados son del miercoles a las 2 AM, pero los dias desde la ultima orden cambia."
   ]
  },
  {
   "cell_type": "code",
   "execution_count": 13,
   "id": "480563c7",
   "metadata": {
    "id": "480563c7"
   },
   "outputs": [],
   "source": [
    "# Elimina los pedidos duplicados\n",
    "df_ordenes = df_ordenes.drop_duplicates().reset_index(drop=True)"
   ]
  },
  {
   "cell_type": "code",
   "execution_count": 14,
   "id": "0b2396a2",
   "metadata": {
    "id": "0b2396a2"
   },
   "outputs": [
    {
     "name": "stdout",
     "output_type": "stream",
     "text": [
      "0\n"
     ]
    }
   ],
   "source": [
    "# Vuelve a verificar si hay filas duplicadas\n",
    "print(df_ordenes.duplicated().sum())"
   ]
  },
  {
   "cell_type": "code",
   "execution_count": 15,
   "id": "f6113ef1",
   "metadata": {
    "id": "f6113ef1"
   },
   "outputs": [
    {
     "name": "stdout",
     "output_type": "stream",
     "text": [
      "0\n"
     ]
    }
   ],
   "source": [
    "# Vuelve a verificar únicamente si hay IDs duplicados de pedidos\n",
    "print(df_ordenes['order_id'].duplicated().sum())"
   ]
  },
  {
   "cell_type": "markdown",
   "id": "5e8905ae",
   "metadata": {
    "id": "5e8905ae"
   },
   "source": [
    "Describe brevemente tus hallazgos y lo que hiciste con ellos.\n",
    "\n",
    "Descubri que hay datos publicados explicitamente, para obtener datos mas precisos, los repetidos fueron elimindados."
   ]
  },
  {
   "cell_type": "markdown",
   "id": "45e6bc46",
   "metadata": {
    "id": "45e6bc46"
   },
   "source": [
    "### `products` data frame"
   ]
  },
  {
   "cell_type": "code",
   "execution_count": 16,
   "id": "5f526b5b-8175-46fa-a0fd-441767d50e64",
   "metadata": {
    "id": "5f526b5b-8175-46fa-a0fd-441767d50e64"
   },
   "outputs": [
    {
     "name": "stdout",
     "output_type": "stream",
     "text": [
      "0\n"
     ]
    }
   ],
   "source": [
    "# Verifica si hay filas totalmente duplicadas\n",
    "print(df_productos.duplicated().sum())"
   ]
  },
  {
   "cell_type": "code",
   "execution_count": 17,
   "id": "88daa4f4",
   "metadata": {
    "id": "88daa4f4"
   },
   "outputs": [
    {
     "name": "stdout",
     "output_type": "stream",
     "text": [
      "0\n"
     ]
    }
   ],
   "source": [
    "# Revisa únicamente si hay ID de departamentos duplicados\n",
    "print(df_productos['product_id'].duplicated().sum())"
   ]
  },
  {
   "cell_type": "code",
   "execution_count": 18,
   "id": "c773f0bf",
   "metadata": {
    "id": "c773f0bf"
   },
   "outputs": [
    {
     "name": "stdout",
     "output_type": "stream",
     "text": [
      "1361\n"
     ]
    }
   ],
   "source": [
    "# Revisa únicamente si hay nombres duplicados de productos (convierte los nombres a letras mayúsculas para compararlos mejor)\n",
    "print(df_productos['product_name'].str.upper().duplicated().sum())"
   ]
  },
  {
   "cell_type": "code",
   "execution_count": 19,
   "id": "01efd02e",
   "metadata": {
    "id": "01efd02e"
   },
   "outputs": [
    {
     "name": "stdout",
     "output_type": "stream",
     "text": [
      "0\n"
     ]
    }
   ],
   "source": [
    "# Revisa si hay nombres duplicados de productos no faltantes\n",
    "print(len(df_productos[df_productos['product_name'].notna() & \n",
    "                       df_productos.duplicated(subset='product_name', keep=False)]))"
   ]
  },
  {
   "cell_type": "markdown",
   "id": "9da8d293",
   "metadata": {
    "id": "9da8d293"
   },
   "source": [
    "Describe brevemente tus hallazgos y lo que hiciste con ellos.\n",
    "\n",
    "Los datos nulos son tecnicamente datos duplicados, pero como las filas son diferentes, los duplicados son implicitos."
   ]
  },
  {
   "cell_type": "markdown",
   "id": "60f30db1",
   "metadata": {
    "id": "60f30db1"
   },
   "source": [
    "### `departments` data frame"
   ]
  },
  {
   "cell_type": "code",
   "execution_count": 20,
   "id": "fb410ad4-0fbf-4b80-bb09-23fdea79afe3",
   "metadata": {
    "id": "fb410ad4-0fbf-4b80-bb09-23fdea79afe3"
   },
   "outputs": [
    {
     "name": "stdout",
     "output_type": "stream",
     "text": [
      "0\n"
     ]
    }
   ],
   "source": [
    "# Revisa si hay filas totalmente duplicadas\n",
    "print(df_departamento.duplicated().sum())"
   ]
  },
  {
   "cell_type": "code",
   "execution_count": 21,
   "id": "332b12bb",
   "metadata": {
    "id": "332b12bb"
   },
   "outputs": [
    {
     "name": "stdout",
     "output_type": "stream",
     "text": [
      "0\n"
     ]
    }
   ],
   "source": [
    "# Revisa únicamente si hay IDs duplicadas de productos\n",
    "print(df_departamento['department_id'].duplicated().sum())"
   ]
  },
  {
   "cell_type": "markdown",
   "id": "bd30d78e",
   "metadata": {
    "id": "bd30d78e"
   },
   "source": [
    "Describe brevemente tus hallazgos y lo que hiciste con ellos.\n",
    "\n",
    "No hay ningun dato de departamento duplicado."
   ]
  },
  {
   "cell_type": "markdown",
   "id": "889349c1",
   "metadata": {
    "id": "889349c1"
   },
   "source": [
    "### `aisles` data frame"
   ]
  },
  {
   "cell_type": "code",
   "execution_count": 22,
   "id": "9da89fb9-4679-40f5-ad0d-c34df753a3f8",
   "metadata": {
    "id": "9da89fb9-4679-40f5-ad0d-c34df753a3f8"
   },
   "outputs": [
    {
     "name": "stdout",
     "output_type": "stream",
     "text": [
      "0\n"
     ]
    }
   ],
   "source": [
    "# Revisa si hay filas totalmente duplicadas\n",
    "print(df_aisles.duplicated().sum())"
   ]
  },
  {
   "cell_type": "code",
   "execution_count": 23,
   "id": "da7c2822",
   "metadata": {
    "id": "da7c2822"
   },
   "outputs": [
    {
     "name": "stdout",
     "output_type": "stream",
     "text": [
      "0\n"
     ]
    }
   ],
   "source": [
    "# Revisa únicamente si hay IDs duplicadas de pasillos\n",
    "print(df_aisles['aisle_id'].duplicated().sum())"
   ]
  },
  {
   "cell_type": "markdown",
   "id": "ac63826f",
   "metadata": {
    "id": "ac63826f"
   },
   "source": [
    "Describe brevemente tus hallazgos y lo que hiciste con ellos.\n",
    "\n",
    "No hay Aisles duplicados."
   ]
  },
  {
   "cell_type": "markdown",
   "id": "274cd06a",
   "metadata": {
    "id": "274cd06a"
   },
   "source": [
    "### `order_products` data frame"
   ]
  },
  {
   "cell_type": "code",
   "execution_count": 24,
   "id": "52326689-84a8-4b8f-a881-7c68780f62c9",
   "metadata": {
    "id": "52326689-84a8-4b8f-a881-7c68780f62c9"
   },
   "outputs": [
    {
     "name": "stdout",
     "output_type": "stream",
     "text": [
      "0\n"
     ]
    }
   ],
   "source": [
    "# Revisa si hay filas totalmente duplicadas\n",
    "print(df_orden_productos.duplicated().sum())"
   ]
  },
  {
   "cell_type": "code",
   "execution_count": 25,
   "id": "7b861391",
   "metadata": {
    "id": "7b861391"
   },
   "outputs": [
    {
     "name": "stdout",
     "output_type": "stream",
     "text": [
      "   order_id  product_id  add_to_cart_order  reordered\n",
      "0   2141543       11440               17.0          0\n",
      "1    567889        1560                1.0          1\n",
      "2   2261212       26683                1.0          1\n",
      "3    491251        8670               35.0          1\n",
      "4   2571142        1940                5.0          1\n",
      "5   2456893       21616                4.0          1\n",
      "6    644579       12341                5.0          1\n",
      "7   2231852       44925               10.0          1\n",
      "8   3185766       36259               14.0          1\n",
      "9    420019       23315                4.0          1\n"
     ]
    }
   ],
   "source": [
    "# Vuelve a verificar si hay cualquier otro duplicado engañoso\n",
    "print(df_orden_productos.head(10))"
   ]
  },
  {
   "cell_type": "markdown",
   "id": "0b890492",
   "metadata": {
    "id": "0b890492"
   },
   "source": [
    "Describe brevemente tus hallazgos y lo que hiciste con ellos.\n",
    "\n",
    "Ordenes de productos no tiene datos repetidos, incluso cuando imprimo los datos, a la vista, aun no hay valores iguales explicitos o implicitos."
   ]
  },
  {
   "cell_type": "markdown",
   "id": "1e46de76",
   "metadata": {
    "id": "1e46de76"
   },
   "source": [
    "## Encuentra y elimina los valores ausentes\n",
    "\n",
    "Al trabajar con valores duplicados, pudimos observar que también nos falta investigar valores ausentes:\n",
    "\n",
    "* La columna `'product_name'` de la tabla products.\n",
    "* La columna `'days_since_prior_order'` de la tabla orders.\n",
    "* La columna `'add_to_cart_order'` de la tabla order_productos."
   ]
  },
  {
   "cell_type": "markdown",
   "id": "c0aebd78",
   "metadata": {
    "id": "c0aebd78"
   },
   "source": [
    "### `products` data frame"
   ]
  },
  {
   "cell_type": "code",
   "execution_count": 26,
   "id": "fe4a8b0f",
   "metadata": {
    "id": "fe4a8b0f"
   },
   "outputs": [
    {
     "name": "stdout",
     "output_type": "stream",
     "text": [
      "       product_id product_name  aisle_id  department_id\n",
      "37             38          NaN       100             21\n",
      "71             72          NaN       100             21\n",
      "109           110          NaN       100             21\n",
      "296           297          NaN       100             21\n",
      "416           417          NaN       100             21\n",
      "...           ...          ...       ...            ...\n",
      "49552       49553          NaN       100             21\n",
      "49574       49575          NaN       100             21\n",
      "49640       49641          NaN       100             21\n",
      "49663       49664          NaN       100             21\n",
      "49668       49669          NaN       100             21\n",
      "\n",
      "[1258 rows x 4 columns]\n"
     ]
    }
   ],
   "source": [
    "# Encuentra los valores ausentes en la columna 'product_name'\n",
    "print(df_productos[df_productos['product_name'].isna()])"
   ]
  },
  {
   "cell_type": "markdown",
   "id": "-A6x1AbJhjkp",
   "metadata": {
    "id": "-A6x1AbJhjkp"
   },
   "source": [
    "Describe brevemente cuáles son tus hallazgos.\n",
    "\n",
    "El articulo viene especificamente del aisle 100 y del departamento 21, Lo que es posible que el error es en el etiquetado del producto."
   ]
  },
  {
   "cell_type": "code",
   "execution_count": 27,
   "id": "e96167bc",
   "metadata": {
    "id": "e96167bc"
   },
   "outputs": [
    {
     "name": "stdout",
     "output_type": "stream",
     "text": [
      "False\n"
     ]
    }
   ],
   "source": [
    "#  ¿Todos los nombres de productos ausentes están relacionados con el pasillo con ID 100?\n",
    "print(df_productos['aisle_id'].nunique() == 1 and df_productos['aisle_id'].iloc[0] == 100)"
   ]
  },
  {
   "cell_type": "markdown",
   "id": "WRpIfXRphpSL",
   "metadata": {
    "id": "WRpIfXRphpSL"
   },
   "source": [
    "Describe brevemente cuáles son tus hallazgos.\n",
    "\n",
    "No, no todos los productos con nombre nulos son parte de Aisle 100, es posible que algunos son realmente datos erroneos, pero los datos en aisle 100 si son consistente, problema con etiquetado."
   ]
  },
  {
   "cell_type": "code",
   "execution_count": 28,
   "id": "8fd0a541",
   "metadata": {
    "id": "8fd0a541"
   },
   "outputs": [
    {
     "name": "stdout",
     "output_type": "stream",
     "text": [
      "False\n"
     ]
    }
   ],
   "source": [
    "# ¿Todos los nombres de productos ausentes están relacionados con el departamento con ID 21?\n",
    "print(df_productos['department_id'].nunique() == 1 and df_productos['department_id'].iloc[0] == 21)"
   ]
  },
  {
   "cell_type": "markdown",
   "id": "qDpdYn1Fht_I",
   "metadata": {
    "id": "qDpdYn1Fht_I"
   },
   "source": [
    "Describe brevemente cuáles son tus hallazgos.\n",
    "\n",
    "Igual que aisle 100, todos los productos nulos no son necesariamente del departamento 21"
   ]
  },
  {
   "cell_type": "code",
   "execution_count": 29,
   "id": "325c3464",
   "metadata": {
    "id": "325c3464"
   },
   "outputs": [
    {
     "name": "stdout",
     "output_type": "stream",
     "text": [
      "Pasillo con ID 100:\n",
      "    aisle_id    aisle\n",
      "99       100  missing\n",
      "\n",
      "Departamento con ID 21:\n",
      "    department_id department\n",
      "20             21    missing\n"
     ]
    }
   ],
   "source": [
    "# Usa las tablas department y aisle para revisar los datos del pasillo con ID 100 y el departamento con ID 21.\n",
    "# Revisar información del pasillo con ID 100\n",
    "print(\"Pasillo con ID 100:\")\n",
    "print(df_aisles[df_aisles['aisle_id'] == 100])\n",
    "\n",
    "# Revisar información del departamento con ID 21\n",
    "print(\"\\nDepartamento con ID 21:\")\n",
    "print(df_departamento[df_departamento['department_id'] == 21])"
   ]
  },
  {
   "cell_type": "markdown",
   "id": "nqhSTUPhhvEJ",
   "metadata": {
    "id": "nqhSTUPhhvEJ"
   },
   "source": [
    "Describe brevemente cuáles son tus hallazgos.\n",
    "\n",
    "El producto no existen en Aisle 100 y departamento 21, simplemente no tiene nombre o no existe, por lo que se necesitara nombrar el producto desde su raiz."
   ]
  },
  {
   "cell_type": "code",
   "execution_count": 30,
   "id": "6b295120",
   "metadata": {
    "id": "6b295120"
   },
   "outputs": [
    {
     "name": "stdout",
     "output_type": "stream",
     "text": [
      "Empty DataFrame\n",
      "Columns: [product_id, product_name, aisle_id, department_id]\n",
      "Index: []\n"
     ]
    }
   ],
   "source": [
    "# Completa los nombres de productos ausentes con 'Unknown'\n",
    "df_productos['product_name'] = df_productos['product_name'].fillna('Unknown')\n",
    "print(df_productos[df_productos['product_name'].isna()])"
   ]
  },
  {
   "cell_type": "markdown",
   "id": "fc70e5ad",
   "metadata": {
    "id": "fc70e5ad"
   },
   "source": [
    "Describe brevemente tus hallazgos y lo que hiciste con ellos.\n",
    "\n",
    "Descubri que el producto vinculado del Aisle 100 y Departamento 21 no existia, o se perdio, por lo que ponerle el default de \"unknown\" permite que no se pierda tanta informacion que puede ser util."
   ]
  },
  {
   "cell_type": "markdown",
   "id": "7eb45c86",
   "metadata": {
    "id": "7eb45c86"
   },
   "source": [
    "### `orders` data frame"
   ]
  },
  {
   "cell_type": "code",
   "execution_count": 31,
   "id": "93e41d96",
   "metadata": {
    "id": "93e41d96"
   },
   "outputs": [
    {
     "name": "stdout",
     "output_type": "stream",
     "text": [
      "order_id                      0\n",
      "user_id                       0\n",
      "order_number                  0\n",
      "order_dow                     0\n",
      "order_hour_of_day             0\n",
      "days_since_prior_order    28817\n",
      "dtype: int64\n"
     ]
    }
   ],
   "source": [
    "# Encuentra los valores ausentes\n",
    "print(df_ordenes.isna().sum())"
   ]
  },
  {
   "cell_type": "code",
   "execution_count": 32,
   "id": "166e5a86",
   "metadata": {
    "id": "166e5a86"
   },
   "outputs": [
    {
     "name": "stdout",
     "output_type": "stream",
     "text": [
      "0\n"
     ]
    }
   ],
   "source": [
    "# ¿Hay algún valor ausente que no sea el primer pedido del cliente?\n",
    "print(len(df_ordenes[\n",
    "    df_ordenes['days_since_prior_order'].isna() &\n",
    "    (df_ordenes['order_number'] != 1)\n",
    "]))"
   ]
  },
  {
   "cell_type": "markdown",
   "id": "4e23d089",
   "metadata": {
    "id": "4e23d089"
   },
   "source": [
    "Describe brevemente tus hallazgos y lo que hiciste con ellos.\n",
    "\n",
    "Traducí lo que pidio el comentario, el primer pedido del cliente significa que el numero de orden no sea 1, y observa si todas los datos ausentes son en ordenes \"dias desde ultima orden\" por lo que es posible tener nulo."
   ]
  },
  {
   "cell_type": "markdown",
   "id": "69dc9ca4",
   "metadata": {
    "id": "69dc9ca4"
   },
   "source": [
    "### `order_products` data frame"
   ]
  },
  {
   "cell_type": "code",
   "execution_count": 33,
   "id": "b8240253",
   "metadata": {
    "id": "b8240253"
   },
   "outputs": [
    {
     "name": "stdout",
     "output_type": "stream",
     "text": [
      "order_id               0\n",
      "product_id             0\n",
      "add_to_cart_order    836\n",
      "reordered              0\n",
      "dtype: int64\n"
     ]
    }
   ],
   "source": [
    "# Encuentra los valores ausentes\n",
    "print(df_orden_productos.isna().sum())"
   ]
  },
  {
   "cell_type": "code",
   "execution_count": 34,
   "id": "9a78e5ee",
   "metadata": {
    "id": "9a78e5ee"
   },
   "outputs": [
    {
     "name": "stdout",
     "output_type": "stream",
     "text": [
      "Valor mínimo: 1.0\n",
      "Valor máximo: 64.0\n"
     ]
    }
   ],
   "source": [
    "# ¿Cuáles son los valores mínimos y máximos en esta columna?\n",
    "print(\"Valor mínimo:\", df_orden_productos['add_to_cart_order'].min())\n",
    "print(\"Valor máximo:\", df_orden_productos['add_to_cart_order'].max())"
   ]
  },
  {
   "cell_type": "markdown",
   "id": "-Z2Ja215jW78",
   "metadata": {
    "id": "-Z2Ja215jW78"
   },
   "source": [
    "Describe brevemente cuáles son tus hallazgos.\n",
    "\n",
    "Los valores de \"add to card order\" es el unico que tiene valores nulos, pero aun tiene valores validos debido que tiene un valor minimo de 1 a 64. Aunque aun no se que significa, es señal que hay que corregir los nulos"
   ]
  },
  {
   "cell_type": "code",
   "execution_count": 35,
   "id": "ab9d0c2b",
   "metadata": {
    "id": "ab9d0c2b"
   },
   "outputs": [
    {
     "name": "stdout",
     "output_type": "stream",
     "text": [
      "737        2449164\n",
      "9926       1968313\n",
      "14394      2926893\n",
      "16418      1717990\n",
      "30114      1959075\n",
      "            ...   \n",
      "4505662    1800005\n",
      "4511400    1633337\n",
      "4517562     404157\n",
      "4534112    1673227\n",
      "4535739    1832957\n",
      "Name: order_id, Length: 836, dtype: int64\n"
     ]
    }
   ],
   "source": [
    "# Guarda todas las IDs de pedidos que tengan un valor ausente en 'add_to_cart_order'\n",
    "missing_cart_order_ids = df_orden_productos[df_orden_productos['add_to_cart_order'].isna()]['order_id']\n",
    "print(missing_cart_order_ids)"
   ]
  },
  {
   "cell_type": "code",
   "execution_count": 36,
   "id": "54c31695",
   "metadata": {
    "id": "54c31695"
   },
   "outputs": [
    {
     "name": "stdout",
     "output_type": "stream",
     "text": [
      "Cantidad mínima de productos en pedidos con datos ausentes: 1\n",
      "¿Todos tienen más de 64 productos?: False\n"
     ]
    }
   ],
   "source": [
    "# ¿Todos los pedidos con valores ausentes tienen más de 64 productos?\n",
    "# Agrupa todos los pedidos con datos ausentes por su ID de pedido.\n",
    "# Cuenta el número de 'product_id' en cada pedido y revisa el valor mínimo del conteo.\n",
    "\n",
    "# Filtra los pedidos con valores ausentes en 'add_to_cart_order'\n",
    "missing_cart_orders = df_orden_productos[df_orden_productos['add_to_cart_order'].isna()]\n",
    "\n",
    "# Agrupa por 'order_id' y cuenta cuántos 'product_id' hay en cada pedido\n",
    "product_counts = missing_cart_orders.groupby('order_id')['product_id'].count()\n",
    "\n",
    "# Muestra el valor mínimo del conteo\n",
    "min_count = product_counts.min()\n",
    "print(\"Cantidad mínima de productos en pedidos con datos ausentes:\", min_count)\n",
    "\n",
    "# Verifica si todos tienen más de 64 productos\n",
    "all_above_64 = (product_counts > 64).all()\n",
    "print(\"¿Todos tienen más de 64 productos?:\", all_above_64)"
   ]
  },
  {
   "cell_type": "markdown",
   "id": "p9V6pddtjglj",
   "metadata": {
    "id": "p9V6pddtjglj"
   },
   "source": [
    "Describe brevemente cuáles son tus hallazgos.\n",
    "\n",
    "La cantidad minima de productos de un pedido con datos ausentes es 1, pero tener mas de 64 productos no tiene ninguna relevancia con los datos ausentes."
   ]
  },
  {
   "cell_type": "code",
   "execution_count": 37,
   "id": "7a987d08",
   "metadata": {
    "id": "7a987d08"
   },
   "outputs": [
    {
     "name": "stdout",
     "output_type": "stream",
     "text": [
      "0\n",
      "order_id             int64\n",
      "product_id           int64\n",
      "add_to_cart_order    int64\n",
      "reordered            int64\n",
      "dtype: object\n"
     ]
    }
   ],
   "source": [
    "# Remplaza los valores ausentes en la columna 'add_to_cart? con 999 y convierte la columna al tipo entero.\n",
    "df_orden_productos['add_to_cart_order'] = df_orden_productos['add_to_cart_order'].fillna(999).astype(int)\n",
    "print(df_orden_productos['add_to_cart_order'].isna().sum())  # Debería dar 0\n",
    "print(df_orden_productos.dtypes)  # Verifica el tipo de dato"
   ]
  },
  {
   "cell_type": "markdown",
   "id": "fea4bcc7",
   "metadata": {
    "id": "fea4bcc7"
   },
   "source": [
    "Describe brevemente tus hallazgos y lo que hiciste con ellos.\n",
    "\n",
    "\"add_to_cart_order\" era el datos mas propenzo a tener valores nulos, aunque el motivo no es claro, ninguno de los datos ausentes tiene mas de 64 productos, o almenos no todos."
   ]
  },
  {
   "cell_type": "markdown",
   "id": "RnplPFY1gSrb",
   "metadata": {
    "id": "RnplPFY1gSrb"
   },
   "source": [
    "## Conclusiones\n",
    "\n",
    "Escribe aquí tus conclusiones intermedias sobre el Paso 2. Preprocesamiento de los datos\n",
    "\n",
    "Arreglar los datos ausentes y duplicados fue mas complicado por que la cantidad de informacion incremento, por lo que fue necesario contar los datos nulos y duplicados. Confirmar y verificar los datos especificos.\n",
    "\n",
    "Con los datos duplicados y los ausentes modificados, esta listo a ser analizado."
   ]
  },
  {
   "cell_type": "markdown",
   "id": "UjrOIwTcz3ri",
   "metadata": {
    "id": "UjrOIwTcz3ri"
   },
   "source": [
    "# Paso 3. Análisis de los datos\n",
    "\n",
    "Una vez los datos estén procesados y listos, haz el siguiente análisis:"
   ]
  },
  {
   "cell_type": "markdown",
   "id": "turkish-kidney",
   "metadata": {
    "id": "turkish-kidney"
   },
   "source": [
    "# [A] Fácil (deben completarse todos para aprobar)\n",
    "\n",
    "1. Verifica que los valores en las columnas `'order_hour_of_day'` y `'order_dow'` en la tabla orders sean razonables (es decir, `'order_hour_of_day'` oscile entre 0 y 23 y `'order_dow'` oscile entre 0 y 6).\n",
    "2. Crea un gráfico que muestre el número de personas que hacen pedidos dependiendo de la hora del día.\n",
    "3. Crea un gráfico que muestre qué día de la semana la gente hace sus compras.\n",
    "4. Crea un gráfico que muestre el tiempo que la gente espera hasta hacer su siguiente pedido, y comenta sobre los valores mínimos y máximos."
   ]
  },
  {
   "cell_type": "markdown",
   "id": "short-capability",
   "metadata": {
    "id": "short-capability"
   },
   "source": [
    "### [A1] Verifica que los valores sean sensibles"
   ]
  },
  {
   "cell_type": "code",
   "execution_count": 38,
   "id": "growing-fruit",
   "metadata": {
    "id": "growing-fruit"
   },
   "outputs": [
    {
     "name": "stdout",
     "output_type": "stream",
     "text": [
      "order_hour_of_day - min: 0 | max: 23\n"
     ]
    }
   ],
   "source": [
    "print(\"order_hour_of_day - min:\", df_ordenes['order_hour_of_day'].min(), \n",
    "      \"| max:\", df_ordenes['order_hour_of_day'].max())"
   ]
  },
  {
   "cell_type": "code",
   "execution_count": 39,
   "id": "accessory-malaysia",
   "metadata": {
    "id": "accessory-malaysia"
   },
   "outputs": [
    {
     "name": "stdout",
     "output_type": "stream",
     "text": [
      "order_dow - min: 0 | max: 6\n"
     ]
    }
   ],
   "source": [
    "print(\"order_dow - min:\", df_ordenes['order_dow'].min(), \n",
    "      \"| max:\", df_ordenes['order_dow'].max())"
   ]
  },
  {
   "cell_type": "markdown",
   "id": "hmR2GNQ6lCsX",
   "metadata": {
    "id": "hmR2GNQ6lCsX"
   },
   "source": [
    "Escribe aquí tus conclusiones.\n",
    "\n",
    "Los datos son sensibles, y cumplen con los requisitos."
   ]
  },
  {
   "cell_type": "markdown",
   "id": "a6743a70",
   "metadata": {
    "id": "a6743a70"
   },
   "source": [
    "### [A2] Para cada hora del día, ¿cuántas personas hacen órdenes?"
   ]
  },
  {
   "cell_type": "code",
   "execution_count": 40,
   "id": "a36cca27",
   "metadata": {
    "id": "a36cca27"
   },
   "outputs": [
    {
     "data": {
      "image/png": "[encoded data removed]",
      "text/plain": [
       "<Figure size 800x500 with 1 Axes>"
      ]
     },
     "metadata": {},
     "output_type": "display_data"
    }
   ],
   "source": [
    "# Contar pedidos por hora del día\n",
    "df_horas = df_ordenes['order_hour_of_day'].value_counts().sort_index().reset_index()\n",
    "df_horas.columns = ['Hora del día', 'Número de pedidos']\n",
    "\n",
    "# Graficar\n",
    "df_horas.plot(\n",
    "    kind='bar', x='Hora del día', y='Número de pedidos', title='Pedidos por hora del día', legend=False,\n",
    "    xlabel='Hora del día (0–23)', ylabel='Número de pedidos', color='orchid', figsize=(8,5), rot=0\n",
    ")\n",
    "\n",
    "plt.tight_layout()\n",
    "plt.show()"
   ]
  },
  {
   "cell_type": "markdown",
   "id": "11270eed",
   "metadata": {
    "id": "11270eed"
   },
   "source": [
    "Escribe aquí tus conclusiones\n",
    "\n",
    "La gente pide ordenes a partis de las 8, y se maximiza a las 10, y las ordenes bajan a partir de las 18"
   ]
  },
  {
   "cell_type": "markdown",
   "id": "documented-command",
   "metadata": {
    "id": "documented-command"
   },
   "source": [
    "### [A3] ¿Qué día de la semana compran víveres las personas?"
   ]
  },
  {
   "cell_type": "code",
   "execution_count": 41,
   "id": "chief-digit",
   "metadata": {
    "id": "chief-digit"
   },
   "outputs": [
    {
     "data": {
      "image/png": "[encoded data removed]",
      "text/plain": [
       "<Figure size 500x500 with 1 Axes>"
      ]
     },
     "metadata": {},
     "output_type": "display_data"
    }
   ],
   "source": [
    "# Agrupamos por order_dow y contamos los pedidos\n",
    "df_dow = df_ordenes.groupby('order_dow')['order_id'].count().reset_index()\n",
    "\n",
    "# Mapeamos los números a los nombres de los días\n",
    "dias_semana = {\n",
    "    0: 'Domingo', 1: 'Lunes', 2: 'Martes', 3: 'Miércoles', 4: 'Jueves', 5: 'Viernes', 6: 'Sábado'\n",
    "}\n",
    "df_dow['order_dow'] = df_dow['order_dow'].map(dias_semana)\n",
    "\n",
    "# Graficamos\n",
    "df_dow.plot(\n",
    "    title='Pedidos por día de la semana',kind='line',style='*',color='hotpink',figsize=(5, 5),x='order_dow',y='order_id',\n",
    "    xlabel='Día de la semana',ylabel='Número de pedidos'\n",
    ")\n",
    "\n",
    "plt.show()"
   ]
  },
  {
   "cell_type": "markdown",
   "id": "dominant-lightning",
   "metadata": {
    "id": "dominant-lightning"
   },
   "source": [
    "Escribe aquí tus conclusiones\n",
    "\n",
    "Hay muchos pedidos durante los domingos comparato con toda la semana, con el Jueves siendo el dia con menos ordenes."
   ]
  },
  {
   "cell_type": "markdown",
   "id": "cutting-concert",
   "metadata": {
    "id": "cutting-concert"
   },
   "source": [
    "### [A4] ¿Cuánto tiempo esperan las personas hasta hacer otro pedido? Comenta sobre los valores mínimos y máximos."
   ]
  },
  {
   "cell_type": "code",
   "execution_count": 42,
   "id": "c231f523",
   "metadata": {
    "id": "c231f523"
   },
   "outputs": [
    {
     "data": {
      "image/png": "[encoded data removed]",
      "text/plain": [
       "<Figure size 1200x500 with 1 Axes>"
      ]
     },
     "metadata": {},
     "output_type": "display_data"
    },
    {
     "name": "stdout",
     "output_type": "stream",
     "text": [
      "Dias mínimo: 0.0 Dias máximo: 30.0\n"
     ]
    }
   ],
   "source": [
    "# Primero, redondeamos a enteros por si hay decimales\n",
    "dias = df_ordenes['days_since_prior_order'].dropna().astype(int)\n",
    "\n",
    "# Conteo de frecuencia ordenado\n",
    "frecuencia = dias.value_counts().sort_index()\n",
    "\n",
    "# Etiquetas personalizadas para el eje X\n",
    "etiquetas = [f'{d} día{\"s\" if d != 1 else \"\"}' for d in frecuencia.index]\n",
    "\n",
    "# Crear el gráfico\n",
    "frecuencia.plot(\n",
    "    kind='bar', title='Tiempo hasta el siguiente pedido', xlabel='Días desde el pedido anterior', ylabel='Número de pedidos',\n",
    "    color='mediumseagreen', figsize=(12,5)\n",
    ")\n",
    "plt.xticks(ticks=range(len(etiquetas)), labels=etiquetas, rotation=45, ha='right')\n",
    "plt.tight_layout()\n",
    "plt.show()\n",
    "print(\"Dias mínimo:\", df_ordenes['days_since_prior_order'].min(), \"Dias máximo:\", df_ordenes['days_since_prior_order'].max())"
   ]
  },
  {
   "cell_type": "markdown",
   "id": "discrete-vertex",
   "metadata": {
    "id": "discrete-vertex"
   },
   "source": [
    "Escribe aquí tus conclusiones\n",
    "\n",
    "Los clientes frecuentes suelen volver a pedir ordenes en la primera semana, con el fin de semana siendo comun, pero la gente suele pedir comida en grandes cantidades despues de un mes."
   ]
  },
  {
   "cell_type": "markdown",
   "id": "tight-staff",
   "metadata": {
    "id": "tight-staff"
   },
   "source": [
    "# [B] Intermedio (deben completarse todos para aprobar)\n",
    "\n",
    "1. ¿Existe alguna diferencia entre las distribuciones `'order_hour_of_day'` de los miércoles y los sábados? Traza gráficos de barra de `'order_hour_of_day'` para ambos días en la misma figura y describe las diferencias que observes.\n",
    "2. Grafica la distribución para el número de órdenes que hacen los clientes (es decir, cuántos clientes hicieron solo 1 pedido, cuántos hicieron 2, cuántos 3, y así sucesivamente...).\n",
    "3. ¿Cuáles son los 20 principales productos que se piden con más frecuencia (muestra su identificación y nombre)?"
   ]
  },
  {
   "cell_type": "markdown",
   "id": "packed-classic",
   "metadata": {
    "id": "packed-classic"
   },
   "source": [
    "### [B1] Diferencia entre miércoles y sábados para  `'order_hour_of_day'`. Traza gráficos de barra para los dos días y describe las diferencias que veas."
   ]
  },
  {
   "cell_type": "code",
   "execution_count": 43,
   "id": "d89b8403",
   "metadata": {
    "id": "d89b8403"
   },
   "outputs": [],
   "source": [
    "# Filtrar por día de la semana\n",
    "miercoles = df_ordenes[df_ordenes['order_dow'] == 3]\n",
    "sabado = df_ordenes[df_ordenes['order_dow'] == 5]"
   ]
  },
  {
   "cell_type": "code",
   "execution_count": 44,
   "id": "94e54e8a",
   "metadata": {
    "id": "94e54e8a"
   },
   "outputs": [],
   "source": [
    "# Contar pedidos por hora del día\n",
    "miercoles_horas = miercoles['order_hour_of_day'].value_counts().sort_index()\n",
    "sabado_horas = sabado['order_hour_of_day'].value_counts().sort_index()"
   ]
  },
  {
   "cell_type": "code",
   "execution_count": 45,
   "id": "797c90a8",
   "metadata": {
    "id": "797c90a8"
   },
   "outputs": [],
   "source": [
    "# Crear DataFrame conjunto\n",
    "df_horas = pd.DataFrame({\n",
    "    'Miércoles': miercoles_horas, 'Sábado': sabado_horas\n",
    "})"
   ]
  },
  {
   "cell_type": "code",
   "execution_count": 46,
   "id": "35bcea30",
   "metadata": {
    "id": "35bcea30"
   },
   "outputs": [
    {
     "data": {
      "image/png": "[encoded data removed]",
      "text/plain": [
       "<Figure size 1200x500 with 1 Axes>"
      ]
     },
     "metadata": {},
     "output_type": "display_data"
    }
   ],
   "source": [
    "# Graficar con tu formato\n",
    "df_horas.plot(kind='bar', title='Distribución de pedidos por hora: Miércoles vs Sábado', xlabel='Hora del día',\n",
    "    ylabel='Cantidad de pedidos', color=['skyblue', 'coral'], figsize=(12,5), rot=0\n",
    ")\n",
    "plt.show()"
   ]
  },
  {
   "cell_type": "markdown",
   "id": "charitable-congo",
   "metadata": {
    "id": "charitable-congo"
   },
   "source": [
    "Escribe aquí tus conclusiones\n",
    "\n",
    "Observando la tabla, no parece que hay diferencias notables."
   ]
  },
  {
   "cell_type": "markdown",
   "id": "e3891143",
   "metadata": {
    "id": "e3891143"
   },
   "source": [
    "### [B2] ¿Cuál es la distribución para el número de pedidos por cliente?"
   ]
  },
  {
   "cell_type": "code",
   "execution_count": 47,
   "id": "d8c26c23",
   "metadata": {
    "id": "d8c26c23"
   },
   "outputs": [],
   "source": [
    "pedidos_por_cliente = df_ordenes.groupby('user_id')['order_id'].count()"
   ]
  },
  {
   "cell_type": "code",
   "execution_count": 48,
   "id": "00e69a66",
   "metadata": {
    "id": "00e69a66"
   },
   "outputs": [
    {
     "data": {
      "image/png": "[encoded data removed]",
      "text/plain": [
       "<Figure size 1200x500 with 1 Axes>"
      ]
     },
     "metadata": {},
     "output_type": "display_data"
    }
   ],
   "source": [
    "pedidos_por_cliente.value_counts().sort_index().plot(\n",
    "    kind='bar',\n",
    "    title='Distribución de pedidos por cliente',\n",
    "    xlabel='Número de pedidos',\n",
    "    ylabel='Número de clientes',\n",
    "    color='mediumseagreen',\n",
    "    figsize=(12,5),\n",
    "    rot=0\n",
    ")\n",
    "plt.show()"
   ]
  },
  {
   "cell_type": "markdown",
   "id": "d2eff7d5",
   "metadata": {
    "id": "d2eff7d5"
   },
   "source": [
    "Escribe aquí tus conclusiones\n",
    "\n",
    "Los clientes suelen pedir solo una orden, pero pueden pedir hasta 7 ordenes, a lo mejor por actividades con amigos o familia, pero no piden mas de 10, o almenos no es comun."
   ]
  },
  {
   "cell_type": "markdown",
   "id": "54a0319c",
   "metadata": {
    "id": "54a0319c"
   },
   "source": [
    "### [B3] ¿Cuáles son los 20 productos más populares (muestra su ID y nombre)?"
   ]
  },
  {
   "cell_type": "code",
   "execution_count": 49,
   "id": "exterior-arizona",
   "metadata": {
    "id": "exterior-arizona",
    "scrolled": true
   },
   "outputs": [],
   "source": [
    "productos_mas_populares = df_orden_productos['product_id'].value_counts().head(20)"
   ]
  },
  {
   "cell_type": "code",
   "execution_count": 50,
   "id": "universal-facial",
   "metadata": {
    "id": "universal-facial"
   },
   "outputs": [],
   "source": [
    "top_20 = productos_mas_populares.reset_index()\n",
    "top_20.columns = ['product_id', 'count']\n",
    "\n",
    "top_20 = top_20.merge(df_productos[['product_id', 'product_name']], on='product_id')"
   ]
  },
  {
   "cell_type": "code",
   "execution_count": 51,
   "id": "bbcdd20b",
   "metadata": {
    "id": "bbcdd20b"
   },
   "outputs": [
    {
     "name": "stdout",
     "output_type": "stream",
     "text": [
      "    product_id              product_name  count\n",
      "0        24852                    Banana  66050\n",
      "1        13176    Bag of Organic Bananas  53297\n",
      "2        21137      Organic Strawberries  37039\n",
      "3        21903      Organic Baby Spinach  33971\n",
      "4        47209      Organic Hass Avocado  29773\n",
      "5        47766           Organic Avocado  24689\n",
      "6        47626               Large Lemon  21495\n",
      "7        16797              Strawberries  20018\n",
      "8        26209                     Limes  19690\n",
      "9        27845        Organic Whole Milk  19600\n",
      "10       27966       Organic Raspberries  19197\n",
      "11       22935      Organic Yellow Onion  15898\n",
      "12       24964            Organic Garlic  15292\n",
      "13       45007          Organic Zucchini  14584\n",
      "14       39275       Organic Blueberries  13879\n",
      "15       49683            Cucumber Kirby  13675\n",
      "16       28204        Organic Fuji Apple  12544\n",
      "17        5876             Organic Lemon  12232\n",
      "18        8277  Apple Honeycrisp Organic  11993\n",
      "19       40706    Organic Grape Tomatoes  11781\n"
     ]
    }
   ],
   "source": [
    "\n",
    "print(top_20[['product_id', 'product_name','count']])"
   ]
  },
  {
   "cell_type": "markdown",
   "id": "7df00f47",
   "metadata": {
    "id": "7df00f47"
   },
   "source": [
    "Escribe aquí tus conclusiones\n",
    "\n",
    "Los planatos son las ordenes mas populares, mientras que los tomates, manzanas y limones son menos pedidos."
   ]
  },
  {
   "cell_type": "markdown",
   "id": "gross-theme",
   "metadata": {
    "id": "gross-theme"
   },
   "source": [
    "# [C] Difícil (deben completarse todos para aprobar)\n",
    "\n",
    "1. ¿Cuántos artículos suelen comprar las personas en un pedido? ¿Cómo es la distribución?\n",
    "2. ¿Cuáles son los 20 principales artículos que vuelven a pedirse con mayor frecuencia (muestra sus nombres e IDs de los productos)?\n",
    "3. Para cada producto, ¿cuál es la tasa de repetición del pedido (número de repeticiones de pedido/total de pedidos?\n",
    "4. Para cada cliente, ¿qué proporción de los productos que pidió ya los había pedido? Calcula la tasa de repetición de pedido para cada usuario en lugar de para cada producto.\n",
    "5. ¿Cuáles son los 20 principales artículos que la gente pone primero en sus carritos (muestra las IDs de los productos, sus nombres, y el número de veces en que fueron el primer artículo en añadirse al carrito)?"
   ]
  },
  {
   "cell_type": "markdown",
   "id": "romantic-deposit",
   "metadata": {
    "id": "romantic-deposit"
   },
   "source": [
    "### [C1] ¿Cuántos artículos compran normalmente las personas en un pedido? ¿Cómo es la distribución?"
   ]
  },
  {
   "cell_type": "code",
   "execution_count": 52,
   "id": "virtual-punch",
   "metadata": {
    "id": "virtual-punch"
   },
   "outputs": [],
   "source": [
    "productos_por_pedido = df_orden_productos.groupby('order_id')['product_id'].count()"
   ]
  },
  {
   "cell_type": "code",
   "execution_count": 53,
   "id": "sensitive-breathing",
   "metadata": {
    "id": "sensitive-breathing"
   },
   "outputs": [
    {
     "name": "stdout",
     "output_type": "stream",
     "text": [
      "count    450046.000000\n",
      "mean         10.098983\n",
      "std           7.540206\n",
      "min           1.000000\n",
      "25%           5.000000\n",
      "50%           8.000000\n",
      "75%          14.000000\n",
      "max         127.000000\n",
      "Name: product_id, dtype: float64\n"
     ]
    }
   ],
   "source": [
    "print(productos_por_pedido.describe())"
   ]
  },
  {
   "cell_type": "code",
   "execution_count": 54,
   "id": "completed-frank",
   "metadata": {
    "id": "completed-frank"
   },
   "outputs": [
    {
     "data": {
      "text/plain": [
       "<Axes: title={'center': 'Distribución de artículos por pedido'}, xlabel='Cantidad de artículos en el pedido', ylabel='Número de pedidos'>"
      ]
     },
     "execution_count": 54,
     "metadata": {},
     "output_type": "execute_result"
    },
    {
     "data": {
      "image/png": "[encoded data removed]",
      "text/plain": [
       "<Figure size 1200x500 with 1 Axes>"
      ]
     },
     "metadata": {},
     "output_type": "display_data"
    }
   ],
   "source": [
    "productos_por_pedido.plot(\n",
    "    kind='hist',\n",
    "    bins=30,\n",
    "    title='Distribución de artículos por pedido',\n",
    "    xlabel='Cantidad de artículos en el pedido',\n",
    "    ylabel='Número de pedidos',\n",
    "    color='slateblue',\n",
    "    figsize=(12,5)\n",
    ")"
   ]
  },
  {
   "cell_type": "markdown",
   "id": "designed-mortality",
   "metadata": {
    "id": "designed-mortality"
   },
   "source": [
    "Escribe aquí tus conclusiones\n",
    "\n",
    "Las personas suelen pedir entre 1 a 20 articulas en un pedido, estos son las distribuciones mas comunes de los pedidos."
   ]
  },
  {
   "cell_type": "markdown",
   "id": "5e6b5537",
   "metadata": {
    "id": "5e6b5537"
   },
   "source": [
    "### [C2] ¿Cuáles son los 20 principales artículos que vuelven a pedirse con mayor frecuencia (muestra sus nombres e IDs de los productos)?"
   ]
  },
  {
   "cell_type": "code",
   "execution_count": 55,
   "id": "9374e55a",
   "metadata": {
    "id": "9374e55a"
   },
   "outputs": [],
   "source": [
    "reordenados = df_orden_productos[df_orden_productos['reordered'] == 1]"
   ]
  },
  {
   "cell_type": "code",
   "execution_count": 56,
   "id": "possible-change",
   "metadata": {
    "id": "possible-change",
    "scrolled": true
   },
   "outputs": [],
   "source": [
    "top_reordenados = reordenados['product_id'].value_counts().head(20)"
   ]
  },
  {
   "cell_type": "code",
   "execution_count": 57,
   "id": "professional-surfing",
   "metadata": {
    "id": "professional-surfing",
    "scrolled": true
   },
   "outputs": [],
   "source": [
    "top_reordenados = top_reordenados.reset_index()\n",
    "top_reordenados.columns = ['product_id', 'reorder_count']\n",
    "top_reordenados = top_reordenados.merge(df_productos[['product_id', 'product_name']], on='product_id')"
   ]
  },
  {
   "cell_type": "code",
   "execution_count": 58,
   "id": "48dd3658",
   "metadata": {
    "id": "48dd3658"
   },
   "outputs": [
    {
     "name": "stdout",
     "output_type": "stream",
     "text": [
      "    product_id              product_name  reorder_count\n",
      "0        24852                    Banana          55763\n",
      "1        13176    Bag of Organic Bananas          44450\n",
      "2        21137      Organic Strawberries          28639\n",
      "3        21903      Organic Baby Spinach          26233\n",
      "4        47209      Organic Hass Avocado          23629\n",
      "5        47766           Organic Avocado          18743\n",
      "6        27845        Organic Whole Milk          16251\n",
      "7        47626               Large Lemon          15044\n",
      "8        27966       Organic Raspberries          14748\n",
      "9        16797              Strawberries          13945\n",
      "10       26209                     Limes          13327\n",
      "11       22935      Organic Yellow Onion          11145\n",
      "12       24964            Organic Garlic          10411\n",
      "13       45007          Organic Zucchini          10076\n",
      "14       49683            Cucumber Kirby           9538\n",
      "15       28204        Organic Fuji Apple           8989\n",
      "16        8277  Apple Honeycrisp Organic           8836\n",
      "17       39275       Organic Blueberries           8799\n",
      "18        5876             Organic Lemon           8412\n",
      "19       49235       Organic Half & Half           8389\n"
     ]
    }
   ],
   "source": [
    "print(top_reordenados[['product_id', 'product_name', 'reorder_count']])"
   ]
  },
  {
   "cell_type": "markdown",
   "id": "80e70c74",
   "metadata": {
    "id": "80e70c74"
   },
   "source": [
    "Escribe aquí tus conclusiones\n",
    "\n",
    "Los planatos son los productos mas populares, 2 variaciones tomando las 2 mejores posiciones, pasando mas de 20000 dek top 3"
   ]
  },
  {
   "cell_type": "markdown",
   "id": "9d312b14",
   "metadata": {
    "id": "9d312b14"
   },
   "source": [
    "### [C3] Para cada producto, ¿cuál es la proporción de las veces que se pide y que se vuelve a pedir?"
   ]
  },
  {
   "cell_type": "code",
   "execution_count": 59,
   "id": "8ae9f4b1",
   "metadata": {
    "id": "8ae9f4b1"
   },
   "outputs": [],
   "source": [
    "pedido_stats = df_orden_productos.groupby('product_id')['reordered'].agg(\n",
    "    veces_pedido='count',                      # Total de veces pedido (todas las veces)\n",
    "    veces_reordenado='sum'                     # Total de veces reordenado (reordered = 1)\n",
    ").reset_index()"
   ]
  },
  {
   "cell_type": "code",
   "execution_count": 60,
   "id": "103e7fe1",
   "metadata": {
    "id": "103e7fe1"
   },
   "outputs": [],
   "source": [
    "pedido_stats = pedido_stats.merge(df_productos[['product_id', 'product_name']], on='product_id')"
   ]
  },
  {
   "cell_type": "code",
   "execution_count": 61,
   "id": "social-individual",
   "metadata": {
    "id": "social-individual"
   },
   "outputs": [
    {
     "data": {
      "text/html": [
       "<div>\n",
       "<style scoped>\n",
       "    .dataframe tbody tr th:only-of-type {\n",
       "        vertical-align: middle;\n",
       "    }\n",
       "\n",
       "    .dataframe tbody tr th {\n",
       "        vertical-align: top;\n",
       "    }\n",
       "\n",
       "    .dataframe thead th {\n",
       "        text-align: right;\n",
       "    }\n",
       "</style>\n",
       "<table border=\"1\" class=\"dataframe\">\n",
       "  <thead>\n",
       "    <tr style=\"text-align: right;\">\n",
       "      <th></th>\n",
       "      <th>product_id</th>\n",
       "      <th>veces_pedido</th>\n",
       "      <th>veces_reordenado</th>\n",
       "      <th>product_name</th>\n",
       "    </tr>\n",
       "  </thead>\n",
       "  <tbody>\n",
       "    <tr>\n",
       "      <th>22808</th>\n",
       "      <td>24852</td>\n",
       "      <td>66050</td>\n",
       "      <td>55763</td>\n",
       "      <td>Banana</td>\n",
       "    </tr>\n",
       "    <tr>\n",
       "      <th>12025</th>\n",
       "      <td>13176</td>\n",
       "      <td>53297</td>\n",
       "      <td>44450</td>\n",
       "      <td>Bag of Organic Bananas</td>\n",
       "    </tr>\n",
       "    <tr>\n",
       "      <th>19370</th>\n",
       "      <td>21137</td>\n",
       "      <td>37039</td>\n",
       "      <td>28639</td>\n",
       "      <td>Organic Strawberries</td>\n",
       "    </tr>\n",
       "    <tr>\n",
       "      <th>20077</th>\n",
       "      <td>21903</td>\n",
       "      <td>33971</td>\n",
       "      <td>26233</td>\n",
       "      <td>Organic Baby Spinach</td>\n",
       "    </tr>\n",
       "    <tr>\n",
       "      <th>43271</th>\n",
       "      <td>47209</td>\n",
       "      <td>29773</td>\n",
       "      <td>23629</td>\n",
       "      <td>Organic Hass Avocado</td>\n",
       "    </tr>\n",
       "    <tr>\n",
       "      <th>43788</th>\n",
       "      <td>47766</td>\n",
       "      <td>24689</td>\n",
       "      <td>18743</td>\n",
       "      <td>Organic Avocado</td>\n",
       "    </tr>\n",
       "    <tr>\n",
       "      <th>43663</th>\n",
       "      <td>47626</td>\n",
       "      <td>21495</td>\n",
       "      <td>15044</td>\n",
       "      <td>Large Lemon</td>\n",
       "    </tr>\n",
       "    <tr>\n",
       "      <th>15364</th>\n",
       "      <td>16797</td>\n",
       "      <td>20018</td>\n",
       "      <td>13945</td>\n",
       "      <td>Strawberries</td>\n",
       "    </tr>\n",
       "    <tr>\n",
       "      <th>24047</th>\n",
       "      <td>26209</td>\n",
       "      <td>19690</td>\n",
       "      <td>13327</td>\n",
       "      <td>Limes</td>\n",
       "    </tr>\n",
       "    <tr>\n",
       "      <th>25556</th>\n",
       "      <td>27845</td>\n",
       "      <td>19600</td>\n",
       "      <td>16251</td>\n",
       "      <td>Organic Whole Milk</td>\n",
       "    </tr>\n",
       "  </tbody>\n",
       "</table>\n",
       "</div>"
      ],
      "text/plain": [
       "       product_id  veces_pedido  veces_reordenado            product_name\n",
       "22808       24852         66050             55763                  Banana\n",
       "12025       13176         53297             44450  Bag of Organic Bananas\n",
       "19370       21137         37039             28639    Organic Strawberries\n",
       "20077       21903         33971             26233    Organic Baby Spinach\n",
       "43271       47209         29773             23629    Organic Hass Avocado\n",
       "43788       47766         24689             18743         Organic Avocado\n",
       "43663       47626         21495             15044             Large Lemon\n",
       "15364       16797         20018             13945            Strawberries\n",
       "24047       26209         19690             13327                   Limes\n",
       "25556       27845         19600             16251      Organic Whole Milk"
      ]
     },
     "execution_count": 61,
     "metadata": {},
     "output_type": "execute_result"
    }
   ],
   "source": [
    "pedido_stats = pedido_stats.sort_values(by='veces_pedido', ascending=False)\n",
    "pedido_stats.head(10)"
   ]
  },
  {
   "cell_type": "markdown",
   "id": "I10dEIAyldcO",
   "metadata": {
    "id": "I10dEIAyldcO"
   },
   "source": [
    "Escribe aquí tus conclusiones\n",
    "\n",
    "Los productos mas pedidos y reordenados normalmente son los productos mas populares, las veces pedidas no pueden ser menor a las veces reordenadas por que necesitas hacer la primera orden para hacer una reorden."
   ]
  },
  {
   "cell_type": "markdown",
   "id": "subject-boxing",
   "metadata": {
    "id": "subject-boxing"
   },
   "source": [
    "### [C4] Para cada cliente, ¿qué proporción de sus productos ya los había pedido?"
   ]
  },
  {
   "cell_type": "code",
   "execution_count": 62,
   "id": "medical-couple",
   "metadata": {
    "id": "medical-couple",
    "scrolled": true
   },
   "outputs": [],
   "source": [
    "# Unir pedidos y usuarios\n",
    "df_orden_usuario = df_orden_productos.merge(df_ordenes[['order_id', 'user_id']], on='order_id')\n",
    "\n",
    "# Agrupar por cliente y calcular stats\n",
    "cliente_reordenes = df_orden_usuario.groupby('user_id')['reordered'].agg(\n",
    "    total_productos='count',\n",
    "    productos_reordenados='sum'\n",
    ").reset_index()"
   ]
  },
  {
   "cell_type": "code",
   "execution_count": 63,
   "id": "8892e4b4",
   "metadata": {
    "id": "8892e4b4"
   },
   "outputs": [
    {
     "name": "stdout",
     "output_type": "stream",
     "text": [
      "   user_id  total_productos  productos_reordenados  proporcion_reorden\n",
      "0        2               26                      1            0.038462\n",
      "1        4                2                      0            0.000000\n",
      "2        5               12                      8            0.666667\n",
      "3        6                4                      0            0.000000\n",
      "4        7               14                     13            0.928571\n",
      "5       11               15                      3            0.200000\n",
      "6       12               12                      3            0.250000\n",
      "7       13               23                     13            0.565217\n",
      "8       14               61                     22            0.360656\n",
      "9       15               13                      7            0.538462\n"
     ]
    }
   ],
   "source": [
    "# Calcular proporción\n",
    "cliente_reordenes['proporcion_reorden'] = cliente_reordenes['productos_reordenados'] / cliente_reordenes['total_productos']\n",
    "# Mostrar los primeros registros\n",
    "print(cliente_reordenes.head(10))"
   ]
  },
  {
   "cell_type": "markdown",
   "id": "BgJSvXDsleXz",
   "metadata": {
    "id": "BgJSvXDsleXz"
   },
   "source": [
    "Escribe aquí tus conclusiones\n",
    "\n",
    "No hay una corelacion entre los productos ordenados a las reordenes, pero si hay gente que reordena mas que los demas, por lo que la proporcion de reorden pueden estar mas cerca del 1 que los demas."
   ]
  },
  {
   "cell_type": "markdown",
   "id": "92d35137",
   "metadata": {
    "id": "92d35137"
   },
   "source": [
    "### [C5] ¿Cuáles son los 20 principales artículos que las personas ponen primero en sus carritos?"
   ]
  },
  {
   "cell_type": "code",
   "execution_count": 64,
   "id": "0ae57274",
   "metadata": {
    "id": "0ae57274",
    "scrolled": true
   },
   "outputs": [],
   "source": [
    "# Filtrar solo los productos que fueron añadidos como el primero en el carrito\n",
    "primeros_productos = df_orden_productos[df_orden_productos['add_to_cart_order'] == 1]"
   ]
  },
  {
   "cell_type": "code",
   "execution_count": 65,
   "id": "forty-netherlands",
   "metadata": {
    "id": "forty-netherlands",
    "scrolled": true
   },
   "outputs": [],
   "source": [
    "# Contar cuántas veces cada producto fue el primero en el carrito\n",
    "conteo_primeros = primeros_productos['product_id'].value_counts().head(20)"
   ]
  },
  {
   "cell_type": "code",
   "execution_count": 66,
   "id": "08e41ec2",
   "metadata": {
    "id": "08e41ec2"
   },
   "outputs": [
    {
     "name": "stdout",
     "output_type": "stream",
     "text": [
      "    product_id  veces_primero                 product_name\n",
      "0        24852          15562                       Banana\n",
      "1        13176          11026       Bag of Organic Bananas\n",
      "2        27845           4363           Organic Whole Milk\n",
      "3        21137           3946         Organic Strawberries\n",
      "4        47209           3390         Organic Hass Avocado\n",
      "5        21903           3336         Organic Baby Spinach\n",
      "6        47766           3044              Organic Avocado\n",
      "7        19660           2336                 Spring Water\n",
      "8        16797           2308                 Strawberries\n",
      "9        27966           2024          Organic Raspberries\n",
      "10       44632           1914   Sparkling Water Grapefruit\n",
      "11       49235           1797          Organic Half & Half\n",
      "12       47626           1737                  Large Lemon\n",
      "13         196           1733                         Soda\n",
      "14       38689           1397     Organic Reduced Fat Milk\n",
      "15       26209           1370                        Limes\n",
      "16       12341           1340                Hass Avocados\n",
      "17        5785           1310  Organic Reduced Fat 2% Milk\n",
      "18       27086           1309                  Half & Half\n",
      "19       22935           1246         Organic Yellow Onion\n"
     ]
    }
   ],
   "source": [
    "# Juntarlo con el nombre del producto\n",
    "top_primeros = conteo_primeros.reset_index()\n",
    "top_primeros.columns = ['product_id', 'veces_primero']\n",
    "top_primeros = top_primeros.merge(df_productos[['product_id', 'product_name']], on='product_id')\n",
    "\n",
    "# Mostrar resultados\n",
    "print(top_primeros)"
   ]
  },
  {
   "cell_type": "markdown",
   "id": "28ce9872",
   "metadata": {
    "id": "28ce9872"
   },
   "source": [
    "Escribe aquí tus conclusiones\n",
    "\n",
    "Primero, los planatos parecen ser particularmente populares, per MUY populares, al parecer la gente le gusta.\n",
    "Segundo, platanos, leche y frutas suelen ser los primeros productos que son añadidos al carro de las ordenes que cualquier otro consumible."
   ]
  },
  {
   "cell_type": "markdown",
   "id": "uITbFCEoDosC",
   "metadata": {
    "id": "uITbFCEoDosC"
   },
   "source": [
    "### Conclusion general del proyecto:"
   ]
  },
  {
   "cell_type": "code",
   "execution_count": 67,
   "id": "Nk-4GS7mDwqY",
   "metadata": {
    "id": "Nk-4GS7mDwqY"
   },
   "outputs": [
    {
     "name": "stdout",
     "output_type": "stream",
     "text": [
      "En este proyecto, aprendi como a usar la metodologia del procesado y visualizacion de datos, empezando con analizar la informacion sin proceso, luego limpiar los datos ausentes y duplicados, y despues de eso, la informacion y los datos estan listos para ser usados de forma comoda, y con precision.\n"
     ]
    }
   ],
   "source": [
    "mensaje = 'En este proyecto, aprendi como a usar la metodologia del procesado y visualizacion de datos, empezando con analizar la informacion sin proceso, luego limpiar los datos ausentes y duplicados, y despues de eso, la informacion y los datos estan listos para ser usados de forma comoda, y con precision.'\n",
    "print(mensaje)"
   ]
  }
 ],
 "metadata": {
  "ExecuteTimeLog": [
   {
    "duration": 164,
    "start_time": "2025-04-23T00:47:05.802Z"
   },
   {
    "duration": 296,
    "start_time": "2025-04-23T00:47:11.772Z"
   },
   {
    "duration": 3859,
    "start_time": "2025-04-23T00:47:13.653Z"
   },
   {
    "duration": 26,
    "start_time": "2025-04-23T00:47:17.515Z"
   },
   {
    "duration": 9,
    "start_time": "2025-04-23T00:47:38.830Z"
   },
   {
    "duration": 921,
    "start_time": "2025-04-23T00:49:57.701Z"
   },
   {
    "duration": 11,
    "start_time": "2025-04-23T00:49:58.625Z"
   },
   {
    "duration": 10,
    "start_time": "2025-04-23T00:49:59.702Z"
   },
   {
    "duration": 8,
    "start_time": "2025-04-23T00:50:36.152Z"
   },
   {
    "duration": 9,
    "start_time": "2025-04-23T00:50:36.985Z"
   },
   {
    "duration": 9,
    "start_time": "2025-04-23T00:50:37.830Z"
   },
   {
    "duration": 34,
    "start_time": "2025-04-23T01:28:41.776Z"
   },
   {
    "duration": 80,
    "start_time": "2025-04-23T01:28:59.708Z"
   },
   {
    "duration": 77,
    "start_time": "2025-04-23T01:29:27.159Z"
   },
   {
    "duration": 151,
    "start_time": "2025-04-23T01:30:05.468Z"
   },
   {
    "duration": 86,
    "start_time": "2025-04-23T01:33:17.550Z"
   },
   {
    "duration": 18,
    "start_time": "2025-04-23T01:36:00.673Z"
   },
   {
    "duration": 100,
    "start_time": "2025-04-23T01:41:56.041Z"
   },
   {
    "duration": 77,
    "start_time": "2025-04-23T01:42:05.721Z"
   },
   {
    "duration": 27,
    "start_time": "2025-04-23T01:44:11.794Z"
   },
   {
    "duration": 14,
    "start_time": "2025-04-23T01:45:26.137Z"
   },
   {
    "duration": 3,
    "start_time": "2025-04-23T01:45:59.809Z"
   },
   {
    "duration": 25,
    "start_time": "2025-04-23T01:47:12.526Z"
   },
   {
    "duration": 498,
    "start_time": "2025-04-23T01:47:18.850Z"
   },
   {
    "duration": 18,
    "start_time": "2025-04-23T01:47:33.679Z"
   },
   {
    "duration": 13,
    "start_time": "2025-04-23T01:48:51.845Z"
   },
   {
    "duration": 13,
    "start_time": "2025-04-23T01:49:24.046Z"
   },
   {
    "duration": 14,
    "start_time": "2025-04-23T01:51:11.199Z"
   },
   {
    "duration": 4,
    "start_time": "2025-04-23T01:51:23.393Z"
   },
   {
    "duration": 4,
    "start_time": "2025-04-23T01:52:33.171Z"
   },
   {
    "duration": 3,
    "start_time": "2025-04-23T01:53:12.160Z"
   },
   {
    "duration": 385,
    "start_time": "2025-04-23T01:53:30.293Z"
   },
   {
    "duration": 4,
    "start_time": "2025-04-23T01:53:51.100Z"
   },
   {
    "duration": 849,
    "start_time": "2025-04-23T01:54:47.960Z"
   },
   {
    "duration": 183,
    "start_time": "2025-04-23T02:02:08.468Z"
   },
   {
    "duration": 128,
    "start_time": "2025-04-23T02:02:37.731Z"
   },
   {
    "duration": 160,
    "start_time": "2025-04-23T02:03:12.674Z"
   },
   {
    "duration": 13,
    "start_time": "2025-04-23T02:05:35.081Z"
   },
   {
    "duration": 71,
    "start_time": "2025-04-23T02:06:01.683Z"
   },
   {
    "duration": 91,
    "start_time": "2025-04-23T02:06:25.373Z"
   },
   {
    "duration": 224,
    "start_time": "2025-04-23T02:35:18.117Z"
   },
   {
    "duration": 205,
    "start_time": "2025-04-23T02:35:48.734Z"
   },
   {
    "duration": 214,
    "start_time": "2025-04-23T02:35:56.274Z"
   },
   {
    "duration": 185,
    "start_time": "2025-04-23T02:36:02.354Z"
   },
   {
    "duration": 150,
    "start_time": "2025-04-23T02:36:43.010Z"
   },
   {
    "duration": 4,
    "start_time": "2025-04-23T02:36:51.762Z"
   },
   {
    "duration": 5,
    "start_time": "2025-04-23T02:37:31.759Z"
   },
   {
    "duration": 5,
    "start_time": "2025-04-23T02:41:57.011Z"
   },
   {
    "duration": 4,
    "start_time": "2025-04-23T02:42:02.456Z"
   },
   {
    "duration": 4,
    "start_time": "2025-04-23T02:42:10.537Z"
   },
   {
    "duration": 5,
    "start_time": "2025-04-23T02:42:53.927Z"
   },
   {
    "duration": 5,
    "start_time": "2025-04-23T02:43:01.937Z"
   },
   {
    "duration": 5,
    "start_time": "2025-04-23T02:44:13.521Z"
   },
   {
    "duration": 8,
    "start_time": "2025-04-23T02:44:43.595Z"
   },
   {
    "duration": 10,
    "start_time": "2025-04-23T02:45:45.654Z"
   },
   {
    "duration": 8,
    "start_time": "2025-04-23T02:47:11.489Z"
   },
   {
    "duration": 15,
    "start_time": "2025-04-23T02:47:49.862Z"
   },
   {
    "duration": 4,
    "start_time": "2025-04-23T02:48:07.171Z"
   },
   {
    "duration": 3,
    "start_time": "2025-04-23T02:54:30.122Z"
   },
   {
    "duration": 6,
    "start_time": "2025-04-23T02:56:39.034Z"
   },
   {
    "duration": 5,
    "start_time": "2025-04-23T02:58:35.665Z"
   },
   {
    "duration": 9,
    "start_time": "2025-04-23T02:58:52.302Z"
   },
   {
    "duration": 11,
    "start_time": "2025-04-23T03:00:33.400Z"
   },
   {
    "duration": 5,
    "start_time": "2025-04-23T03:07:05.781Z"
   },
   {
    "duration": 824,
    "start_time": "2025-04-23T03:07:36.190Z"
   },
   {
    "duration": 316,
    "start_time": "2025-04-23T03:08:06.029Z"
   },
   {
    "duration": 856,
    "start_time": "2025-04-23T03:08:06.682Z"
   },
   {
    "duration": 11,
    "start_time": "2025-04-23T03:08:08.264Z"
   },
   {
    "duration": 9,
    "start_time": "2025-04-23T03:08:08.370Z"
   },
   {
    "duration": 11,
    "start_time": "2025-04-23T03:08:08.470Z"
   },
   {
    "duration": 8,
    "start_time": "2025-04-23T03:08:08.576Z"
   },
   {
    "duration": 8,
    "start_time": "2025-04-23T03:08:09.436Z"
   },
   {
    "duration": 93,
    "start_time": "2025-04-23T03:08:12.089Z"
   },
   {
    "duration": 10,
    "start_time": "2025-04-23T03:08:13.306Z"
   },
   {
    "duration": 110,
    "start_time": "2025-04-23T03:08:14.821Z"
   },
   {
    "duration": 84,
    "start_time": "2025-04-23T03:08:15.433Z"
   },
   {
    "duration": 30,
    "start_time": "2025-04-23T03:08:16.192Z"
   },
   {
    "duration": 13,
    "start_time": "2025-04-23T03:08:20.863Z"
   },
   {
    "duration": 3,
    "start_time": "2025-04-23T03:08:21.751Z"
   },
   {
    "duration": 19,
    "start_time": "2025-04-23T03:08:24.266Z"
   },
   {
    "duration": 11,
    "start_time": "2025-04-23T03:08:24.854Z"
   },
   {
    "duration": 4,
    "start_time": "2025-04-23T03:08:26.536Z"
   },
   {
    "duration": 3,
    "start_time": "2025-04-23T03:08:28.680Z"
   },
   {
    "duration": 3,
    "start_time": "2025-04-23T03:08:30.178Z"
   },
   {
    "duration": 3,
    "start_time": "2025-04-23T03:08:33.196Z"
   },
   {
    "duration": 740,
    "start_time": "2025-04-23T03:08:34.806Z"
   },
   {
    "duration": 4,
    "start_time": "2025-04-23T03:08:36.338Z"
   },
   {
    "duration": 8,
    "start_time": "2025-04-23T03:09:06.078Z"
   },
   {
    "duration": 5,
    "start_time": "2025-04-23T03:09:07.520Z"
   },
   {
    "duration": 4,
    "start_time": "2025-04-23T03:09:08.452Z"
   },
   {
    "duration": 6,
    "start_time": "2025-04-23T03:09:12.920Z"
   },
   {
    "duration": 9,
    "start_time": "2025-04-23T03:09:14.481Z"
   },
   {
    "duration": 6,
    "start_time": "2025-04-23T03:09:20.090Z"
   },
   {
    "duration": 8,
    "start_time": "2025-04-23T03:09:43.016Z"
   },
   {
    "duration": 7,
    "start_time": "2025-04-23T03:10:07.942Z"
   },
   {
    "duration": 12,
    "start_time": "2025-04-23T03:10:24.008Z"
   },
   {
    "duration": 178,
    "start_time": "2025-04-23T03:10:45.503Z"
   },
   {
    "duration": 13,
    "start_time": "2025-04-23T03:11:32.564Z"
   },
   {
    "duration": 7,
    "start_time": "2025-04-23T03:11:45.019Z"
   },
   {
    "duration": 13,
    "start_time": "2025-04-23T03:14:44.338Z"
   },
   {
    "duration": 5,
    "start_time": "2025-04-23T03:14:57.421Z"
   },
   {
    "duration": 9,
    "start_time": "2025-04-23T03:18:18.067Z"
   },
   {
    "duration": 15,
    "start_time": "2025-04-23T03:18:23.733Z"
   },
   {
    "duration": 34,
    "start_time": "2025-04-23T03:34:18.695Z"
   },
   {
    "duration": 19,
    "start_time": "2025-04-23T03:37:33.745Z"
   },
   {
    "duration": 9,
    "start_time": "2025-04-23T03:39:59.905Z"
   },
   {
    "duration": 32,
    "start_time": "2025-04-23T03:45:11.619Z"
   },
   {
    "duration": 26,
    "start_time": "2025-04-23T03:45:41.219Z"
   },
   {
    "duration": 28,
    "start_time": "2025-04-23T03:45:56.555Z"
   },
   {
    "duration": 24,
    "start_time": "2025-04-23T03:47:10.219Z"
   },
   {
    "duration": 164,
    "start_time": "2025-04-23T18:52:18.608Z"
   },
   {
    "duration": 12,
    "start_time": "2025-04-23T18:52:33.935Z"
   },
   {
    "duration": 13,
    "start_time": "2025-04-23T18:52:51.935Z"
   },
   {
    "duration": 296,
    "start_time": "2025-04-23T18:53:24.120Z"
   },
   {
    "duration": 1217,
    "start_time": "2025-04-23T18:53:26.109Z"
   },
   {
    "duration": 13,
    "start_time": "2025-04-23T18:53:27.329Z"
   },
   {
    "duration": 9,
    "start_time": "2025-04-23T18:53:27.344Z"
   },
   {
    "duration": 8,
    "start_time": "2025-04-23T18:53:27.355Z"
   },
   {
    "duration": 8,
    "start_time": "2025-04-23T18:53:27.365Z"
   },
   {
    "duration": 7,
    "start_time": "2025-04-23T18:53:27.374Z"
   },
   {
    "duration": 124,
    "start_time": "2025-04-23T18:53:27.382Z"
   },
   {
    "duration": 9,
    "start_time": "2025-04-23T18:53:28.024Z"
   },
   {
    "duration": 103,
    "start_time": "2025-04-23T18:53:28.240Z"
   },
   {
    "duration": 93,
    "start_time": "2025-04-23T18:53:28.345Z"
   },
   {
    "duration": 29,
    "start_time": "2025-04-23T18:53:28.441Z"
   },
   {
    "duration": 14,
    "start_time": "2025-04-23T18:53:29.200Z"
   },
   {
    "duration": 4,
    "start_time": "2025-04-23T18:53:29.972Z"
   },
   {
    "duration": 20,
    "start_time": "2025-04-23T18:53:30.176Z"
   },
   {
    "duration": 12,
    "start_time": "2025-04-23T18:53:30.347Z"
   },
   {
    "duration": 3,
    "start_time": "2025-04-23T18:53:31.039Z"
   },
   {
    "duration": 3,
    "start_time": "2025-04-23T18:53:31.308Z"
   },
   {
    "duration": 3,
    "start_time": "2025-04-23T18:53:31.888Z"
   },
   {
    "duration": 4,
    "start_time": "2025-04-23T18:53:32.094Z"
   },
   {
    "duration": 768,
    "start_time": "2025-04-23T18:53:32.696Z"
   },
   {
    "duration": 6,
    "start_time": "2025-04-23T18:53:33.466Z"
   },
   {
    "duration": 9,
    "start_time": "2025-04-23T18:53:35.910Z"
   },
   {
    "duration": 4,
    "start_time": "2025-04-23T18:53:36.117Z"
   },
   {
    "duration": 4,
    "start_time": "2025-04-23T18:53:36.356Z"
   },
   {
    "duration": 7,
    "start_time": "2025-04-23T18:53:37.093Z"
   },
   {
    "duration": 10,
    "start_time": "2025-04-23T18:53:37.293Z"
   },
   {
    "duration": 6,
    "start_time": "2025-04-23T18:53:37.605Z"
   },
   {
    "duration": 5,
    "start_time": "2025-04-23T18:53:37.709Z"
   },
   {
    "duration": 16,
    "start_time": "2025-04-23T18:53:38.485Z"
   },
   {
    "duration": 29,
    "start_time": "2025-04-23T18:53:38.590Z"
   },
   {
    "duration": 12,
    "start_time": "2025-04-23T18:53:38.796Z"
   },
   {
    "duration": 9,
    "start_time": "2025-04-23T18:53:39.708Z"
   },
   {
    "duration": 31,
    "start_time": "2025-04-23T18:53:40.616Z"
   },
   {
    "duration": 4,
    "start_time": "2025-04-23T18:53:45.108Z"
   },
   {
    "duration": 181,
    "start_time": "2025-04-23T18:53:47.139Z"
   },
   {
    "duration": 4,
    "start_time": "2025-04-23T18:55:04.018Z"
   },
   {
    "duration": 2133,
    "start_time": "2025-04-23T18:59:53.217Z"
   },
   {
    "duration": 2,
    "start_time": "2025-04-23T19:00:31.478Z"
   },
   {
    "duration": 149,
    "start_time": "2025-04-23T19:00:40.255Z"
   },
   {
    "duration": 115,
    "start_time": "2025-04-23T19:04:32.658Z"
   },
   {
    "duration": 119,
    "start_time": "2025-04-23T19:06:35.945Z"
   },
   {
    "duration": 114,
    "start_time": "2025-04-23T19:06:43.621Z"
   },
   {
    "duration": 342,
    "start_time": "2025-04-23T19:07:53.065Z"
   },
   {
    "duration": 340,
    "start_time": "2025-04-23T19:31:02.361Z"
   },
   {
    "duration": 304,
    "start_time": "2025-04-23T19:53:31.340Z"
   },
   {
    "duration": 328,
    "start_time": "2025-04-23T19:53:45.852Z"
   },
   {
    "duration": 375,
    "start_time": "2025-04-23T20:02:31.271Z"
   },
   {
    "duration": 374,
    "start_time": "2025-04-23T20:03:44.190Z"
   },
   {
    "duration": 331,
    "start_time": "2025-04-23T20:03:55.625Z"
   },
   {
    "duration": 15,
    "start_time": "2025-04-23T20:07:01.021Z"
   },
   {
    "duration": 9,
    "start_time": "2025-04-23T20:07:03.159Z"
   },
   {
    "duration": 6,
    "start_time": "2025-04-23T20:07:16.082Z"
   },
   {
    "duration": 258,
    "start_time": "2025-04-23T20:08:14.620Z"
   },
   {
    "duration": 259,
    "start_time": "2025-04-23T20:09:02.439Z"
   },
   {
    "duration": 245,
    "start_time": "2025-04-23T20:11:59.347Z"
   },
   {
    "duration": 5,
    "start_time": "2025-04-23T20:12:09.936Z"
   },
   {
    "duration": 10,
    "start_time": "2025-04-23T20:13:10.373Z"
   },
   {
    "duration": 6,
    "start_time": "2025-04-23T20:13:10.948Z"
   },
   {
    "duration": 3,
    "start_time": "2025-04-23T20:13:12.093Z"
   },
   {
    "duration": 319,
    "start_time": "2025-04-23T20:13:13.296Z"
   },
   {
    "duration": 38,
    "start_time": "2025-04-23T20:14:46.077Z"
   },
   {
    "duration": 216,
    "start_time": "2025-04-23T20:14:55.644Z"
   },
   {
    "duration": 218,
    "start_time": "2025-04-23T20:18:48.190Z"
   },
   {
    "duration": 267,
    "start_time": "2025-04-23T20:19:01.492Z"
   },
   {
    "duration": 103,
    "start_time": "2025-04-23T20:22:58.374Z"
   },
   {
    "duration": 17,
    "start_time": "2025-04-23T20:23:06.038Z"
   },
   {
    "duration": 5,
    "start_time": "2025-04-23T20:23:15.057Z"
   },
   {
    "duration": 295,
    "start_time": "2025-04-23T20:32:36.493Z"
   },
   {
    "duration": 13,
    "start_time": "2025-04-23T20:32:37.885Z"
   },
   {
    "duration": 191,
    "start_time": "2025-04-23T20:33:07.297Z"
   },
   {
    "duration": 181,
    "start_time": "2025-04-23T20:34:02.899Z"
   },
   {
    "duration": 134,
    "start_time": "2025-04-23T20:37:34.209Z"
   },
   {
    "duration": 48,
    "start_time": "2025-04-23T20:37:44.266Z"
   },
   {
    "duration": 15,
    "start_time": "2025-04-23T20:37:52.136Z"
   },
   {
    "duration": 6,
    "start_time": "2025-04-23T20:38:01.993Z"
   },
   {
    "duration": 832,
    "start_time": "2025-04-23T21:35:06.891Z"
   },
   {
    "duration": 6,
    "start_time": "2025-04-23T21:35:16.683Z"
   },
   {
    "duration": 809,
    "start_time": "2025-04-23T21:35:38.862Z"
   },
   {
    "duration": 16,
    "start_time": "2025-04-23T21:35:50.703Z"
   },
   {
    "duration": 10,
    "start_time": "2025-04-23T21:36:02.292Z"
   },
   {
    "duration": 148,
    "start_time": "2025-04-23T21:40:28.970Z"
   },
   {
    "duration": 15,
    "start_time": "2025-04-23T21:40:29.448Z"
   },
   {
    "duration": 23,
    "start_time": "2025-04-23T21:40:41.413Z"
   },
   {
    "duration": 1043,
    "start_time": "2025-04-23T21:57:05.996Z"
   },
   {
    "duration": 7,
    "start_time": "2025-04-23T21:57:16.740Z"
   },
   {
    "duration": 1097,
    "start_time": "2025-04-23T21:57:23.116Z"
   },
   {
    "duration": 3,
    "start_time": "2025-04-23T21:57:24.216Z"
   },
   {
    "duration": 20,
    "start_time": "2025-04-23T21:57:46.439Z"
   },
   {
    "duration": 67,
    "start_time": "2025-04-23T22:02:55.224Z"
   },
   {
    "duration": 8,
    "start_time": "2025-04-23T22:02:56.289Z"
   },
   {
    "duration": 8,
    "start_time": "2025-04-23T22:03:00.801Z"
   },
   {
    "duration": 22,
    "start_time": "2025-04-23T22:03:12.760Z"
   },
   {
    "duration": 22,
    "start_time": "2025-04-23T22:07:47.036Z"
   },
   {
    "duration": 167,
    "start_time": "2025-04-24T19:37:27.981Z"
   },
   {
    "duration": 11,
    "start_time": "2025-04-24T19:37:31.790Z"
   },
   {
    "duration": 2178,
    "start_time": "2025-04-24T19:37:36.865Z"
   },
   {
    "duration": 985,
    "start_time": "2025-04-24T19:37:39.045Z"
   },
   {
    "duration": 12,
    "start_time": "2025-04-24T19:37:40.032Z"
   },
   {
    "duration": 9,
    "start_time": "2025-04-24T19:37:40.046Z"
   },
   {
    "duration": 8,
    "start_time": "2025-04-24T19:37:40.056Z"
   },
   {
    "duration": 9,
    "start_time": "2025-04-24T19:37:40.066Z"
   },
   {
    "duration": 6,
    "start_time": "2025-04-24T19:37:40.076Z"
   },
   {
    "duration": 101,
    "start_time": "2025-04-24T19:37:40.111Z"
   },
   {
    "duration": 9,
    "start_time": "2025-04-24T19:37:40.214Z"
   },
   {
    "duration": 117,
    "start_time": "2025-04-24T19:37:40.227Z"
   },
   {
    "duration": 93,
    "start_time": "2025-04-24T19:37:40.346Z"
   },
   {
    "duration": 26,
    "start_time": "2025-04-24T19:37:40.441Z"
   },
   {
    "duration": 12,
    "start_time": "2025-04-24T19:37:40.469Z"
   },
   {
    "duration": 3,
    "start_time": "2025-04-24T19:37:40.482Z"
   },
   {
    "duration": 39,
    "start_time": "2025-04-24T19:37:40.487Z"
   },
   {
    "duration": 11,
    "start_time": "2025-04-24T19:37:40.527Z"
   },
   {
    "duration": 4,
    "start_time": "2025-04-24T19:37:40.540Z"
   },
   {
    "duration": 3,
    "start_time": "2025-04-24T19:37:40.545Z"
   },
   {
    "duration": 4,
    "start_time": "2025-04-24T19:37:40.551Z"
   },
   {
    "duration": 3,
    "start_time": "2025-04-24T19:37:40.556Z"
   },
   {
    "duration": 806,
    "start_time": "2025-04-24T19:37:40.561Z"
   },
   {
    "duration": 5,
    "start_time": "2025-04-24T19:37:41.369Z"
   },
   {
    "duration": 8,
    "start_time": "2025-04-24T19:37:41.376Z"
   },
   {
    "duration": 3,
    "start_time": "2025-04-24T19:37:41.385Z"
   },
   {
    "duration": 3,
    "start_time": "2025-04-24T19:37:41.412Z"
   },
   {
    "duration": 6,
    "start_time": "2025-04-24T19:37:41.417Z"
   },
   {
    "duration": 8,
    "start_time": "2025-04-24T19:37:41.425Z"
   },
   {
    "duration": 6,
    "start_time": "2025-04-24T19:37:41.438Z"
   },
   {
    "duration": 5,
    "start_time": "2025-04-24T19:37:41.445Z"
   },
   {
    "duration": 15,
    "start_time": "2025-04-24T19:37:41.451Z"
   },
   {
    "duration": 70,
    "start_time": "2025-04-24T19:37:41.468Z"
   },
   {
    "duration": 13,
    "start_time": "2025-04-24T19:37:41.548Z"
   },
   {
    "duration": 8,
    "start_time": "2025-04-24T19:37:41.563Z"
   },
   {
    "duration": 42,
    "start_time": "2025-04-24T19:37:41.572Z"
   },
   {
    "duration": 4,
    "start_time": "2025-04-24T19:37:41.616Z"
   },
   {
    "duration": 4,
    "start_time": "2025-04-24T19:37:41.622Z"
   },
   {
    "duration": 368,
    "start_time": "2025-04-24T19:37:41.628Z"
   },
   {
    "duration": 151,
    "start_time": "2025-04-24T19:37:41.998Z"
   },
   {
    "duration": 371,
    "start_time": "2025-04-24T19:37:42.151Z"
   },
   {
    "duration": 8,
    "start_time": "2025-04-24T19:37:42.524Z"
   },
   {
    "duration": 6,
    "start_time": "2025-04-24T19:37:42.534Z"
   },
   {
    "duration": 3,
    "start_time": "2025-04-24T19:37:42.542Z"
   },
   {
    "duration": 266,
    "start_time": "2025-04-24T19:37:42.546Z"
   },
   {
    "duration": 36,
    "start_time": "2025-04-24T19:37:42.814Z"
   },
   {
    "duration": 194,
    "start_time": "2025-04-24T19:37:42.851Z"
   },
   {
    "duration": 91,
    "start_time": "2025-04-24T19:37:43.047Z"
   },
   {
    "duration": 10,
    "start_time": "2025-04-24T19:37:43.140Z"
   },
   {
    "duration": 4,
    "start_time": "2025-04-24T19:37:43.152Z"
   },
   {
    "duration": 265,
    "start_time": "2025-04-24T19:37:43.158Z"
   },
   {
    "duration": 13,
    "start_time": "2025-04-24T19:37:43.424Z"
   },
   {
    "duration": 175,
    "start_time": "2025-04-24T19:37:43.439Z"
   },
   {
    "duration": 115,
    "start_time": "2025-04-24T19:37:43.616Z"
   },
   {
    "duration": 44,
    "start_time": "2025-04-24T19:37:43.733Z"
   },
   {
    "duration": 11,
    "start_time": "2025-04-24T19:37:43.778Z"
   },
   {
    "duration": 22,
    "start_time": "2025-04-24T19:37:43.790Z"
   },
   {
    "duration": 128,
    "start_time": "2025-04-24T19:37:43.813Z"
   },
   {
    "duration": 12,
    "start_time": "2025-04-24T19:37:43.942Z"
   },
   {
    "duration": 10,
    "start_time": "2025-04-24T19:37:43.956Z"
   },
   {
    "duration": 834,
    "start_time": "2025-04-24T19:37:43.968Z"
   },
   {
    "duration": 10,
    "start_time": "2025-04-24T19:37:44.804Z"
   },
   {
    "duration": 23,
    "start_time": "2025-04-24T19:37:44.817Z"
   },
   {
    "duration": 8,
    "start_time": "2025-04-24T19:37:44.841Z"
   },
   {
    "duration": 11,
    "start_time": "2025-04-24T19:37:44.850Z"
   },
   {
    "duration": 2,
    "start_time": "2025-04-24T19:37:44.864Z"
   },
   {
    "duration": 11,
    "start_time": "2025-04-24T19:46:41.100Z"
   },
   {
    "duration": 6,
    "start_time": "2025-04-24T19:47:00.109Z"
   },
   {
    "duration": 126,
    "start_time": "2025-04-24T19:48:41.007Z"
   },
   {
    "duration": 3,
    "start_time": "2025-04-24T19:48:41.469Z"
   },
   {
    "duration": 20,
    "start_time": "2025-04-24T19:48:41.944Z"
   },
   {
    "duration": 119,
    "start_time": "2025-04-24T19:50:11.545Z"
   },
   {
    "duration": 12,
    "start_time": "2025-04-24T19:50:11.960Z"
   },
   {
    "duration": 13,
    "start_time": "2025-04-24T19:50:12.344Z"
   },
   {
    "duration": 122,
    "start_time": "2025-04-24T19:51:21.322Z"
   },
   {
    "duration": 16,
    "start_time": "2025-04-24T19:51:21.939Z"
   },
   {
    "duration": 5,
    "start_time": "2025-04-24T19:51:22.589Z"
   },
   {
    "duration": 121,
    "start_time": "2025-04-24T19:51:36.268Z"
   },
   {
    "duration": 11,
    "start_time": "2025-04-24T19:51:36.576Z"
   },
   {
    "duration": 12,
    "start_time": "2025-04-24T19:51:36.885Z"
   },
   {
    "duration": 370,
    "start_time": "2025-04-24T23:30:27.043Z"
   }
  ],
  "colab": {
   "provenance": []
  },
  "kernelspec": {
   "display_name": "Python 3",
   "language": "python",
   "name": "python3"
  },
  "language_info": {
   "codemirror_mode": {
    "name": "ipython",
    "version": 3
   },
   "file_extension": ".py",
   "mimetype": "text/x-python",
   "name": "python",
   "nbconvert_exporter": "python",
   "pygments_lexer": "ipython3",
   "version": "3.13.3"
  },
  "toc": {
   "base_numbering": 1,
   "nav_menu": {},
   "number_sections": true,
   "sideBar": true,
   "skip_h1_title": true,
   "title_cell": "Table of Contents",
   "title_sidebar": "Contents",
   "toc_cell": false,
   "toc_position": {},
   "toc_section_display": true,
   "toc_window_display": false
  }
 },
 "nbformat": 4,
 "nbformat_minor": 5
}
