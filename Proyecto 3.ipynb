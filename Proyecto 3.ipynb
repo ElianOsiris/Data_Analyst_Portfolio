{
 "cells": [
  {
   "cell_type": "markdown",
   "metadata": {
    "id": "E0vqbgi9ay0H"
   },
   "source": [
    "# Déjame escuchar música"
   ]
  },
  {
   "cell_type": "markdown",
   "metadata": {
    "id": "fhq_eyov_Zcs"
   },
   "source": [
    "# Contenido <a id='back'></a>\n",
    "\n",
    "* [Introducción](#intro)\n",
    "* [Etapa 1. Descripción de los datos](#data_review)\n",
    "    * [Conclusiones](#data_review_conclusions)\n",
    "* [Etapa 2. Preprocesamiento de datos](#data_preprocessing)\n",
    "    * [2.1 Estilo del encabezado](#header_style)\n",
    "    * [2.2 Valores ausentes](#missing_values)\n",
    "    * [2.3 Duplicados](#duplicates)\n",
    "    * [2.4 Conclusiones](#data_preprocessing_conclusions)\n",
    "* [Etapa 3. Prueba de hipótesis](#hypothesis)\n",
    "    * [3.1 Hipótesis 1: actividad de los usuarios y las usuarias en las dos ciudades](#activity)\n",
    "* [Conclusiones](#end)"
   ]
  },
  {
   "cell_type": "markdown",
   "metadata": {
    "id": "VUC88oWjTJw2"
   },
   "source": [
    "## Introducción <a id='intro'></a>\n",
    "Como analista de datos, tu trabajo consiste en analizar datos para extraer información valiosa de ellos y tomar decisiones en consecuencia. Esto implica pasar por diferentes etapas, como la descripción general de los datos, el preprocesamiento y la prueba de hipótesis.\n",
    "\n",
    "Siempre que investiguemos, necesitamos formular hipótesis que después podamos probar. A veces, aceptaremos estas hipótesis; otras veces, las rechazaremos. Para tomar las decisiones adecuadas, una empresa debe ser capaz de entender si está haciendo las suposiciones correctas.\n",
    "\n",
    "En este proyecto, compararás las preferencias musicales de las ciudades de Springfield y Shelbyville. Estudiarás datos reales de música online para probar la hipótesis que planteamos a continuación y compararás el comportamiento de los usuarios de estas dos ciudades.\n",
    "\n",
    "### Objetivo:\n",
    "Probar la hipótesis:\n",
    "1. La actividad de los usuarios difiere según el día de la semana y dependiendo de la ciudad.\n",
    "\n",
    "\n",
    "### Etapas\n",
    "Los datos del comportamiento de los usuarios se almacenan en el archivo `/datasets/music_project_en.csv`. No hay información sobre la calidad de los datos, así que necesitarás examinarlos antes de probar la hipótesis.\n",
    "\n",
    "Primero, debes evaluar la calidad de los datos y ver si los problemas son significativos. Más tarde, durante el preprocesamiento de datos, deberás abordar los problemas más críticos.\n",
    "\n",
    "Tu proyecto contará con estas tres etapas:\n",
    " 1. Descripción de los datos.\n",
    " 2. Preprocesamiento de los datos.\n",
    " 3. Prueba de la hipótesis.\n",
    "\n",
    "\n",
    "\n",
    "\n",
    "\n",
    "\n"
   ]
  },
  {
   "cell_type": "markdown",
   "metadata": {
    "id": "hDt6pg-Rw-1U"
   },
   "source": [
    "[Volver a Contenidos](#back)"
   ]
  },
  {
   "cell_type": "markdown",
   "metadata": {
    "id": "Ml1hmfXC_Zcs"
   },
   "source": [
    "## Etapa 1. Descripción de los datos <a id='data_review'></a>\n",
    "\n",
    "Abre los datos y examínalos."
   ]
  },
  {
   "cell_type": "markdown",
   "metadata": {
    "id": "57eAOGIz_Zcs"
   },
   "source": [
    "Etapa 1.1. Necesitarás `pandas`, así que impórtalo."
   ]
  },
  {
   "cell_type": "code",
   "execution_count": 1,
   "metadata": {
    "id": "AXN7PHPN_Zcs"
   },
   "outputs": [],
   "source": [
    "# Importa pandas\n",
    "import pandas as pd"
   ]
  },
  {
   "cell_type": "markdown",
   "metadata": {
    "id": "SG23P8tt_Zcs"
   },
   "source": [
    "Etapa 1.2. Lee el archivo `music_project_en.csv` de la carpeta `/datasets/` y guárdalo en la variable `df`:"
   ]
  },
  {
   "cell_type": "code",
   "execution_count": null,
   "metadata": {
    "id": "fFVu7vqh_Zct"
   },
   "outputs": [],
   "source": [
    "# Lee el archivo y almacénalo en df\n",
    "df = pd.read_csv('Datos/Proyecto3/music_project_en.csv')"
   ]
  },
  {
   "cell_type": "markdown",
   "metadata": {
    "id": "rDoOMd3uTqnZ"
   },
   "source": [
    "Etapa 1.3. Muestra las 10 primeras filas de la tabla:"
   ]
  },
  {
   "cell_type": "code",
   "execution_count": 3,
   "metadata": {
    "id": "oWTVX3gW_Zct"
   },
   "outputs": [
    {
     "data": {
      "text/html": [
       "<div>\n",
       "<style scoped>\n",
       "    .dataframe tbody tr th:only-of-type {\n",
       "        vertical-align: middle;\n",
       "    }\n",
       "\n",
       "    .dataframe tbody tr th {\n",
       "        vertical-align: top;\n",
       "    }\n",
       "\n",
       "    .dataframe thead th {\n",
       "        text-align: right;\n",
       "    }\n",
       "</style>\n",
       "<table border=\"1\" class=\"dataframe\">\n",
       "  <thead>\n",
       "    <tr style=\"text-align: right;\">\n",
       "      <th></th>\n",
       "      <th>userID</th>\n",
       "      <th>Track</th>\n",
       "      <th>artist</th>\n",
       "      <th>genre</th>\n",
       "      <th>City</th>\n",
       "      <th>time</th>\n",
       "      <th>Day</th>\n",
       "    </tr>\n",
       "  </thead>\n",
       "  <tbody>\n",
       "    <tr>\n",
       "      <th>0</th>\n",
       "      <td>FFB692EC</td>\n",
       "      <td>Kamigata To Boots</td>\n",
       "      <td>The Mass Missile</td>\n",
       "      <td>rock</td>\n",
       "      <td>Shelbyville</td>\n",
       "      <td>20:28:33</td>\n",
       "      <td>Wednesday</td>\n",
       "    </tr>\n",
       "    <tr>\n",
       "      <th>1</th>\n",
       "      <td>55204538</td>\n",
       "      <td>Delayed Because of Accident</td>\n",
       "      <td>Andreas Rönnberg</td>\n",
       "      <td>rock</td>\n",
       "      <td>Springfield</td>\n",
       "      <td>14:07:09</td>\n",
       "      <td>Friday</td>\n",
       "    </tr>\n",
       "    <tr>\n",
       "      <th>2</th>\n",
       "      <td>20EC38</td>\n",
       "      <td>Funiculì funiculà</td>\n",
       "      <td>Mario Lanza</td>\n",
       "      <td>pop</td>\n",
       "      <td>Shelbyville</td>\n",
       "      <td>20:58:07</td>\n",
       "      <td>Wednesday</td>\n",
       "    </tr>\n",
       "    <tr>\n",
       "      <th>3</th>\n",
       "      <td>A3DD03C9</td>\n",
       "      <td>Dragons in the Sunset</td>\n",
       "      <td>Fire + Ice</td>\n",
       "      <td>folk</td>\n",
       "      <td>Shelbyville</td>\n",
       "      <td>08:37:09</td>\n",
       "      <td>Monday</td>\n",
       "    </tr>\n",
       "    <tr>\n",
       "      <th>4</th>\n",
       "      <td>E2DC1FAE</td>\n",
       "      <td>Soul People</td>\n",
       "      <td>Space Echo</td>\n",
       "      <td>dance</td>\n",
       "      <td>Springfield</td>\n",
       "      <td>08:34:34</td>\n",
       "      <td>Monday</td>\n",
       "    </tr>\n",
       "    <tr>\n",
       "      <th>5</th>\n",
       "      <td>842029A1</td>\n",
       "      <td>Chains</td>\n",
       "      <td>Obladaet</td>\n",
       "      <td>rusrap</td>\n",
       "      <td>Shelbyville</td>\n",
       "      <td>13:09:41</td>\n",
       "      <td>Friday</td>\n",
       "    </tr>\n",
       "    <tr>\n",
       "      <th>6</th>\n",
       "      <td>4CB90AA5</td>\n",
       "      <td>True</td>\n",
       "      <td>Roman Messer</td>\n",
       "      <td>dance</td>\n",
       "      <td>Springfield</td>\n",
       "      <td>13:00:07</td>\n",
       "      <td>Wednesday</td>\n",
       "    </tr>\n",
       "    <tr>\n",
       "      <th>7</th>\n",
       "      <td>F03E1C1F</td>\n",
       "      <td>Feeling This Way</td>\n",
       "      <td>Polina Griffith</td>\n",
       "      <td>dance</td>\n",
       "      <td>Springfield</td>\n",
       "      <td>20:47:49</td>\n",
       "      <td>Wednesday</td>\n",
       "    </tr>\n",
       "    <tr>\n",
       "      <th>8</th>\n",
       "      <td>8FA1D3BE</td>\n",
       "      <td>L’estate</td>\n",
       "      <td>Julia Dalia</td>\n",
       "      <td>ruspop</td>\n",
       "      <td>Springfield</td>\n",
       "      <td>09:17:40</td>\n",
       "      <td>Friday</td>\n",
       "    </tr>\n",
       "    <tr>\n",
       "      <th>9</th>\n",
       "      <td>E772D5C0</td>\n",
       "      <td>Pessimist</td>\n",
       "      <td>NaN</td>\n",
       "      <td>dance</td>\n",
       "      <td>Shelbyville</td>\n",
       "      <td>21:20:49</td>\n",
       "      <td>Wednesday</td>\n",
       "    </tr>\n",
       "  </tbody>\n",
       "</table>\n",
       "</div>"
      ],
      "text/plain": [
       "     userID                        Track            artist   genre  \\\n",
       "0  FFB692EC            Kamigata To Boots  The Mass Missile    rock   \n",
       "1  55204538  Delayed Because of Accident  Andreas Rönnberg    rock   \n",
       "2    20EC38            Funiculì funiculà       Mario Lanza     pop   \n",
       "3  A3DD03C9        Dragons in the Sunset        Fire + Ice    folk   \n",
       "4  E2DC1FAE                  Soul People        Space Echo   dance   \n",
       "5  842029A1                       Chains          Obladaet  rusrap   \n",
       "6  4CB90AA5                         True      Roman Messer   dance   \n",
       "7  F03E1C1F             Feeling This Way   Polina Griffith   dance   \n",
       "8  8FA1D3BE                     L’estate       Julia Dalia  ruspop   \n",
       "9  E772D5C0                    Pessimist               NaN   dance   \n",
       "\n",
       "        City        time        Day  \n",
       "0  Shelbyville  20:28:33  Wednesday  \n",
       "1  Springfield  14:07:09     Friday  \n",
       "2  Shelbyville  20:58:07  Wednesday  \n",
       "3  Shelbyville  08:37:09     Monday  \n",
       "4  Springfield  08:34:34     Monday  \n",
       "5  Shelbyville  13:09:41     Friday  \n",
       "6  Springfield  13:00:07  Wednesday  \n",
       "7  Springfield  20:47:49  Wednesday  \n",
       "8  Springfield  09:17:40     Friday  \n",
       "9  Shelbyville  21:20:49  Wednesday  "
      ]
     },
     "execution_count": 3,
     "metadata": {},
     "output_type": "execute_result"
    }
   ],
   "source": [
    "# Obtén las 10 primeras filas de la tabla df\n",
    "df.head(10)"
   ]
  },
  {
   "cell_type": "markdown",
   "metadata": {
    "id": "EO73Kwic_Zct"
   },
   "source": [
    "Etapa 1.4. Obtén la información general sobre la tabla con el método info()."
   ]
  },
  {
   "cell_type": "code",
   "execution_count": 4,
   "metadata": {
    "id": "DSf2kIb-_Zct"
   },
   "outputs": [
    {
     "name": "stdout",
     "output_type": "stream",
     "text": [
      "<class 'pandas.core.frame.DataFrame'>\n",
      "RangeIndex: 65079 entries, 0 to 65078\n",
      "Data columns (total 7 columns):\n",
      " #   Column    Non-Null Count  Dtype \n",
      "---  ------    --------------  ----- \n",
      " 0     userID  65079 non-null  object\n",
      " 1   Track     63736 non-null  object\n",
      " 2   artist    57512 non-null  object\n",
      " 3   genre     63881 non-null  object\n",
      " 4     City    65079 non-null  object\n",
      " 5   time      65079 non-null  object\n",
      " 6   Day       65079 non-null  object\n",
      "dtypes: object(7)\n",
      "memory usage: 3.5+ MB\n"
     ]
    }
   ],
   "source": [
    "# Obtén la información general sobre nuestros datos\n",
    "df.info()"
   ]
  },
  {
   "cell_type": "markdown",
   "metadata": {
    "id": "TaQ2Iwbr_Zct"
   },
   "source": [
    "Estas son nuestras observaciones sobre la tabla. Contiene siete columnas que almacenan los mismos tipos de datos: `object`.\n",
    "\n",
    "Según la documentación:\n",
    "- `' userID'`: identificador del usuario;\n",
    "- `'Track'`: título de la canción;\n",
    "- `'artist'`: nombre del artista;\n",
    "- `'genre'`: género de la canción;\n",
    "- `'City'`: ciudad del usuario;\n",
    "- `'time'`: la hora exacta en la que se reprodujo la canción;\n",
    "- `'Day'`: día de la semana.\n",
    "\n",
    "Podemos ver tres problemas con el estilo en los encabezados de la tabla:\n",
    "1. Algunos encabezados están en mayúsculas, otros en minúsculas.\n",
    "2. Hay espacios en algunos encabezados.\n",
    "3. `Detecta el tercer problema por tu cuenta y descríbelo aquí`.\n",
    "\n",
    "\n"
   ]
  },
  {
   "cell_type": "markdown",
   "metadata": {
    "id": "MCB6-dXG_Zct"
   },
   "source": [
    "### Escribe algunas observaciones por tu parte. Contesta a las siguientes preguntas: <a id='data_review_conclusions'></a>\n",
    "\n",
    "`1.   ¿Qué tipo de datos hay en las filas? ¿Cómo podemos saber qué almacenan las columnas?`\n",
    "\n",
    "`2.   ¿Hay suficientes datos para proporcionar respuestas a nuestra hipótesis o necesitamos más información?`\n",
    "\n",
    "`3.   ¿Notaste algún problema en los datos, como valores ausentes, duplicados o tipos de datos incorrectos?`"
   ]
  },
  {
   "cell_type": "markdown",
   "metadata": {
    "id": "emewmQcy3m_F"
   },
   "source": [
    "Escribe aquí tus respuestas:\n",
    "\n",
    "1. UserID almacena numeros unicos para identificar las filas. Track es el nombre de la cancion en string. Artist es el nombre del artista en string. Genre es el genero de la cancion en string. City es la ciudad donde el usuario vive o escucho la musica en string. Time es la hora cuando la musica es reproducida en Time y Day es el dia cuando se reprodujo en Time. Podemos saber el tipo de esta informacion por intuicion y logica\n",
    "\n",
    "2. Tenemos suficiente informacion para poner a prueba la hipotesis.\n",
    "\n",
    "3. Logre notar que el nombre de una artista es un valor ausente, y que las columnas tiene errores de mayusculas con minusculas y espacios innecesarios. Hay una cancion que se llama \"True\" que puede confundirse con el dato bool pero aun es un nombre valido y la cancion existe. En UserID, la columna deberia ser user_id para ser tener el mismo formato que las demas columnas. Las tres columnas con datos ausentes en Track, Artist y Genre "
   ]
  },
  {
   "cell_type": "markdown",
   "metadata": {
    "id": "3eL__vcwViOi"
   },
   "source": [
    "[Volver a Contenidos](#back)"
   ]
  },
  {
   "cell_type": "markdown",
   "metadata": {
    "id": "SjYF6Ub9_Zct"
   },
   "source": [
    "## Etapa 2. Preprocesamiento de los datos <a id='data_preprocessing'></a>\n",
    "\n",
    "Tu objetivo aquí es preparar los datos para analizarlos.\n",
    "El primer paso es resolver los problemas con los encabezados. Después podemos avanzar a los valores ausentes y duplicados. ¡Empecemos!\n",
    "\n",
    "Vamos a corregir el formato en los encabezados de la tabla.\n"
   ]
  },
  {
   "cell_type": "markdown",
   "metadata": {
    "id": "dIaKXr29_Zct"
   },
   "source": [
    "### Estilo del encabezado <a id='header_style'></a>\n",
    "Etapa 2.1. Muestra los encabezados de la tabla (los nombres de las columnas):"
   ]
  },
  {
   "cell_type": "code",
   "execution_count": 5,
   "metadata": {
    "id": "oKOTdF_Q_Zct"
   },
   "outputs": [
    {
     "name": "stdout",
     "output_type": "stream",
     "text": [
      "Index(['  userID', 'Track', 'artist', 'genre', '  City  ', 'time', 'Day'], dtype='object')\n"
     ]
    }
   ],
   "source": [
    "# Muestra los nombres de las columnas\n",
    "print(df.columns)"
   ]
  },
  {
   "cell_type": "markdown",
   "metadata": {
    "id": "zj5534cv_Zct"
   },
   "source": [
    "Vamos cambiar los encabezados de la tabla siguiendo las reglas estilísticas convencionales:\n",
    "*   Todos los caracteres deben ser minúsculas.\n",
    "*   Elimina los espacios.\n",
    "*   Si el nombre tiene varias palabras, utiliza snake_case.\n"
   ]
  },
  {
   "cell_type": "markdown",
   "metadata": {
    "id": "Xu0zkfe5zNJe"
   },
   "source": [
    "Anteriormente, aprendiste una forma automática de cambiar el nombre de las columnas. Vamos a aplicarla ahora.\n",
    "\n",
    "Etapa 2.2. Utiliza el bucle for para iterar sobre los nombres de las columnas y poner todos los caracteres en minúsculas. Cuando hayas terminado, vuelve a mostrar los encabezados de la tabla:"
   ]
  },
  {
   "cell_type": "code",
   "execution_count": 6,
   "metadata": {
    "id": "6I_RwwMhzM4e"
   },
   "outputs": [],
   "source": [
    "# Bucle en los encabezados que lo pone todo en minúsculas\n",
    "df.columns = [col.lower() for col in df.columns]"
   ]
  },
  {
   "cell_type": "markdown",
   "metadata": {
    "id": "pweIRxjSzPYW"
   },
   "source": [
    "Etapa 2.3. Ahora, utilizando el mismo método, elimina los espacios al principio y al final de los nombres de las columnas y muestra los nombres de las columnas de nuevo:"
   ]
  },
  {
   "cell_type": "code",
   "execution_count": 7,
   "metadata": {
    "id": "vVQXbFyJzSYl"
   },
   "outputs": [],
   "source": [
    "# Bucle en los encabezados que elimina los espacios\n",
    "df.columns = [col.strip() for col in df.columns]"
   ]
  },
  {
   "cell_type": "markdown",
   "metadata": {
    "id": "yCb8MW1JzURd"
   },
   "source": [
    "Etapa 2.4. Necesitamos aplicar la regla de snake_case en la columna `userid`. Debe ser `user_id`. Cambia el nombre de esta columna y muestra los nombres de todas las columnas cuando hayas terminado."
   ]
  },
  {
   "cell_type": "code",
   "execution_count": 8,
   "metadata": {
    "id": "ISlFqs5y_Zct"
   },
   "outputs": [],
   "source": [
    "# Cambia el nombre de la columna \"userid\"\n",
    "df.rename(columns = {'userid': 'user_id'},inplace=True)"
   ]
  },
  {
   "cell_type": "markdown",
   "metadata": {
    "id": "1dqbh00J_Zct"
   },
   "source": [
    "Etapa 2.5. Comprueba el resultado. Muestra los encabezados una vez más:"
   ]
  },
  {
   "cell_type": "code",
   "execution_count": 9,
   "metadata": {
    "id": "d4NOAmTW_Zct"
   },
   "outputs": [
    {
     "name": "stdout",
     "output_type": "stream",
     "text": [
      "Index(['user_id', 'track', 'artist', 'genre', 'city', 'time', 'day'], dtype='object')\n"
     ]
    }
   ],
   "source": [
    "# Comprueba el resultado: lista de encabezados\n",
    "print(df.columns)"
   ]
  },
  {
   "cell_type": "markdown",
   "metadata": {
    "id": "xYJk6ksJVpOl"
   },
   "source": [
    "[Volver a Contenidos](#back)"
   ]
  },
  {
   "cell_type": "markdown",
   "metadata": {
    "id": "5ISfbcfY_Zct"
   },
   "source": [
    "### Valores ausentes <a id='missing_values'></a>\n",
    " Etapa 2.5. Primero, encuentra el número de valores ausentes en la tabla. Debes utilizar dos métodos para obtener el número de valores ausentes."
   ]
  },
  {
   "cell_type": "code",
   "execution_count": 10,
   "metadata": {
    "id": "RskX29qr_Zct"
   },
   "outputs": [
    {
     "name": "stdout",
     "output_type": "stream",
     "text": [
      "user_id       0\n",
      "track      1343\n",
      "artist     7567\n",
      "genre      1198\n",
      "city          0\n",
      "time          0\n",
      "day           0\n",
      "dtype: int64\n"
     ]
    }
   ],
   "source": [
    "# Calcula el número de valores ausentes\n",
    "print(df.isna().sum())"
   ]
  },
  {
   "cell_type": "markdown",
   "metadata": {
    "id": "qubhgnlO_Zct"
   },
   "source": [
    "No todos los valores ausentes afectan de la misma forma a la investigación. Por ejemplo, los valores ausentes en 'track' y 'artist' no son cruciales para el análisis, ya que estos datos son más descriptivos que analíticos. Por eso, puedes reemplazarlos directamente con un valor predeterminado como el string 'unknown' (desconocido)."
   ]
  },
  {
   "cell_type": "markdown",
   "metadata": {
    "id": "gzJd_997466T"
   },
   "source": [
    "En cambio, los valores ausentes en 'genre' sí pueden influir en la comparación entre las preferencias musicales de Springfield y Shelbyville. En un escenario real, lo ideal sería investigar por qué faltan estos datos e intentar recuperarlos. Pero en este proyecto no tenemos esa posibilidad, así que deberás rellenar esos valores con un valor predeterminado.\n"
   ]
  },
  {
   "cell_type": "markdown",
   "metadata": {
    "id": "5IzUHGWE5Els"
   },
   "source": [
    "Como vimos anteriormente en las lecciones, la mejor manera de hacerlo es crear una lista con los nombres de las columnas que necesitan reemplazarse.  Luego, utilizar esta lista para iterar sobre cada columna y realizar el reemplazo correspondiente."
   ]
  },
  {
   "cell_type": "markdown",
   "metadata": {
    "id": "fSv2laPA_Zct"
   },
   "source": [
    "Etapa 2.6. Sustituye los valores ausentes en las columnas `'track'`, `'artist'` y `'genre'` con el string `'unknown'`.\n",
    "\n",
    "1. Crea una lista llamada columns_to_replace que contenga los nombres de las columnas 'track', 'artist' y 'genre'.\n",
    "\n",
    "2. Usa un bucle for para iterar sobre cada columna en columns_to_replace.\n",
    "\n",
    "3. Dentro del bucle, sustituye los valores ausentes en cada columna con el string `'unknown'`."
   ]
  },
  {
   "cell_type": "code",
   "execution_count": 11,
   "metadata": {
    "id": "KplB5qWs_Zct"
   },
   "outputs": [],
   "source": [
    "# Bucle en los encabezados reemplazando los valores ausentes con 'unknown'\n",
    "# 1. Crear la lista de columnas\n",
    "columns_to_replace = ['track', 'artist', 'genre']\n",
    "\n",
    "# 2. Usar un bucle para reemplazar los valores ausentes por 'unknown'\n",
    "for col in columns_to_replace:\n",
    "    df[col] = df[col].fillna('unknown')"
   ]
  },
  {
   "cell_type": "markdown",
   "metadata": {
    "id": "Ilsm-MZo_Zct"
   },
   "source": [
    "Etapa 2.7. Ahora comprueba el resultado para asegurarte de que no falten valores ausentes por reemplazar en el conjunto de datos. Para ello, cuenta los valores ausentes una vez más."
   ]
  },
  {
   "cell_type": "code",
   "execution_count": 12,
   "metadata": {
    "id": "Tq4nYRX4_Zct"
   },
   "outputs": [
    {
     "name": "stdout",
     "output_type": "stream",
     "text": [
      "user_id    0\n",
      "track      0\n",
      "artist     0\n",
      "genre      0\n",
      "city       0\n",
      "time       0\n",
      "day        0\n",
      "dtype: int64\n"
     ]
    }
   ],
   "source": [
    "# Cuenta los valores ausentes\n",
    "print(df.isna().sum())"
   ]
  },
  {
   "cell_type": "markdown",
   "metadata": {
    "id": "74ZIBmq9VrsK"
   },
   "source": [
    "[Volver a Contenidos](#back)"
   ]
  },
  {
   "cell_type": "markdown",
   "metadata": {
    "id": "BWKRtBJ3_Zct"
   },
   "source": [
    "### Duplicados <a id='duplicates'></a>\n",
    "Etapa 2.8. Encuentra el número de duplicados explícitos en la tabla. Una vez más, debes aplicar dos métodos para obtener la cantidad de duplicados explícitos."
   ]
  },
  {
   "cell_type": "code",
   "execution_count": 13,
   "metadata": {
    "id": "36eES_S0_Zct"
   },
   "outputs": [
    {
     "name": "stdout",
     "output_type": "stream",
     "text": [
      "3826\n"
     ]
    }
   ],
   "source": [
    "# Cuenta los duplicados explícitos\n",
    "print(df.duplicated().sum())"
   ]
  },
  {
   "cell_type": "markdown",
   "metadata": {
    "id": "Ot25h6XR_Zct"
   },
   "source": [
    "Etapa 2.9. Ahora, elimina todos los duplicados. Para ello, llama al método que hace exactamente esto."
   ]
  },
  {
   "cell_type": "code",
   "execution_count": 14,
   "metadata": {
    "id": "exFHq6tt_Zct"
   },
   "outputs": [],
   "source": [
    "# Elimina los duplicados explícitos\n",
    "df = df.drop_duplicates().reset_index(drop=True)"
   ]
  },
  {
   "cell_type": "markdown",
   "metadata": {
    "id": "Im2YwBEG_Zct"
   },
   "source": [
    "Etapa 2.10. Comprobemos ahora si conseguimos eliminar todos los duplicados. Cuenta los duplicados explícitos una vez más para asegurarte de haberlos eliminado todos:"
   ]
  },
  {
   "cell_type": "code",
   "execution_count": 15,
   "metadata": {
    "id": "-8PuNWQ0_Zct"
   },
   "outputs": [
    {
     "name": "stdout",
     "output_type": "stream",
     "text": [
      "0\n"
     ]
    }
   ],
   "source": [
    "# Comprueba de nuevo si hay duplicados\n",
    "print(df.duplicated().sum())"
   ]
  },
  {
   "cell_type": "markdown",
   "metadata": {
    "id": "QlFBsxAr_Zct"
   },
   "source": [
    "Ahora queremos deshacernos de los duplicados implícitos en la columna `genre`. Por ejemplo, el nombre de un género se puede escribir de varias formas. Dichos errores también pueden afectar al resultado."
   ]
  },
  {
   "cell_type": "markdown",
   "metadata": {
    "id": "eSjWwsOh_Zct"
   },
   "source": [
    "Etapa 2.11. Primero debemos mostrar una lista de nombres de géneros únicos, por orden alfabético. Para ello:\n",
    "1. Extrae la columna `genre` del DataFrame.\n",
    "2. Llama al método que devolverá todos los valores únicos en la columna extraída.\n"
   ]
  },
  {
   "cell_type": "code",
   "execution_count": 16,
   "metadata": {
    "id": "JIUcqzZN_Zct"
   },
   "outputs": [
    {
     "name": "stdout",
     "output_type": "stream",
     "text": [
      "['acid', 'acoustic', 'action', 'adult', 'africa', 'afrikaans', 'alternative', 'ambient', 'americana', 'animated', 'anime', 'arabesk', 'arabic', 'arena', 'argentinetango', 'art', 'audiobook', 'avantgarde', 'axé', 'baile', 'balkan', 'beats', 'bigroom', 'black', 'bluegrass', 'blues', 'bollywood', 'bossa', 'brazilian', 'breakbeat', 'breaks', 'broadway', 'cantautori', 'cantopop', 'canzone', 'caribbean', 'caucasian', 'celtic', 'chamber', 'children', 'chill', 'chinese', 'choral', 'christian', 'christmas', 'classical', 'classicmetal', 'club', 'colombian', 'comedy', 'conjazz', 'contemporary', 'country', 'cuban', 'dance', 'dancehall', 'dancepop', 'dark', 'death', 'deep', 'deutschrock', 'deutschspr', 'dirty', 'disco', 'dnb', 'documentary', 'downbeat', 'downtempo', 'drum', 'dub', 'dubstep', 'eastern', 'easy', 'electronic', 'electropop', 'emo', 'entehno', 'epicmetal', 'estrada', 'ethnic', 'eurofolk', 'european', 'experimental', 'extrememetal', 'fado', 'film', 'fitness', 'flamenco', 'folk', 'folklore', 'folkmetal', 'folkrock', 'folktronica', 'forró', 'frankreich', 'französisch', 'french', 'funk', 'future', 'gangsta', 'garage', 'german', 'ghazal', 'gitarre', 'glitch', 'gospel', 'gothic', 'grime', 'grunge', 'gypsy', 'handsup', \"hard'n'heavy\", 'hardcore', 'hardstyle', 'hardtechno', 'hip', 'hip-hop', 'hiphop', 'historisch', 'holiday', 'hop', 'horror', 'house', 'idm', 'independent', 'indian', 'indie', 'indipop', 'industrial', 'inspirational', 'instrumental', 'international', 'irish', 'jam', 'japanese', 'jazz', 'jewish', 'jpop', 'jungle', 'k-pop', 'karadeniz', 'karaoke', 'kayokyoku', 'korean', 'laiko', 'latin', 'latino', 'leftfield', 'local', 'lounge', 'loungeelectronic', 'lovers', 'malaysian', 'mandopop', 'marschmusik', 'meditative', 'mediterranean', 'melodic', 'metal', 'metalcore', 'mexican', 'middle', 'minimal', 'miscellaneous', 'modern', 'mood', 'mpb', 'muslim', 'native', 'neoklassik', 'neue', 'new', 'newage', 'newwave', 'nu', 'nujazz', 'numetal', 'oceania', 'old', 'opera', 'orchestral', 'other', 'piano', 'pop', 'popelectronic', 'popeurodance', 'post', 'posthardcore', 'postrock', 'power', 'progmetal', 'progressive', 'psychedelic', 'punjabi', 'punk', 'quebecois', 'ragga', 'ram', 'rancheras', 'rap', 'rave', 'reggae', 'reggaeton', 'regional', 'relax', 'religious', 'retro', 'rhythm', 'rnb', 'rnr', 'rock', 'rockabilly', 'romance', 'roots', 'ruspop', 'rusrap', 'rusrock', 'salsa', 'samba', 'schlager', 'self', 'sertanejo', 'shoegazing', 'showtunes', 'singer', 'ska', 'slow', 'smooth', 'soul', 'soulful', 'sound', 'soundtrack', 'southern', 'specialty', 'speech', 'spiritual', 'sport', 'stonerrock', 'surf', 'swing', 'synthpop', 'sängerportrait', 'tango', 'tanzorchester', 'taraftar', 'tech', 'techno', 'thrash', 'top', 'traditional', 'tradjazz', 'trance', 'tribal', 'trip', 'triphop', 'tropical', 'türk', 'türkçe', 'unknown', 'urban', 'uzbek', 'variété', 'vi', 'videogame', 'vocal', 'western', 'world', 'worldbeat', 'ïîï']\n"
     ]
    }
   ],
   "source": [
    "# Inspecciona los nombres de géneros únicos\n",
    "print(sorted(df['genre'].unique()))\n"
   ]
  },
  {
   "cell_type": "markdown",
   "metadata": {
    "id": "qej-Qmuo_Zct"
   },
   "source": [
    "Vamos a examinar la lista para identificar **duplicados implícitos** del género `hiphop`, es decir, nombres mal escritos o variantes que hacen referencia al mismo género musical.\n",
    "\n",
    "Algunos de los duplicados que encontrarás son:\n",
    "\n",
    "* `hip`  \n",
    "* `hop`  \n",
    "* `hip-hop`  \n",
    "\n",
    "Para solucionarlo, vamos a crear una función llamada `replace_wrong_genres()` que tendrá dos parámetros:\n",
    "\n",
    "* `wrong_genres`: una lista con todos los valores que deben ser reemplazados.  \n",
    "* `correct_genre`: un string que se utilizará como valor de reemplazo.\n",
    "\n",
    "El objetivo de esta función es **corregir los valores en la columna `'genre'` del DataFrame `df`**, reemplazando cada valor de la lista `wrong_genres` por `correct_genre`."
   ]
  },
  {
   "cell_type": "markdown",
   "metadata": {
    "id": "7kmujhjP_bIl"
   },
   "source": [
    "Etapa 2.12.\n",
    "1. Define una función llamada `replace_wrong_genres()` que reciba dos parámetros: `wrong_genres` y `correct_genre`.\n",
    "\n",
    "2. Dentro de la función, utiliza un bucle `for` para iterar sobre cada valor en la lista `wrong_genres`.\n",
    "\n",
    "3. En cada iteración, accede a la columna `'genre'` del DataFrame `df` y utiliza el método `.replace()` para sustituir el valor incorrecto por `correct_genre`.\n",
    "\n",
    "4. Llama a la función y pasa como argumentos:\n",
    "   - Una lista con los duplicados implícitos: `['hip', 'hop', 'hip-hop']`\n",
    "   - El string de reemplazo: `'hiphop'`"
   ]
  },
  {
   "cell_type": "code",
   "execution_count": 17,
   "metadata": {
    "id": "ErNDkmns_Zct"
   },
   "outputs": [],
   "source": [
    "# Función para reemplazar los duplicados implícitos\n",
    "def replace_wrong_genres(wrong_genres, correct_genre):\n",
    "    for wrong in wrong_genres:\n",
    "        df['genre'] = df['genre'].replace(wrong, correct_genre)"
   ]
  },
  {
   "cell_type": "markdown",
   "metadata": {
    "id": "aDoBJxbA_Zct"
   },
   "source": [
    "Etapa 2.13. Ahora, llama a `replace_wrong_genres()` y pásale estos argumentos para que retire los duplicados implícitos (`hip`, `hop` y `hip-hop`) y los sustituya por `hiphop`:"
   ]
  },
  {
   "cell_type": "code",
   "execution_count": 18,
   "metadata": {
    "id": "YN5i2hpmSo09"
   },
   "outputs": [],
   "source": [
    "# Elimina los duplicados implícitos\n",
    "replace_wrong_genres(['hip', 'hop', 'hip-hop'], 'hiphop')"
   ]
  },
  {
   "cell_type": "markdown",
   "metadata": {
    "id": "zQKF16_RG15m"
   },
   "source": [
    "Etapa 2.14. Asegúrate de que los nombres duplicados se hayan eliminado. Muestra la lista de valores únicos de la columna `'genre'` una vez más:"
   ]
  },
  {
   "cell_type": "code",
   "execution_count": 19,
   "metadata": {
    "id": "wvixALnFG15m"
   },
   "outputs": [
    {
     "name": "stdout",
     "output_type": "stream",
     "text": [
      "['acid', 'acoustic', 'action', 'adult', 'africa', 'afrikaans', 'alternative', 'ambient', 'americana', 'animated', 'anime', 'arabesk', 'arabic', 'arena', 'argentinetango', 'art', 'audiobook', 'avantgarde', 'axé', 'baile', 'balkan', 'beats', 'bigroom', 'black', 'bluegrass', 'blues', 'bollywood', 'bossa', 'brazilian', 'breakbeat', 'breaks', 'broadway', 'cantautori', 'cantopop', 'canzone', 'caribbean', 'caucasian', 'celtic', 'chamber', 'children', 'chill', 'chinese', 'choral', 'christian', 'christmas', 'classical', 'classicmetal', 'club', 'colombian', 'comedy', 'conjazz', 'contemporary', 'country', 'cuban', 'dance', 'dancehall', 'dancepop', 'dark', 'death', 'deep', 'deutschrock', 'deutschspr', 'dirty', 'disco', 'dnb', 'documentary', 'downbeat', 'downtempo', 'drum', 'dub', 'dubstep', 'eastern', 'easy', 'electronic', 'electropop', 'emo', 'entehno', 'epicmetal', 'estrada', 'ethnic', 'eurofolk', 'european', 'experimental', 'extrememetal', 'fado', 'film', 'fitness', 'flamenco', 'folk', 'folklore', 'folkmetal', 'folkrock', 'folktronica', 'forró', 'frankreich', 'französisch', 'french', 'funk', 'future', 'gangsta', 'garage', 'german', 'ghazal', 'gitarre', 'glitch', 'gospel', 'gothic', 'grime', 'grunge', 'gypsy', 'handsup', \"hard'n'heavy\", 'hardcore', 'hardstyle', 'hardtechno', 'hiphop', 'historisch', 'holiday', 'horror', 'house', 'idm', 'independent', 'indian', 'indie', 'indipop', 'industrial', 'inspirational', 'instrumental', 'international', 'irish', 'jam', 'japanese', 'jazz', 'jewish', 'jpop', 'jungle', 'k-pop', 'karadeniz', 'karaoke', 'kayokyoku', 'korean', 'laiko', 'latin', 'latino', 'leftfield', 'local', 'lounge', 'loungeelectronic', 'lovers', 'malaysian', 'mandopop', 'marschmusik', 'meditative', 'mediterranean', 'melodic', 'metal', 'metalcore', 'mexican', 'middle', 'minimal', 'miscellaneous', 'modern', 'mood', 'mpb', 'muslim', 'native', 'neoklassik', 'neue', 'new', 'newage', 'newwave', 'nu', 'nujazz', 'numetal', 'oceania', 'old', 'opera', 'orchestral', 'other', 'piano', 'pop', 'popelectronic', 'popeurodance', 'post', 'posthardcore', 'postrock', 'power', 'progmetal', 'progressive', 'psychedelic', 'punjabi', 'punk', 'quebecois', 'ragga', 'ram', 'rancheras', 'rap', 'rave', 'reggae', 'reggaeton', 'regional', 'relax', 'religious', 'retro', 'rhythm', 'rnb', 'rnr', 'rock', 'rockabilly', 'romance', 'roots', 'ruspop', 'rusrap', 'rusrock', 'salsa', 'samba', 'schlager', 'self', 'sertanejo', 'shoegazing', 'showtunes', 'singer', 'ska', 'slow', 'smooth', 'soul', 'soulful', 'sound', 'soundtrack', 'southern', 'specialty', 'speech', 'spiritual', 'sport', 'stonerrock', 'surf', 'swing', 'synthpop', 'sängerportrait', 'tango', 'tanzorchester', 'taraftar', 'tech', 'techno', 'thrash', 'top', 'traditional', 'tradjazz', 'trance', 'tribal', 'trip', 'triphop', 'tropical', 'türk', 'türkçe', 'unknown', 'urban', 'uzbek', 'variété', 'vi', 'videogame', 'vocal', 'western', 'world', 'worldbeat', 'ïîï']\n"
     ]
    }
   ],
   "source": [
    "# Comprueba de nuevo los duplicados implícitos\n",
    "print(sorted(df['genre'].unique()))"
   ]
  },
  {
   "cell_type": "markdown",
   "metadata": {
    "id": "ALgNbvF3VtPA"
   },
   "source": [
    "[Volver a Contenidos](#back)"
   ]
  },
  {
   "cell_type": "markdown",
   "metadata": {
    "id": "jz6a9-7HQUDd"
   },
   "source": [
    "### Observaciones <a id='data_preprocessing_conclusions'></a>\n",
    "\n",
    "`Redacta un breve resumen de lo que descubriste al analizar los datos. Tu respuesta debe identificar los problemas detectados, explicar cómo los resolviste y describir cómo esas acciones mejoran la calidad del análisis.`"
   ]
  },
  {
   "cell_type": "markdown",
   "metadata": {
    "id": "lN8zFHxhAF5O"
   },
   "source": [
    "Etapa 2.14. Descríbelo aquí.\n",
    "Las columnas, aun con sus errores, no eran dificiles de arreglar y preparar para sus analisis, fue la parte mas simple.\n",
    "Los valores duplicados necesitaban mas tiempo y mejor ojo a detalle, los duplicados explicitos era facil de arreglar debido a que sus existencias era innecesaria y afecta la informacion con la que trabajare.\n",
    "Los duplicados implicitos fue mas dificil, debido a que estos duplicados aun tienen datos utiles, no obstante, son errores que aun afectaran la informacion final.\n",
    "Lo que hice para detectar estas duplicaciones implicitas fue simplemente agarrar la lista y correrlo con una Inteligencia Artificial, y cuando me dijo que los duplicados implicitos fueron de Hip-Hop, manualmente asegurarme de que la inteligencia artificial estaba correcto, esto me ahorro muchos minutos de estar manualmente moviendo los valores en un cuaderno o un notepad en la computadora y enfocarme a arreglar estas duplicaciones implicitas.\n",
    "Inteligencia Artificial es una nueva herramienta que se puede usar para ahorrar tiempo y esfuerzo en tareas faciles pero extensivas... Como identificar datos similares, pero aun diferentes para informacion mas precisa. Pero siempre es bueno revisar que la inteligencia artificial no de errores tambien, el toque humano siempre se aprecia. "
   ]
  },
  {
   "cell_type": "markdown",
   "metadata": {
    "id": "eK1es74rVujj"
   },
   "source": [
    "[Volver a Contenidos](#back)"
   ]
  },
  {
   "cell_type": "markdown",
   "metadata": {
    "id": "WttZHXH0SqKk"
   },
   "source": [
    "## Etapa 3. Prueba de la hipótesis <a id='hypothesis'></a>"
   ]
  },
  {
   "cell_type": "markdown",
   "metadata": {
    "id": "Im936VVi_Zcu"
   },
   "source": [
    "### Tarea: Comparar el comportamiento de los usuarios en las dos ciudades <a id='activity'></a>"
   ]
  },
  {
   "cell_type": "markdown",
   "metadata": {
    "id": "nwt_MuaL_Zcu"
   },
   "source": [
    "La hipótesis que queremos probar plantea que existen diferencias en la forma en que los usuarios de Springfield y Shelbyville consumen música.\n",
    "Para analizar esto, nos enfocaremos en los datos correspondientes a tres días específicos de la semana: lunes, miércoles y viernes."
   ]
  },
  {
   "cell_type": "markdown",
   "metadata": {
    "id": "8Dw_YMmT_Zcu"
   },
   "source": [
    "El análisis consistirá en comparar la cantidad de canciones reproducidas por los usuarios de cada ciudad en esos días. Esto nos permitirá observar posibles patrones o diferencias en los hábitos de consumo entre Springfield y Shelbyville.\n",
    "\n",
    "Para llevar a cabo este análisis, es importante seguir el enfoque de dividir-aplicar-combinar, del que ya hablamos en la lección. En este caso:\n",
    "\n",
    "*  Dividir: separamos los datos en grupos según la ciudad.\n",
    "\n",
    "*  Aplicar: dentro de cada grupo, contamos cuántas canciones se reprodujeron.\n",
    "\n",
    "*  Combinar: reunimos los resultados en una estructura que nos permita comparar fácilmente ambas ciudades."
   ]
  },
  {
   "cell_type": "markdown",
   "metadata": {
    "id": "c0MoTnZcB-hW"
   },
   "source": [
    "Este procedimiento debe repetirse de forma independiente para cada uno de los tres días seleccionados. El resultado final debe mostrar el número de reproducciones por ciudad en cada uno de esos días.\n",
    "\n",
    "Una posible forma de estructurar el código sería con la siguiente expresión:\n",
    "\n",
    "`df.groupby(by='...')['...'].method()`\n",
    "\n",
    "Deberás completar los argumentos correspondientes para agrupar por ciudad y contar las canciones reproducidas. Este enfoque te dará una visión clara y comparativa del comportamiento de los usuarios en ambas ciudades."
   ]
  },
  {
   "cell_type": "markdown",
   "metadata": {
    "id": "dgMGeLF2CMJv"
   },
   "source": [
    "Etapa 3.1. Cuenta cuántas canciones se reprodujeron en cada ciudad utilizando la columna 'track' como referencia."
   ]
  },
  {
   "cell_type": "code",
   "execution_count": 20,
   "metadata": {
    "id": "0_Qs96oh_Zcu"
   },
   "outputs": [
    {
     "name": "stdout",
     "output_type": "stream",
     "text": [
      "city\n",
      "Shelbyville    18512\n",
      "Springfield    42741\n",
      "Name: time, dtype: int64\n"
     ]
    }
   ],
   "source": [
    "# Cuenta las canciones reproducidas en cada ciudad\n",
    "grouped = df.groupby('city')['time'].count()\n",
    "print(grouped)"
   ]
  },
  {
   "cell_type": "markdown",
   "metadata": {
    "id": "cC2tNrlL_Zcu"
   },
   "source": [
    "`Redacta brevemente tus observaciones sobre los resultados. ¿Qué diferencias notaste entre Springfield y Shelbyville? ¿A qué podrían deberse esas diferencias?`"
   ]
  },
  {
   "cell_type": "markdown",
   "metadata": {
    "id": "Kjb4vX38DC3I"
   },
   "source": [
    "Etapa 3.2. Escribe tus observaciones aquí.\n",
    "La diferencia entre las dos depende de donde sacas la informacion.\n",
    "si usamos la informacion obtenida aqui, es posible que los dias esten relacionados al hecho que hay mas reproducciones. Pero aun no hay suficiente para dar informacion concreta.\n",
    "si no usas la informacion obtenida, Springfield tiene historia, con una banda que nacio en esa ciudad, posiblemente haciendo que la ciudad tenga un gusto musical mas activo. La banda se llamaba Buffalo Springfield, un trozo de historia de Springfield."
   ]
  },
  {
   "cell_type": "markdown",
   "metadata": {
    "id": "dzli3w8o_Zcu"
   },
   "source": [
    "Etapa 3.3.\n",
    "1. Agrupa los datos por día de la semana y cuenta cuántas canciones se reprodujeron los lunes, miércoles y viernes.\n",
    "\n",
    "2. Utiliza el mismo método de conteo que antes, pero ahora cambia la columna de agrupación para enfocarte en el día.\n",
    "\n",
    "3. Esto te permitirá identificar posibles patrones de escucha según el día de la semana.\n"
   ]
  },
  {
   "cell_type": "code",
   "execution_count": 21,
   "metadata": {
    "id": "uZMKjiJz_Zcu"
   },
   "outputs": [
    {
     "name": "stdout",
     "output_type": "stream",
     "text": [
      "day\n",
      "Friday       21840\n",
      "Monday       21354\n",
      "Wednesday    18059\n",
      "Name: day, dtype: int64\n"
     ]
    }
   ],
   "source": [
    "# Calcula las canciones reproducidas en cada uno de los tres días\n",
    "# Agrupar por 'day' y contar las canciones reproducidas\n",
    "Days_played = df.groupby('day')['day'].count()\n",
    "\n",
    "# Filtrar por los días que nos interesan: lunes, miércoles y viernes\n",
    "Days_played_filtered = Days_played[Days_played.index.isin(['Monday', 'Wednesday', 'Friday'])]\n",
    "\n",
    "# Mostrar los resultados\n",
    "print(Days_played_filtered)"
   ]
  },
  {
   "cell_type": "markdown",
   "metadata": {
    "id": "t_Qx-3NewAnK"
   },
   "source": [
    "`Describe brevemente qué observaste al comparar los lunes, miércoles y viernes. ¿Hubo algún día con menos actividad? ¿Cambian las conclusiones si analizas cada ciudad por separado?`"
   ]
  },
  {
   "cell_type": "markdown",
   "metadata": {
    "id": "q537Zl8oDNfH"
   },
   "source": [
    "Etapa 3.4. Escribe tus observaciones aquí.\n",
    "Los lunes y los Viernes hay mas trafico que en miercoles, hipotesis personal dice que el miercoles, al ser dia de trabajo, la gente pasa menos tiempo escuchando musica, mientras que en Lunes, la gente escucha mas musica para activarse a la semana de trabajo, mientras que en viernes escuchan musica para relajarse al final de trabajar el ultimo dia de la semana del dia habil."
   ]
  },
  {
   "cell_type": "markdown",
   "metadata": {
    "id": "POzs8bGa_Zcu"
   },
   "source": [
    "Hasta ahora has aprendido a contar entradas agrupándolas por un solo criterio, como la ciudad o el día de la semana. Ahora vamos a dar un paso más: necesitas crear una función que **cuente cuántas canciones se reprodujeron en una ciudad específica durante un día determinado**, combinando ambos criterios de filtrado.\n",
    "\n",
    "La función se llamará `number_tracks()` y debe aceptar dos parámetros:\n",
    "\n",
    "- `day`: un día de la semana (por ejemplo, `'Monday'`).\n",
    "- `city`: el nombre de una ciudad (por ejemplo, `'Springfield'`).\n",
    "\n",
    "Dentro de la función, deberás aplicar un **filtrado secuencial mediante indexación lógica**: primero tendrás que filtrar el DataFrame por el día, y luego por la ciudad. Una vez que tengas el subconjunto de datos correcto, debes contar cuántas veces aparece un valor en la columna `'user_id'`. Ese número representará el total de canciones reproducidas bajo esos dos criterios.\n",
    "\n"
   ]
  },
  {
   "cell_type": "markdown",
   "metadata": {
    "id": "itD2P5lhEpuX"
   },
   "source": [
    "Etapa 3.5.\n",
    "1. Declara una función llamada `number_tracks()` con dos parámetros: `day` y `city`.\n",
    "\n",
    "2. Filtra el DataFrame para conservar solo las filas donde la columna `'day'` sea igual al valor del parámetro `day`.\n",
    "\n",
    "3. A partir del resultado anterior, filtra nuevamente para conservar solo las filas donde la columna `'city'` sea igual al valor del parámetro `city`.\n",
    "\n",
    "4. Extrae la columna `'user_id'` del DataFrame filtrado y utiliza el método `.count()` para contar el número de entradas.\n",
    "\n",
    "5. Guarda ese valor en una variable y **devuélvelo** como resultado de la función.\n"
   ]
  },
  {
   "cell_type": "code",
   "execution_count": 22,
   "metadata": {
    "id": "Nz3GdQB1_Zcu"
   },
   "outputs": [],
   "source": [
    "# Declara la función number_tracks() con dos parámetros: day= y city=.\n",
    "def number_tracks(day,city):\n",
    "    # Almacena las filas del DataFrame donde el valor en la columna 'day' es igual al parámetro day=\n",
    "    filtered_day = df[df['day'] == day]\n",
    "    # Filtra las filas donde el valor en la columna 'city' es igual al parámetro city=\n",
    "    filtered_city = filtered_day[filtered_day['city'] == city]\n",
    "    # Extrae la columna 'user_id' de la tabla filtrada y aplica el método count()\n",
    "    track_count = filtered_city['user_id'].count()\n",
    "    # Devuelve el número de valores de la columna 'user_id'\n",
    "    return track_count"
   ]
  },
  {
   "cell_type": "markdown",
   "metadata": {
    "id": "ytf7xFrFJQ2r"
   },
   "source": [
    "Etapa 3.6. Llama a `number_tracks()` seis veces, cambiando los valores de los parámetros para que puedas recuperar los datos de ambas ciudades para cada uno de los tres días."
   ]
  },
  {
   "cell_type": "code",
   "execution_count": 23,
   "metadata": {
    "id": "rJcRATNQ_Zcu"
   },
   "outputs": [
    {
     "name": "stdout",
     "output_type": "stream",
     "text": [
      "Springfield - Lunes: 15740\n"
     ]
    }
   ],
   "source": [
    "# El número de canciones reproducidas en Springfield el lunes\n",
    "print(\"Springfield - Lunes:\", number_tracks('Monday', 'Springfield'))"
   ]
  },
  {
   "cell_type": "code",
   "execution_count": 24,
   "metadata": {
    "id": "hq_ncZ5T_Zcu"
   },
   "outputs": [
    {
     "name": "stdout",
     "output_type": "stream",
     "text": [
      "Shelbyville - Lunes: 5614\n"
     ]
    }
   ],
   "source": [
    "# El número de canciones reproducidas en Shelbyville el lunes\n",
    "print(\"Shelbyville - Lunes:\", number_tracks('Monday', 'Shelbyville'))"
   ]
  },
  {
   "cell_type": "code",
   "execution_count": 25,
   "metadata": {
    "id": "_NTy2VPU_Zcu"
   },
   "outputs": [
    {
     "name": "stdout",
     "output_type": "stream",
     "text": [
      "Springfield - Miercoles: 11056\n"
     ]
    }
   ],
   "source": [
    "# El número de canciones reproducidas en Springfield el miércoles\n",
    "print(\"Springfield - Miercoles:\", number_tracks('Wednesday', 'Springfield'))"
   ]
  },
  {
   "cell_type": "code",
   "execution_count": 26,
   "metadata": {
    "id": "j2y3TAwo_Zcu"
   },
   "outputs": [
    {
     "name": "stdout",
     "output_type": "stream",
     "text": [
      "Shelbyville - Miercoles: 7003\n"
     ]
    }
   ],
   "source": [
    "# El número de canciones reproducidas en Shelbyville el miércoles\n",
    "print(\"Shelbyville - Miercoles:\", number_tracks('Wednesday', 'Shelbyville'))"
   ]
  },
  {
   "cell_type": "code",
   "execution_count": 27,
   "metadata": {
    "id": "vYDw5u_K_Zcu"
   },
   "outputs": [
    {
     "name": "stdout",
     "output_type": "stream",
     "text": [
      "Springfield - Viernes: 15945\n"
     ]
    }
   ],
   "source": [
    "# El número de canciones reproducidas en Springfield el viernes\n",
    "print(\"Springfield - Viernes:\", number_tracks('Friday', 'Springfield'))"
   ]
  },
  {
   "cell_type": "code",
   "execution_count": 28,
   "metadata": {
    "id": "8_yzFtW3_Zcu"
   },
   "outputs": [
    {
     "name": "stdout",
     "output_type": "stream",
     "text": [
      "Shelbyville - Viernes: 5895\n"
     ]
    }
   ],
   "source": [
    "# El número de canciones reproducidas en Shelbyville el viernes\n",
    "print(\"Shelbyville - Viernes:\", number_tracks('Friday', 'Shelbyville'))"
   ]
  },
  {
   "cell_type": "markdown",
   "metadata": {
    "id": "p7nFQajCVw5B"
   },
   "source": [
    "[Volver a Contenidos](#back)"
   ]
  },
  {
   "cell_type": "markdown",
   "metadata": {
    "id": "ykKQ0N65_Zcv"
   },
   "source": [
    "# Conclusiones <a id='end'></a>"
   ]
  },
  {
   "cell_type": "markdown",
   "metadata": {
    "id": "tjUwbHb3_Zcv"
   },
   "source": [
    "##Escribe tus conclusiones finales sobre la hipótesis.\n",
    " * ¿Los datos apoyan la idea de que el comportamiento de los usuarios respecto a la música que escuchan varía según la ciudad y el día de la semana?\n",
    " * Indica si la hipótesis debe aceptarse o rechazarse, y justifica tu respuesta con base en los resultados obtenidos."
   ]
  },
  {
   "cell_type": "markdown",
   "metadata": {
    "id": "piRc-ATKFwZ3"
   },
   "source": [
    "Etapa 4. Detalla aquí tus conclusiones.\n",
    "Shelbyville    18512\n",
    "Springfield    42741\n",
    "\n",
    "Friday         21840\n",
    "Monday         21354\n",
    "Wednesday      18059\n",
    "\n",
    "Springfield - Lunes: 15740, Miercoles: 11056, Viernes: 15945\n",
    "Shelbyville - Lunes: 5614, Miercoles: 7003, Viernes: 5895\n",
    "\n",
    "Con estos datos obtenidos, podemos confirmar que Springfield escucha mas musica que Shelbyville en general, pero Shelbyville escucha mas musica durante los miercoles que en Lunes o Viernes.\n",
    "Springfield escucha mas musica en lunes y Viernes.\n",
    "\n",
    "Aunque la cantidad de gente general que escucha el miercoles es mas alta de lo usual en Miercoles, En Springfield, no es usual que sea el dia que destaca"
   ]
  },
  {
   "cell_type": "markdown",
   "metadata": {
    "id": "azLHu64yOIp7"
   },
   "source": [
    "### Nota\n",
    "En los proyectos de investigación reales, la prueba de hipótesis estadística es más precisa y cuantitativa. También ten en cuenta que no siempre se pueden sacar conclusiones sobre una ciudad entera a partir de datos de una sola fuente.\n",
    "\n",
    "Aprenderás más sobre la prueba de hipótesis en el sprint de análisis estadístico de datos."
   ]
  },
  {
   "cell_type": "markdown",
   "metadata": {
    "id": "Ju4AHDSgV1FE"
   },
   "source": [
    "[Volver a Contenidos](#back)"
   ]
  }
 ],
 "metadata": {
  "ExecuteTimeLog": [
   {
    "duration": 303,
    "start_time": "2025-04-09T18:46:20.377Z"
   },
   {
    "duration": 107,
    "start_time": "2025-04-09T18:47:02.804Z"
   },
   {
    "duration": 12,
    "start_time": "2025-04-09T18:47:14.488Z"
   },
   {
    "duration": 20,
    "start_time": "2025-04-09T18:47:35.261Z"
   },
   {
    "duration": 20,
    "start_time": "2025-04-09T18:47:43.973Z"
   },
   {
    "duration": 175,
    "start_time": "2025-04-09T18:58:50.095Z"
   },
   {
    "duration": 3,
    "start_time": "2025-04-09T19:00:24.239Z"
   },
   {
    "duration": 3,
    "start_time": "2025-04-09T19:00:41.775Z"
   },
   {
    "duration": 12,
    "start_time": "2025-04-09T19:03:34.177Z"
   },
   {
    "duration": 3,
    "start_time": "2025-04-09T19:03:45.350Z"
   },
   {
    "duration": 4,
    "start_time": "2025-04-09T19:03:55.066Z"
   },
   {
    "duration": 4,
    "start_time": "2025-04-09T19:04:16.720Z"
   },
   {
    "duration": 289,
    "start_time": "2025-04-09T19:04:27.186Z"
   },
   {
    "duration": 102,
    "start_time": "2025-04-09T19:04:27.477Z"
   },
   {
    "duration": 13,
    "start_time": "2025-04-09T19:04:27.581Z"
   },
   {
    "duration": 35,
    "start_time": "2025-04-09T19:04:27.597Z"
   },
   {
    "duration": 3,
    "start_time": "2025-04-09T19:04:27.633Z"
   },
   {
    "duration": 4,
    "start_time": "2025-04-09T19:04:27.638Z"
   },
   {
    "duration": 4,
    "start_time": "2025-04-09T19:04:27.643Z"
   },
   {
    "duration": 3,
    "start_time": "2025-04-09T19:04:27.648Z"
   },
   {
    "duration": 4,
    "start_time": "2025-04-09T19:04:27.652Z"
   },
   {
    "duration": 3,
    "start_time": "2025-04-09T19:04:27.659Z"
   },
   {
    "duration": 3,
    "start_time": "2025-04-09T19:04:27.663Z"
   },
   {
    "duration": 3,
    "start_time": "2025-04-09T19:04:27.668Z"
   },
   {
    "duration": 3,
    "start_time": "2025-04-09T19:04:27.672Z"
   },
   {
    "duration": 3,
    "start_time": "2025-04-09T19:04:27.677Z"
   },
   {
    "duration": 3,
    "start_time": "2025-04-09T19:04:27.681Z"
   },
   {
    "duration": 46,
    "start_time": "2025-04-09T19:04:27.686Z"
   },
   {
    "duration": 3,
    "start_time": "2025-04-09T19:04:27.734Z"
   },
   {
    "duration": 2,
    "start_time": "2025-04-09T19:04:27.739Z"
   },
   {
    "duration": 4,
    "start_time": "2025-04-09T19:04:27.743Z"
   },
   {
    "duration": 5,
    "start_time": "2025-04-09T19:04:27.748Z"
   },
   {
    "duration": 3,
    "start_time": "2025-04-09T19:04:27.755Z"
   },
   {
    "duration": 4,
    "start_time": "2025-04-09T19:04:27.759Z"
   },
   {
    "duration": 4,
    "start_time": "2025-04-09T19:04:27.764Z"
   },
   {
    "duration": 4,
    "start_time": "2025-04-09T19:04:27.769Z"
   },
   {
    "duration": 3,
    "start_time": "2025-04-09T19:04:27.774Z"
   },
   {
    "duration": 2,
    "start_time": "2025-04-09T19:04:27.779Z"
   },
   {
    "duration": 3,
    "start_time": "2025-04-09T19:04:27.783Z"
   },
   {
    "duration": 42,
    "start_time": "2025-04-09T19:04:27.789Z"
   },
   {
    "duration": 331,
    "start_time": "2025-04-09T19:05:23.944Z"
   },
   {
    "duration": 98,
    "start_time": "2025-04-09T19:05:24.277Z"
   },
   {
    "duration": 12,
    "start_time": "2025-04-09T19:05:24.377Z"
   },
   {
    "duration": 22,
    "start_time": "2025-04-09T19:05:24.392Z"
   },
   {
    "duration": 17,
    "start_time": "2025-04-09T19:05:24.416Z"
   },
   {
    "duration": 3,
    "start_time": "2025-04-09T19:05:24.435Z"
   },
   {
    "duration": 3,
    "start_time": "2025-04-09T19:05:24.440Z"
   },
   {
    "duration": 4,
    "start_time": "2025-04-09T19:05:24.444Z"
   },
   {
    "duration": 3,
    "start_time": "2025-04-09T19:05:24.449Z"
   },
   {
    "duration": 2,
    "start_time": "2025-04-09T19:05:24.456Z"
   },
   {
    "duration": 3,
    "start_time": "2025-04-09T19:05:24.459Z"
   },
   {
    "duration": 2,
    "start_time": "2025-04-09T19:05:24.464Z"
   },
   {
    "duration": 4,
    "start_time": "2025-04-09T19:05:24.467Z"
   },
   {
    "duration": 3,
    "start_time": "2025-04-09T19:05:24.472Z"
   },
   {
    "duration": 3,
    "start_time": "2025-04-09T19:05:24.477Z"
   },
   {
    "duration": 4,
    "start_time": "2025-04-09T19:05:24.481Z"
   },
   {
    "duration": 46,
    "start_time": "2025-04-09T19:05:24.486Z"
   },
   {
    "duration": 3,
    "start_time": "2025-04-09T19:05:24.535Z"
   },
   {
    "duration": 7,
    "start_time": "2025-04-09T19:05:24.540Z"
   },
   {
    "duration": 6,
    "start_time": "2025-04-09T19:05:24.548Z"
   },
   {
    "duration": 3,
    "start_time": "2025-04-09T19:05:24.556Z"
   },
   {
    "duration": 2,
    "start_time": "2025-04-09T19:05:24.561Z"
   },
   {
    "duration": 3,
    "start_time": "2025-04-09T19:05:24.565Z"
   },
   {
    "duration": 3,
    "start_time": "2025-04-09T19:05:24.569Z"
   },
   {
    "duration": 4,
    "start_time": "2025-04-09T19:05:24.573Z"
   },
   {
    "duration": 2,
    "start_time": "2025-04-09T19:05:24.579Z"
   },
   {
    "duration": 3,
    "start_time": "2025-04-09T19:05:24.583Z"
   },
   {
    "duration": 2,
    "start_time": "2025-04-09T19:05:24.590Z"
   },
   {
    "duration": 2,
    "start_time": "2025-04-09T19:05:40.335Z"
   },
   {
    "duration": 325,
    "start_time": "2025-04-09T19:06:05.062Z"
   },
   {
    "duration": 108,
    "start_time": "2025-04-09T19:06:08.124Z"
   },
   {
    "duration": 12,
    "start_time": "2025-04-09T19:06:10.677Z"
   },
   {
    "duration": 22,
    "start_time": "2025-04-09T19:06:15.210Z"
   },
   {
    "duration": 3,
    "start_time": "2025-04-09T19:06:23.623Z"
   },
   {
    "duration": 2,
    "start_time": "2025-04-09T19:06:31.012Z"
   },
   {
    "duration": 4,
    "start_time": "2025-04-09T19:06:44.479Z"
   },
   {
    "duration": 535,
    "start_time": "2025-04-09T19:07:14.369Z"
   },
   {
    "duration": 3,
    "start_time": "2025-04-09T19:08:58.201Z"
   },
   {
    "duration": 3,
    "start_time": "2025-04-09T19:13:23.105Z"
   },
   {
    "duration": 3,
    "start_time": "2025-04-09T19:13:50.734Z"
   },
   {
    "duration": 3,
    "start_time": "2025-04-09T19:13:57.457Z"
   },
   {
    "duration": 3,
    "start_time": "2025-04-09T19:13:59.073Z"
   },
   {
    "duration": 3,
    "start_time": "2025-04-09T19:14:00.727Z"
   },
   {
    "duration": 19,
    "start_time": "2025-04-09T19:14:54.944Z"
   },
   {
    "duration": 11,
    "start_time": "2025-04-09T19:16:44.375Z"
   },
   {
    "duration": 16,
    "start_time": "2025-04-09T19:16:49.148Z"
   },
   {
    "duration": 20,
    "start_time": "2025-04-09T19:16:54.892Z"
   },
   {
    "duration": 43,
    "start_time": "2025-04-09T19:19:21.156Z"
   },
   {
    "duration": 50,
    "start_time": "2025-04-09T19:19:47.973Z"
   },
   {
    "duration": 41,
    "start_time": "2025-04-09T19:20:05.183Z"
   },
   {
    "duration": 44,
    "start_time": "2025-04-09T19:20:24.642Z"
   },
   {
    "duration": 39,
    "start_time": "2025-04-09T19:20:27.611Z"
   },
   {
    "duration": 50,
    "start_time": "2025-04-09T19:21:12.332Z"
   },
   {
    "duration": 42,
    "start_time": "2025-04-09T19:21:14.413Z"
   },
   {
    "duration": 49,
    "start_time": "2025-04-09T19:21:38.689Z"
   },
   {
    "duration": 40,
    "start_time": "2025-04-09T19:21:39.744Z"
   },
   {
    "duration": 6,
    "start_time": "2025-04-09T19:22:01.848Z"
   },
   {
    "duration": 3,
    "start_time": "2025-04-09T19:25:30.655Z"
   },
   {
    "duration": 7,
    "start_time": "2025-04-09T19:25:32.195Z"
   },
   {
    "duration": 6,
    "start_time": "2025-04-09T19:25:33.443Z"
   },
   {
    "duration": 393,
    "start_time": "2025-04-09T19:40:06.257Z"
   },
   {
    "duration": 4,
    "start_time": "2025-04-09T19:40:35.276Z"
   },
   {
    "duration": 9,
    "start_time": "2025-04-09T19:40:56.723Z"
   },
   {
    "duration": 9,
    "start_time": "2025-04-09T19:43:24.603Z"
   },
   {
    "duration": 15,
    "start_time": "2025-04-09T19:46:27.689Z"
   },
   {
    "duration": 15,
    "start_time": "2025-04-09T19:46:43.306Z"
   },
   {
    "duration": 20,
    "start_time": "2025-04-09T19:50:04.313Z"
   },
   {
    "duration": 10,
    "start_time": "2025-04-09T19:50:33.749Z"
   },
   {
    "duration": 118,
    "start_time": "2025-04-09T19:51:38.773Z"
   },
   {
    "duration": 291,
    "start_time": "2025-04-09T19:53:27.500Z"
   },
   {
    "duration": 40,
    "start_time": "2025-04-09T19:53:49.836Z"
   },
   {
    "duration": 9,
    "start_time": "2025-04-09T19:54:48.735Z"
   },
   {
    "duration": 22,
    "start_time": "2025-04-09T19:55:28.382Z"
   },
   {
    "duration": 20,
    "start_time": "2025-04-09T19:55:34.342Z"
   },
   {
    "duration": 9,
    "start_time": "2025-04-09T19:55:37.844Z"
   },
   {
    "duration": 10,
    "start_time": "2025-04-09T19:55:43.883Z"
   },
   {
    "duration": 42,
    "start_time": "2025-04-09T19:55:49.709Z"
   },
   {
    "duration": 9,
    "start_time": "2025-04-09T19:55:55.841Z"
   },
   {
    "duration": 39,
    "start_time": "2025-04-09T19:56:00.615Z"
   },
   {
    "duration": 22,
    "start_time": "2025-04-09T19:56:04.834Z"
   },
   {
    "duration": 9,
    "start_time": "2025-04-09T19:56:13.551Z"
   },
   {
    "duration": 3,
    "start_time": "2025-04-09T20:00:55.112Z"
   },
   {
    "duration": 8,
    "start_time": "2025-04-09T20:01:32.200Z"
   },
   {
    "duration": 8,
    "start_time": "2025-04-09T20:02:03.918Z"
   },
   {
    "duration": 3,
    "start_time": "2025-04-09T20:02:09.195Z"
   },
   {
    "duration": 8,
    "start_time": "2025-04-09T20:02:11.591Z"
   },
   {
    "duration": 8,
    "start_time": "2025-04-09T20:02:14.122Z"
   },
   {
    "duration": 7,
    "start_time": "2025-04-09T20:03:01.046Z"
   },
   {
    "duration": 14,
    "start_time": "2025-04-09T20:03:15.926Z"
   },
   {
    "duration": 11,
    "start_time": "2025-04-09T20:03:38.804Z"
   },
   {
    "duration": 13,
    "start_time": "2025-04-09T20:04:49.868Z"
   },
   {
    "duration": 11,
    "start_time": "2025-04-09T20:04:50.720Z"
   },
   {
    "duration": 12,
    "start_time": "2025-04-09T20:04:51.406Z"
   },
   {
    "duration": 11,
    "start_time": "2025-04-09T20:04:52.169Z"
   },
   {
    "duration": 13,
    "start_time": "2025-04-09T20:04:52.858Z"
   },
   {
    "duration": 12,
    "start_time": "2025-04-09T20:04:58.720Z"
   },
   {
    "duration": 339,
    "start_time": "2025-04-09T20:05:10.343Z"
   },
   {
    "duration": 93,
    "start_time": "2025-04-09T20:05:10.684Z"
   },
   {
    "duration": 12,
    "start_time": "2025-04-09T20:05:10.779Z"
   },
   {
    "duration": 22,
    "start_time": "2025-04-09T20:05:10.793Z"
   },
   {
    "duration": 3,
    "start_time": "2025-04-09T20:05:10.832Z"
   },
   {
    "duration": 4,
    "start_time": "2025-04-09T20:05:10.836Z"
   },
   {
    "duration": 3,
    "start_time": "2025-04-09T20:05:10.841Z"
   },
   {
    "duration": 3,
    "start_time": "2025-04-09T20:05:10.846Z"
   },
   {
    "duration": 4,
    "start_time": "2025-04-09T20:05:10.851Z"
   },
   {
    "duration": 17,
    "start_time": "2025-04-09T20:05:10.859Z"
   },
   {
    "duration": 20,
    "start_time": "2025-04-09T20:05:10.878Z"
   },
   {
    "duration": 41,
    "start_time": "2025-04-09T20:05:10.900Z"
   },
   {
    "duration": 43,
    "start_time": "2025-04-09T20:05:10.943Z"
   },
   {
    "duration": 67,
    "start_time": "2025-04-09T20:05:10.988Z"
   },
   {
    "duration": 39,
    "start_time": "2025-04-09T20:05:11.057Z"
   },
   {
    "duration": 5,
    "start_time": "2025-04-09T20:05:11.098Z"
   },
   {
    "duration": 3,
    "start_time": "2025-04-09T20:05:11.105Z"
   },
   {
    "duration": 26,
    "start_time": "2025-04-09T20:05:11.111Z"
   },
   {
    "duration": 6,
    "start_time": "2025-04-09T20:05:11.139Z"
   },
   {
    "duration": 197,
    "start_time": "2025-04-09T20:05:11.146Z"
   },
   {
    "duration": 0,
    "start_time": "2025-04-09T20:05:11.345Z"
   },
   {
    "duration": 0,
    "start_time": "2025-04-09T20:05:11.346Z"
   },
   {
    "duration": 0,
    "start_time": "2025-04-09T20:05:11.352Z"
   },
   {
    "duration": 0,
    "start_time": "2025-04-09T20:05:11.353Z"
   },
   {
    "duration": 0,
    "start_time": "2025-04-09T20:05:11.355Z"
   },
   {
    "duration": 0,
    "start_time": "2025-04-09T20:05:11.357Z"
   },
   {
    "duration": 0,
    "start_time": "2025-04-09T20:05:11.359Z"
   },
   {
    "duration": 0,
    "start_time": "2025-04-09T20:05:11.360Z"
   },
   {
    "duration": 18,
    "start_time": "2025-04-09T20:05:47.655Z"
   },
   {
    "duration": 280,
    "start_time": "2025-04-09T20:05:56.622Z"
   },
   {
    "duration": 93,
    "start_time": "2025-04-09T20:05:56.904Z"
   },
   {
    "duration": 12,
    "start_time": "2025-04-09T20:05:56.999Z"
   },
   {
    "duration": 29,
    "start_time": "2025-04-09T20:05:57.013Z"
   },
   {
    "duration": 2,
    "start_time": "2025-04-09T20:05:57.044Z"
   },
   {
    "duration": 3,
    "start_time": "2025-04-09T20:05:57.048Z"
   },
   {
    "duration": 4,
    "start_time": "2025-04-09T20:05:57.052Z"
   },
   {
    "duration": 3,
    "start_time": "2025-04-09T20:05:57.058Z"
   },
   {
    "duration": 4,
    "start_time": "2025-04-09T20:05:57.063Z"
   },
   {
    "duration": 18,
    "start_time": "2025-04-09T20:05:57.070Z"
   },
   {
    "duration": 43,
    "start_time": "2025-04-09T20:05:57.090Z"
   },
   {
    "duration": 16,
    "start_time": "2025-04-09T20:05:57.135Z"
   },
   {
    "duration": 44,
    "start_time": "2025-04-09T20:05:57.153Z"
   },
   {
    "duration": 70,
    "start_time": "2025-04-09T20:05:57.199Z"
   },
   {
    "duration": 41,
    "start_time": "2025-04-09T20:05:57.271Z"
   },
   {
    "duration": 18,
    "start_time": "2025-04-09T20:05:57.314Z"
   },
   {
    "duration": 3,
    "start_time": "2025-04-09T20:05:57.334Z"
   },
   {
    "duration": 8,
    "start_time": "2025-04-09T20:05:57.338Z"
   },
   {
    "duration": 5,
    "start_time": "2025-04-09T20:05:57.348Z"
   },
   {
    "duration": 9,
    "start_time": "2025-04-09T20:05:57.354Z"
   },
   {
    "duration": 9,
    "start_time": "2025-04-09T20:05:57.364Z"
   },
   {
    "duration": 2,
    "start_time": "2025-04-09T20:05:57.375Z"
   },
   {
    "duration": 14,
    "start_time": "2025-04-09T20:05:57.379Z"
   },
   {
    "duration": 45,
    "start_time": "2025-04-09T20:05:57.395Z"
   },
   {
    "duration": 12,
    "start_time": "2025-04-09T20:05:57.442Z"
   },
   {
    "duration": 13,
    "start_time": "2025-04-09T20:05:57.455Z"
   },
   {
    "duration": 14,
    "start_time": "2025-04-09T20:05:57.470Z"
   },
   {
    "duration": 44,
    "start_time": "2025-04-09T20:05:57.488Z"
   },
   {
    "duration": 177,
    "start_time": "2025-04-10T05:44:03.620Z"
   },
   {
    "duration": 11,
    "start_time": "2025-04-10T05:44:32.456Z"
   },
   {
    "duration": 307,
    "start_time": "2025-04-10T05:44:39.697Z"
   },
   {
    "duration": 111,
    "start_time": "2025-04-10T05:44:40.007Z"
   },
   {
    "duration": 13,
    "start_time": "2025-04-10T05:44:40.119Z"
   },
   {
    "duration": 24,
    "start_time": "2025-04-10T05:44:40.134Z"
   },
   {
    "duration": 3,
    "start_time": "2025-04-10T05:44:40.160Z"
   },
   {
    "duration": 3,
    "start_time": "2025-04-10T05:44:40.165Z"
   },
   {
    "duration": 4,
    "start_time": "2025-04-10T05:44:40.169Z"
   },
   {
    "duration": 4,
    "start_time": "2025-04-10T05:44:40.174Z"
   },
   {
    "duration": 3,
    "start_time": "2025-04-10T05:44:40.180Z"
   },
   {
    "duration": 47,
    "start_time": "2025-04-10T05:44:40.185Z"
   },
   {
    "duration": 10,
    "start_time": "2025-04-10T05:44:40.234Z"
   },
   {
    "duration": 17,
    "start_time": "2025-04-10T05:44:40.247Z"
   },
   {
    "duration": 65,
    "start_time": "2025-04-10T05:44:40.266Z"
   },
   {
    "duration": 49,
    "start_time": "2025-04-10T05:44:40.335Z"
   },
   {
    "duration": 63,
    "start_time": "2025-04-10T05:44:40.386Z"
   },
   {
    "duration": 7,
    "start_time": "2025-04-10T05:44:40.451Z"
   },
   {
    "duration": 3,
    "start_time": "2025-04-10T05:44:40.460Z"
   },
   {
    "duration": 8,
    "start_time": "2025-04-10T05:44:40.464Z"
   },
   {
    "duration": 6,
    "start_time": "2025-04-10T05:44:40.473Z"
   },
   {
    "duration": 9,
    "start_time": "2025-04-10T05:44:40.481Z"
   },
   {
    "duration": 42,
    "start_time": "2025-04-10T05:44:40.492Z"
   },
   {
    "duration": 4,
    "start_time": "2025-04-10T05:44:40.537Z"
   },
   {
    "duration": 14,
    "start_time": "2025-04-10T05:44:40.543Z"
   },
   {
    "duration": 11,
    "start_time": "2025-04-10T05:44:40.558Z"
   },
   {
    "duration": 12,
    "start_time": "2025-04-10T05:44:40.571Z"
   },
   {
    "duration": 11,
    "start_time": "2025-04-10T05:44:40.585Z"
   },
   {
    "duration": 47,
    "start_time": "2025-04-10T05:44:40.597Z"
   },
   {
    "duration": 11,
    "start_time": "2025-04-10T05:44:40.646Z"
   },
   {
    "duration": 8,
    "start_time": "2025-04-10T05:45:04.506Z"
   },
   {
    "duration": 6,
    "start_time": "2025-04-10T05:45:15.694Z"
   },
   {
    "duration": 177,
    "start_time": "2025-04-10T05:46:13.688Z"
   },
   {
    "duration": 6,
    "start_time": "2025-04-10T05:46:33.324Z"
   },
   {
    "duration": 5,
    "start_time": "2025-04-10T05:47:27.315Z"
   },
   {
    "duration": 290,
    "start_time": "2025-04-10T05:48:47.301Z"
   },
   {
    "duration": 96,
    "start_time": "2025-04-10T05:48:47.593Z"
   },
   {
    "duration": 11,
    "start_time": "2025-04-10T05:48:47.691Z"
   },
   {
    "duration": 32,
    "start_time": "2025-04-10T05:48:47.706Z"
   },
   {
    "duration": 3,
    "start_time": "2025-04-10T05:48:47.740Z"
   },
   {
    "duration": 3,
    "start_time": "2025-04-10T05:48:47.745Z"
   },
   {
    "duration": 3,
    "start_time": "2025-04-10T05:48:47.750Z"
   },
   {
    "duration": 4,
    "start_time": "2025-04-10T05:48:47.754Z"
   },
   {
    "duration": 4,
    "start_time": "2025-04-10T05:48:47.759Z"
   },
   {
    "duration": 17,
    "start_time": "2025-04-10T05:48:47.766Z"
   },
   {
    "duration": 47,
    "start_time": "2025-04-10T05:48:47.785Z"
   },
   {
    "duration": 19,
    "start_time": "2025-04-10T05:48:47.834Z"
   },
   {
    "duration": 46,
    "start_time": "2025-04-10T05:48:47.855Z"
   },
   {
    "duration": 69,
    "start_time": "2025-04-10T05:48:47.903Z"
   },
   {
    "duration": 57,
    "start_time": "2025-04-10T05:48:47.974Z"
   },
   {
    "duration": 5,
    "start_time": "2025-04-10T05:48:48.033Z"
   },
   {
    "duration": 2,
    "start_time": "2025-04-10T05:48:48.040Z"
   },
   {
    "duration": 7,
    "start_time": "2025-04-10T05:48:48.044Z"
   },
   {
    "duration": 5,
    "start_time": "2025-04-10T05:48:48.053Z"
   },
   {
    "duration": 9,
    "start_time": "2025-04-10T05:48:48.059Z"
   },
   {
    "duration": 8,
    "start_time": "2025-04-10T05:48:48.069Z"
   },
   {
    "duration": 2,
    "start_time": "2025-04-10T05:48:48.079Z"
   },
   {
    "duration": 15,
    "start_time": "2025-04-10T05:48:48.083Z"
   },
   {
    "duration": 41,
    "start_time": "2025-04-10T05:48:48.100Z"
   },
   {
    "duration": 12,
    "start_time": "2025-04-10T05:48:48.143Z"
   },
   {
    "duration": 11,
    "start_time": "2025-04-10T05:48:48.156Z"
   },
   {
    "duration": 12,
    "start_time": "2025-04-10T05:48:48.169Z"
   },
   {
    "duration": 55,
    "start_time": "2025-04-10T05:48:48.184Z"
   },
   {
    "duration": 173,
    "start_time": "2025-04-10T05:49:32.158Z"
   },
   {
    "duration": 272,
    "start_time": "2025-04-10T05:50:17.604Z"
   },
   {
    "duration": 95,
    "start_time": "2025-04-10T05:50:17.878Z"
   },
   {
    "duration": 14,
    "start_time": "2025-04-10T05:50:17.974Z"
   },
   {
    "duration": 22,
    "start_time": "2025-04-10T05:50:17.990Z"
   },
   {
    "duration": 18,
    "start_time": "2025-04-10T05:50:18.014Z"
   },
   {
    "duration": 4,
    "start_time": "2025-04-10T05:50:18.033Z"
   },
   {
    "duration": 2,
    "start_time": "2025-04-10T05:50:18.039Z"
   },
   {
    "duration": 3,
    "start_time": "2025-04-10T05:50:18.043Z"
   },
   {
    "duration": 4,
    "start_time": "2025-04-10T05:50:18.048Z"
   },
   {
    "duration": 16,
    "start_time": "2025-04-10T05:50:18.055Z"
   },
   {
    "duration": 9,
    "start_time": "2025-04-10T05:50:18.073Z"
   },
   {
    "duration": 51,
    "start_time": "2025-04-10T05:50:18.084Z"
   },
   {
    "duration": 45,
    "start_time": "2025-04-10T05:50:18.137Z"
   },
   {
    "duration": 60,
    "start_time": "2025-04-10T05:50:18.184Z"
   },
   {
    "duration": 38,
    "start_time": "2025-04-10T05:50:18.246Z"
   },
   {
    "duration": 5,
    "start_time": "2025-04-10T05:50:18.286Z"
   },
   {
    "duration": 2,
    "start_time": "2025-04-10T05:50:18.294Z"
   },
   {
    "duration": 8,
    "start_time": "2025-04-10T05:50:18.298Z"
   },
   {
    "duration": 25,
    "start_time": "2025-04-10T05:50:18.308Z"
   },
   {
    "duration": 8,
    "start_time": "2025-04-10T05:50:18.335Z"
   },
   {
    "duration": 9,
    "start_time": "2025-04-10T05:50:18.344Z"
   },
   {
    "duration": 3,
    "start_time": "2025-04-10T05:50:18.354Z"
   },
   {
    "duration": 13,
    "start_time": "2025-04-10T05:50:18.358Z"
   },
   {
    "duration": 11,
    "start_time": "2025-04-10T05:50:18.373Z"
   },
   {
    "duration": 52,
    "start_time": "2025-04-10T05:50:18.385Z"
   },
   {
    "duration": 10,
    "start_time": "2025-04-10T05:50:18.438Z"
   },
   {
    "duration": 13,
    "start_time": "2025-04-10T05:50:18.449Z"
   },
   {
    "duration": 12,
    "start_time": "2025-04-10T05:50:18.465Z"
   },
   {
    "duration": 288,
    "start_time": "2025-04-10T05:53:25.490Z"
   },
   {
    "duration": 105,
    "start_time": "2025-04-10T05:53:25.781Z"
   },
   {
    "duration": 13,
    "start_time": "2025-04-10T05:53:25.888Z"
   },
   {
    "duration": 31,
    "start_time": "2025-04-10T05:53:25.904Z"
   },
   {
    "duration": 3,
    "start_time": "2025-04-10T05:53:25.937Z"
   },
   {
    "duration": 3,
    "start_time": "2025-04-10T05:53:25.942Z"
   },
   {
    "duration": 4,
    "start_time": "2025-04-10T05:53:25.946Z"
   },
   {
    "duration": 4,
    "start_time": "2025-04-10T05:53:25.951Z"
   },
   {
    "duration": 4,
    "start_time": "2025-04-10T05:53:25.957Z"
   },
   {
    "duration": 19,
    "start_time": "2025-04-10T05:53:25.964Z"
   },
   {
    "duration": 48,
    "start_time": "2025-04-10T05:53:25.984Z"
   },
   {
    "duration": 22,
    "start_time": "2025-04-10T05:53:26.033Z"
   },
   {
    "duration": 46,
    "start_time": "2025-04-10T05:53:26.057Z"
   },
   {
    "duration": 70,
    "start_time": "2025-04-10T05:53:26.104Z"
   },
   {
    "duration": 39,
    "start_time": "2025-04-10T05:53:26.175Z"
   },
   {
    "duration": 24,
    "start_time": "2025-04-10T05:53:26.217Z"
   },
   {
    "duration": 3,
    "start_time": "2025-04-10T05:53:26.243Z"
   },
   {
    "duration": 8,
    "start_time": "2025-04-10T05:53:26.249Z"
   },
   {
    "duration": 7,
    "start_time": "2025-04-10T05:53:26.261Z"
   },
   {
    "duration": 11,
    "start_time": "2025-04-10T05:53:26.271Z"
   },
   {
    "duration": 9,
    "start_time": "2025-04-10T05:53:26.284Z"
   },
   {
    "duration": 3,
    "start_time": "2025-04-10T05:53:26.295Z"
   },
   {
    "duration": 16,
    "start_time": "2025-04-10T05:53:26.332Z"
   },
   {
    "duration": 12,
    "start_time": "2025-04-10T05:53:26.351Z"
   },
   {
    "duration": 15,
    "start_time": "2025-04-10T05:53:26.365Z"
   },
   {
    "duration": 13,
    "start_time": "2025-04-10T05:53:26.382Z"
   },
   {
    "duration": 40,
    "start_time": "2025-04-10T05:53:26.396Z"
   },
   {
    "duration": 12,
    "start_time": "2025-04-10T05:53:26.441Z"
   }
  ],
  "colab": {
   "collapsed_sections": [
    "E0vqbgi9ay0H",
    "VUC88oWjTJw2"
   ],
   "provenance": []
  },
  "kernelspec": {
   "display_name": "Python 3",
   "language": "python",
   "name": "python3"
  },
  "language_info": {
   "codemirror_mode": {
    "name": "ipython",
    "version": 3
   },
   "file_extension": ".py",
   "mimetype": "text/x-python",
   "name": "python",
   "nbconvert_exporter": "python",
   "pygments_lexer": "ipython3",
   "version": "3.13.3"
  },
  "toc": {
   "base_numbering": 1,
   "nav_menu": {},
   "number_sections": true,
   "sideBar": true,
   "skip_h1_title": true,
   "title_cell": "Table of Contents",
   "title_sidebar": "Contents",
   "toc_cell": false,
   "toc_position": {},
   "toc_section_display": true,
   "toc_window_display": false
  }
 },
 "nbformat": 4,
 "nbformat_minor": 1
}
